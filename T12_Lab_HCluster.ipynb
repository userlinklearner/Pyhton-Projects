{
  "nbformat": 4,
  "nbformat_minor": 0,
  "metadata": {
    "anaconda-cloud": {},
    "kernelspec": {
      "display_name": "Python 3",
      "language": "python",
      "name": "python3"
    },
    "language_info": {
      "codemirror_mode": {
        "name": "ipython",
        "version": 3
      },
      "file_extension": ".py",
      "mimetype": "text/x-python",
      "name": "python",
      "nbconvert_exporter": "python",
      "pygments_lexer": "ipython3",
      "version": "3.7.4"
    },
    "colab": {
      "name": "T12_Lab_HCluster.ipynb",
      "provenance": [],
      "collapsed_sections": [],
      "include_colab_link": true
    }
  },
  "cells": [
    {
      "cell_type": "markdown",
      "metadata": {
        "id": "view-in-github",
        "colab_type": "text"
      },
      "source": [
        "<a href=\"https://colab.research.google.com/github/userlinklearner/Pyhton-Projects/blob/main/T12_Lab_HCluster.ipynb\" target=\"_parent\"><img src=\"https://colab.research.google.com/assets/colab-badge.svg\" alt=\"Open In Colab\"/></a>"
      ]
    },
    {
      "cell_type": "markdown",
      "metadata": {
        "id": "gglUriLmo1sR"
      },
      "source": [
        "<head>\n",
        "  <meta name=\"author\" content=\"Rogério de Oliveira\">\n",
        "  <meta institution=\"author\" content=\"Universidade Presbiteriana Mackenzie\">\n",
        "</head>\n",
        "\n",
        "<img src=\"http://meusite.mackenzie.br/rogerio/mackenzie_logo/UPM.2_horizontal_vermelho.jpg\" width=300, align=\"right\">\n",
        "<!-- <h1 align=left><font size = 6, style=\"color:rgb(200,0,0)\"> optional title </font></h1> -->"
      ]
    },
    {
      "cell_type": "markdown",
      "metadata": {
        "id": "-G7aCMh4r9y1"
      },
      "source": [
        "<h1 align=left><font size = 6, style=\"color:rgb(200,0,0)\">T12 Lab</font></h1>\n",
        "<hr>"
      ]
    },
    {
      "cell_type": "markdown",
      "metadata": {
        "id": "E5G7_tRFiot6"
      },
      "source": [
        "# **Clusterização Hierárquica**"
      ]
    },
    {
      "cell_type": "markdown",
      "metadata": {
        "id": "Nwc841zCi51L"
      },
      "source": [
        "# Recordando a Teoria\n",
        "\n",
        "Reveja aqui o processo complete o Clusterização Hierárquica.\n",
        "\n",
        "```\n",
        "# Define os dados do modelo\n",
        "X = df[...]\n",
        "\n",
        "# Normalização e outras preparações dos dados \n",
        "from sklearn.preprocessing import normalize \n",
        "X = normalize(X)\n",
        "\n",
        "# Avalia o número de agrupamentos desejado\n",
        "from sklearn.cluster import AgglomerativeClustering\n",
        "\n",
        "for n_clusters in range(2,8):\n",
        "  clf = AgglomerativeClustering(n_clusters=n_clusters, affinity='euclidean', linkage='ward')  \n",
        "  clf.fit_predict(X)\n",
        "  labels = clf.labels_\n",
        "  print('Média do valor de Silhouette para ', n_clusters , ' clusters: ', metrics.silhouette_score(X, labels, metric='euclidean'))\n",
        "\n",
        "# Faz a clusterização selecionada\n",
        "\n",
        "## Declara o modelo\n",
        "clf = AgglomerativeClustering(n_clusters=2, affinity='euclidean', linkage='ward')  \n",
        "\n",
        "## 'Treina' o modelo\n",
        "clf.fit(X)\n",
        "\n",
        "# Resultados\n",
        "labels = clf.labels_\n",
        "print(labels)\n",
        "\n",
        "# Associando os dados\n",
        "df['cluster'] = labels\n",
        "print(df.head())\n",
        "```"
      ]
    },
    {
      "cell_type": "markdown",
      "metadata": {
        "_uuid": "9dd9e07c590ca22f0c525222f60f0ebff4e092c6",
        "id": "kIr_4QzOlOOo"
      },
      "source": [
        "# Caso: **Airbnb NYC 2019** \n",
        "\n",
        "Neste data set você encontra dados do Airbnb de NYC de 2019. Explore os dados e em seguida faça uma clusterização dos imóveis com base nos atributos numérico e o tipo de apartamento (`room_type`).\n",
        "\n",
        "https://meusite.mackenzie.br/rogerio/TIC/AB_NYC_2019_TIC.csv\n",
        "\n",
        "# **IMPORTANTE** Para o questionário\n",
        "\n",
        "Em sala empregaremos a versão reduzida do arquivo. Para responder o questionário empregue a versão estendida (sem o `_TIC` no final).\n",
        "\n",
        "https://meusite.mackenzie.br/rogerio/TIC/AB_NYC_2019.csv\n",
        "\n"
      ]
    },
    {
      "cell_type": "markdown",
      "metadata": {
        "id": "QT-VfSUZjmlG"
      },
      "source": [
        "# Exercício. Acesse e Explore os dados"
      ]
    },
    {
      "cell_type": "code",
      "metadata": {
        "id": "zPYeoP83sXy7",
        "colab": {
          "base_uri": "https://localhost:8080/",
          "height": 495
        },
        "outputId": "f754a164-8b60-4c25-d4b8-325a044d194c"
      },
      "source": [
        "# Seu Código\n",
        "import numpy as np\n",
        "import pandas as pd\n",
        "\n",
        "df = pd.read_csv('http://meusite.mackenzie.br/rogerio/TIC/AB_NYC_2019_TIC.csv') \n",
        "df.head()\n",
        "\n"
      ],
      "execution_count": null,
      "outputs": [
        {
          "output_type": "execute_result",
          "data": {
            "text/html": [
              "<div>\n",
              "<style scoped>\n",
              "    .dataframe tbody tr th:only-of-type {\n",
              "        vertical-align: middle;\n",
              "    }\n",
              "\n",
              "    .dataframe tbody tr th {\n",
              "        vertical-align: top;\n",
              "    }\n",
              "\n",
              "    .dataframe thead th {\n",
              "        text-align: right;\n",
              "    }\n",
              "</style>\n",
              "<table border=\"1\" class=\"dataframe\">\n",
              "  <thead>\n",
              "    <tr style=\"text-align: right;\">\n",
              "      <th></th>\n",
              "      <th>id</th>\n",
              "      <th>name</th>\n",
              "      <th>host_id</th>\n",
              "      <th>host_name</th>\n",
              "      <th>neighbourhood_group</th>\n",
              "      <th>neighbourhood</th>\n",
              "      <th>latitude</th>\n",
              "      <th>longitude</th>\n",
              "      <th>room_type</th>\n",
              "      <th>price</th>\n",
              "      <th>minimum_nights</th>\n",
              "      <th>number_of_reviews</th>\n",
              "      <th>last_review</th>\n",
              "      <th>reviews_per_month</th>\n",
              "      <th>calculated_host_listings_count</th>\n",
              "      <th>availability_365</th>\n",
              "    </tr>\n",
              "  </thead>\n",
              "  <tbody>\n",
              "    <tr>\n",
              "      <th>0</th>\n",
              "      <td>20913</td>\n",
              "      <td>Charming 1 bed GR8 WBurg LOCATION!</td>\n",
              "      <td>79402</td>\n",
              "      <td>Christiana</td>\n",
              "      <td>Brooklyn</td>\n",
              "      <td>Williamsburg</td>\n",
              "      <td>40.70984</td>\n",
              "      <td>-73.95775</td>\n",
              "      <td>Entire home/apt</td>\n",
              "      <td>100</td>\n",
              "      <td>5</td>\n",
              "      <td>168</td>\n",
              "      <td>2018-07-22</td>\n",
              "      <td>1.57</td>\n",
              "      <td>1</td>\n",
              "      <td>0</td>\n",
              "    </tr>\n",
              "    <tr>\n",
              "      <th>1</th>\n",
              "      <td>25235</td>\n",
              "      <td>Large 2 Bedroom Great for Groups!</td>\n",
              "      <td>87773</td>\n",
              "      <td>Shelly</td>\n",
              "      <td>Brooklyn</td>\n",
              "      <td>Bedford-Stuyvesant</td>\n",
              "      <td>40.68373</td>\n",
              "      <td>-73.92377</td>\n",
              "      <td>Entire home/apt</td>\n",
              "      <td>125</td>\n",
              "      <td>90</td>\n",
              "      <td>162</td>\n",
              "      <td>2019-06-28</td>\n",
              "      <td>1.46</td>\n",
              "      <td>2</td>\n",
              "      <td>137</td>\n",
              "    </tr>\n",
              "    <tr>\n",
              "      <th>2</th>\n",
              "      <td>76761</td>\n",
              "      <td>Eveland the Place to Stay &amp; Enjoy a 5-⭐️ 2bdrm</td>\n",
              "      <td>118971</td>\n",
              "      <td>Evelyn</td>\n",
              "      <td>Brooklyn</td>\n",
              "      <td>South Slope</td>\n",
              "      <td>40.66552</td>\n",
              "      <td>-73.99019</td>\n",
              "      <td>Entire home/apt</td>\n",
              "      <td>169</td>\n",
              "      <td>2</td>\n",
              "      <td>398</td>\n",
              "      <td>2019-06-28</td>\n",
              "      <td>3.97</td>\n",
              "      <td>3</td>\n",
              "      <td>182</td>\n",
              "    </tr>\n",
              "    <tr>\n",
              "      <th>3</th>\n",
              "      <td>135465</td>\n",
              "      <td>Garden apartment close to Manhattan</td>\n",
              "      <td>663879</td>\n",
              "      <td>Christopher</td>\n",
              "      <td>Brooklyn</td>\n",
              "      <td>Fort Greene</td>\n",
              "      <td>40.68626</td>\n",
              "      <td>-73.97598</td>\n",
              "      <td>Entire home/apt</td>\n",
              "      <td>170</td>\n",
              "      <td>3</td>\n",
              "      <td>86</td>\n",
              "      <td>2019-06-20</td>\n",
              "      <td>0.91</td>\n",
              "      <td>2</td>\n",
              "      <td>286</td>\n",
              "    </tr>\n",
              "    <tr>\n",
              "      <th>4</th>\n",
              "      <td>169002</td>\n",
              "      <td>Modern Space in Charming Pre-war</td>\n",
              "      <td>805344</td>\n",
              "      <td>Alec</td>\n",
              "      <td>Manhattan</td>\n",
              "      <td>Harlem</td>\n",
              "      <td>40.82411</td>\n",
              "      <td>-73.94934</td>\n",
              "      <td>Private room</td>\n",
              "      <td>65</td>\n",
              "      <td>2</td>\n",
              "      <td>41</td>\n",
              "      <td>2019-06-16</td>\n",
              "      <td>0.43</td>\n",
              "      <td>2</td>\n",
              "      <td>59</td>\n",
              "    </tr>\n",
              "  </tbody>\n",
              "</table>\n",
              "</div>"
            ],
            "text/plain": [
              "       id  ... availability_365\n",
              "0   20913  ...                0\n",
              "1   25235  ...              137\n",
              "2   76761  ...              182\n",
              "3  135465  ...              286\n",
              "4  169002  ...               59\n",
              "\n",
              "[5 rows x 16 columns]"
            ]
          },
          "metadata": {
            "tags": []
          },
          "execution_count": 1
        }
      ]
    },
    {
      "cell_type": "code",
      "metadata": {
        "colab": {
          "base_uri": "https://localhost:8080/"
        },
        "id": "0QRRZ4mnuspc",
        "outputId": "b5b7ae8d-e1cd-420d-d3c0-60a7ad630739"
      },
      "source": [
        "df.iloc[0]"
      ],
      "execution_count": null,
      "outputs": [
        {
          "output_type": "execute_result",
          "data": {
            "text/plain": [
              "id                                                             20913\n",
              "name                              Charming 1 bed GR8 WBurg LOCATION!\n",
              "host_id                                                        79402\n",
              "host_name                                                 Christiana\n",
              "neighbourhood_group                                         Brooklyn\n",
              "neighbourhood                                           Williamsburg\n",
              "latitude                                                     40.7098\n",
              "longitude                                                   -73.9578\n",
              "room_type                                            Entire home/apt\n",
              "price                                                            100\n",
              "minimum_nights                                                     5\n",
              "number_of_reviews                                                168\n",
              "last_review                                               2018-07-22\n",
              "reviews_per_month                                               1.57\n",
              "calculated_host_listings_count                                     1\n",
              "availability_365                                                   0\n",
              "Name: 0, dtype: object"
            ]
          },
          "metadata": {
            "tags": []
          },
          "execution_count": 2
        }
      ]
    },
    {
      "cell_type": "code",
      "metadata": {
        "colab": {
          "base_uri": "https://localhost:8080/"
        },
        "id": "xEemp7R8u8yT",
        "outputId": "a249c3b4-3b05-4415-b5ed-375bed9a32ef"
      },
      "source": [
        "df.shape"
      ],
      "execution_count": null,
      "outputs": [
        {
          "output_type": "execute_result",
          "data": {
            "text/plain": [
              "(628, 20)"
            ]
          },
          "metadata": {
            "tags": []
          },
          "execution_count": 19
        }
      ]
    },
    {
      "cell_type": "markdown",
      "metadata": {
        "id": "ritfez27juHZ"
      },
      "source": [
        "# Exercício. Verifique a presença de Nulos\n",
        "\n",
        "Verifique se existem dados nulos e, em caso positivos, opte por eliminar esses casos.\n",
        "\n",
        "DICA: `isna()`, `dropna()`"
      ]
    },
    {
      "cell_type": "code",
      "metadata": {
        "id": "MwUiygvBbz9N",
        "colab": {
          "base_uri": "https://localhost:8080/"
        },
        "outputId": "e8999cb3-5672-4f69-df8e-751d5bc3cd44"
      },
      "source": [
        "# Seu Código\n",
        "df.isna().sum()"
      ],
      "execution_count": null,
      "outputs": [
        {
          "output_type": "execute_result",
          "data": {
            "text/plain": [
              "id                                  0\n",
              "name                                1\n",
              "host_id                             0\n",
              "host_name                           0\n",
              "neighbourhood_group                 0\n",
              "neighbourhood                       0\n",
              "latitude                            0\n",
              "longitude                           0\n",
              "room_type                           0\n",
              "price                               0\n",
              "minimum_nights                      0\n",
              "number_of_reviews                   0\n",
              "last_review                       176\n",
              "reviews_per_month                 176\n",
              "calculated_host_listings_count      0\n",
              "availability_365                    0\n",
              "dtype: int64"
            ]
          },
          "metadata": {
            "tags": []
          },
          "execution_count": 4
        }
      ]
    },
    {
      "cell_type": "code",
      "metadata": {
        "id": "1qMSXBpivw_g"
      },
      "source": [
        "df = df.dropna()"
      ],
      "execution_count": null,
      "outputs": []
    },
    {
      "cell_type": "markdown",
      "metadata": {
        "id": "slIypTLEj_rV"
      },
      "source": [
        "# Exercício. Faça o Hot Encode de `room_type`\n",
        "\n",
        "Verifique os valores de `room_type` e faça o *Hot Encode* do atributos. Você pode querer mudar o nome dos atributos ao final. Para isso empregue o `rename`.\n",
        "\n",
        "DICAS:\n",
        "```\n",
        "# Hot encode\n",
        "dummies = pd.get_dummies(df.<atributo>,prefix='<prefix>')\n",
        "df = pd.concat([df, dummies],axis=1)\n",
        "\n",
        "# Rename Columns\n",
        "df.rename(columns={'antes1':'depois1', 'antes2':'depois'},inplace=True)\n",
        "```"
      ]
    },
    {
      "cell_type": "code",
      "metadata": {
        "colab": {
          "base_uri": "https://localhost:8080/"
        },
        "id": "tMW0raVcx06V",
        "outputId": "51358398-c6d8-4be6-ea08-902e9e520fbf"
      },
      "source": [
        "df.room_type.value_counts()"
      ],
      "execution_count": null,
      "outputs": [
        {
          "output_type": "execute_result",
          "data": {
            "text/plain": [
              "Entire home/apt    337\n",
              "Private room       276\n",
              "Shared room         15\n",
              "Name: room_type, dtype: int64"
            ]
          },
          "metadata": {
            "tags": []
          },
          "execution_count": 6
        }
      ]
    },
    {
      "cell_type": "code",
      "metadata": {
        "id": "FsMyLNPIchPo"
      },
      "source": [
        "# Seu Código\n",
        "dummies = pd.get_dummies(df.room_type,prefix='room_type')\n",
        "df = pd.concat([df, dummies],axis=1)\n"
      ],
      "execution_count": null,
      "outputs": []
    },
    {
      "cell_type": "code",
      "metadata": {
        "colab": {
          "base_uri": "https://localhost:8080/"
        },
        "id": "TPa1hkN7y7z4",
        "outputId": "620edd07-10dc-4f75-fe2d-cd94511195f5"
      },
      "source": [
        "df.columns "
      ],
      "execution_count": null,
      "outputs": [
        {
          "output_type": "execute_result",
          "data": {
            "text/plain": [
              "Index(['id', 'name', 'host_id', 'host_name', 'neighbourhood_group',\n",
              "       'neighbourhood', 'latitude', 'longitude', 'room_type', 'price',\n",
              "       'minimum_nights', 'number_of_reviews', 'last_review',\n",
              "       'reviews_per_month', 'calculated_host_listings_count',\n",
              "       'availability_365', 'room_type_Entire home/apt',\n",
              "       'room_type_Private room', 'room_type_Shared room'],\n",
              "      dtype='object')"
            ]
          },
          "metadata": {
            "tags": []
          },
          "execution_count": 8
        }
      ]
    },
    {
      "cell_type": "code",
      "metadata": {
        "id": "FBMDnh9QyWMi"
      },
      "source": [
        "df.rename(columns={'room_type_Entire home/apt':'rtype_entire', 'room_type_Private room':'rtype_private',\n",
        "       'room_type_Shared room':'rtype_shared'},inplace=True)"
      ],
      "execution_count": null,
      "outputs": []
    },
    {
      "cell_type": "code",
      "metadata": {
        "colab": {
          "base_uri": "https://localhost:8080/"
        },
        "id": "wy3k-HDGyA-p",
        "outputId": "fc85f5c2-a0c6-49e1-c3e5-7fbfb3e495e0"
      },
      "source": [
        "df.iloc[0]"
      ],
      "execution_count": null,
      "outputs": [
        {
          "output_type": "execute_result",
          "data": {
            "text/plain": [
              "id                                                             20913\n",
              "name                              Charming 1 bed GR8 WBurg LOCATION!\n",
              "host_id                                                        79402\n",
              "host_name                                                 Christiana\n",
              "neighbourhood_group                                         Brooklyn\n",
              "neighbourhood                                           Williamsburg\n",
              "latitude                                                     40.7098\n",
              "longitude                                                   -73.9578\n",
              "room_type                                            Entire home/apt\n",
              "price                                                            100\n",
              "minimum_nights                                                     5\n",
              "number_of_reviews                                                168\n",
              "last_review                                               2018-07-22\n",
              "reviews_per_month                                               1.57\n",
              "calculated_host_listings_count                                     1\n",
              "availability_365                                                   0\n",
              "rtype_entire                                                       1\n",
              "rtype_private                                                      0\n",
              "rtype_shared                                                       0\n",
              "Name: 0, dtype: object"
            ]
          },
          "metadata": {
            "tags": []
          },
          "execution_count": 10
        }
      ]
    },
    {
      "cell_type": "markdown",
      "metadata": {
        "id": "kTCWwJ8WlMKx"
      },
      "source": [
        "# Exercício. Defina a entrada `X`\n",
        "\n",
        "Defina a entrada `X` somente com os atributos de interesse (valores numéricos e o *hot encode* de `room_type`)."
      ]
    },
    {
      "cell_type": "code",
      "metadata": {
        "colab": {
          "base_uri": "https://localhost:8080/"
        },
        "id": "b517wMjpzz4S",
        "outputId": "57c27d72-1811-49b0-d1b2-cd6ba71ec2d3"
      },
      "source": [
        "df.columns"
      ],
      "execution_count": null,
      "outputs": [
        {
          "output_type": "execute_result",
          "data": {
            "text/plain": [
              "Index(['id', 'name', 'host_id', 'host_name', 'neighbourhood_group',\n",
              "       'neighbourhood', 'latitude', 'longitude', 'room_type', 'price',\n",
              "       'minimum_nights', 'number_of_reviews', 'last_review',\n",
              "       'reviews_per_month', 'calculated_host_listings_count',\n",
              "       'availability_365', 'rtype_entire', 'rtype_private', 'rtype_shared'],\n",
              "      dtype='object')"
            ]
          },
          "metadata": {
            "tags": []
          },
          "execution_count": 11
        }
      ]
    },
    {
      "cell_type": "code",
      "metadata": {
        "id": "z9ssPeB7ehWc"
      },
      "source": [
        "# Seu Código\n",
        "X = df[['latitude', 'longitude','price',\n",
        "       'minimum_nights', 'number_of_reviews', \n",
        "       'reviews_per_month', 'calculated_host_listings_count',\n",
        "       'availability_365', 'rtype_entire', 'rtype_private', 'rtype_shared']]\n"
      ],
      "execution_count": null,
      "outputs": []
    },
    {
      "cell_type": "code",
      "metadata": {
        "colab": {
          "base_uri": "https://localhost:8080/"
        },
        "id": "9H6Vymz92V3Z",
        "outputId": "7daae6b4-acfc-49e7-8504-9faaaa6396a6"
      },
      "source": [
        "X.shape"
      ],
      "execution_count": null,
      "outputs": [
        {
          "output_type": "execute_result",
          "data": {
            "text/plain": [
              "(628, 11)"
            ]
          },
          "metadata": {
            "tags": []
          },
          "execution_count": 14
        }
      ]
    },
    {
      "cell_type": "markdown",
      "metadata": {
        "id": "ZBX27Gews1Di"
      },
      "source": [
        "# Exercício. Normalize os dados \n",
        "\n",
        "Vamos empregar o `normalize`. "
      ]
    },
    {
      "cell_type": "code",
      "metadata": {
        "id": "itkiet2bszun"
      },
      "source": [
        "# Seu Código\n",
        "from sklearn.preprocessing import normalize \n",
        "X = normalize(X)\n"
      ],
      "execution_count": null,
      "outputs": []
    },
    {
      "cell_type": "code",
      "metadata": {
        "colab": {
          "base_uri": "https://localhost:8080/"
        },
        "id": "zdIUq-Qi2iC3",
        "outputId": "672d12fa-f542-4d3e-9175-bcedd125a41c"
      },
      "source": [
        "X"
      ],
      "execution_count": null,
      "outputs": [
        {
          "output_type": "execute_result",
          "data": {
            "text/plain": [
              "array([[ 0.19110178, -0.34717547,  0.46942405, ...,  0.00469424,\n",
              "         0.        ,  0.        ],\n",
              "       [ 0.14770662, -0.26838814,  0.45382584, ...,  0.00363061,\n",
              "         0.        ,  0.        ],\n",
              "       [ 0.08530554, -0.15521192,  0.35451746, ...,  0.00209774,\n",
              "         0.        ,  0.        ],\n",
              "       ...,\n",
              "       [ 0.20521076, -0.37269031,  0.37813894, ...,  0.00504185,\n",
              "         0.        ,  0.        ],\n",
              "       [ 0.09073109, -0.16470913,  0.623243  , ...,  0.00222587,\n",
              "         0.        ,  0.        ],\n",
              "       [ 0.16809573, -0.30459933,  0.32957355, ...,  0.        ,\n",
              "         0.00411967,  0.        ]])"
            ]
          },
          "metadata": {
            "tags": []
          },
          "execution_count": 16
        }
      ]
    },
    {
      "cell_type": "markdown",
      "metadata": {
        "id": "YeiT9oXumyn8"
      },
      "source": [
        "# Exercício. Selecione o número de Clusters\n",
        "\n",
        "Empregue a Clusterização Hierárquica Aglomerativa, com distência Euclidiana e `linkage='ward'`. Você vai então verificar a métrica `Siclhouette`.\n",
        "\n",
        "\n"
      ]
    },
    {
      "cell_type": "code",
      "metadata": {
        "id": "9VXrPRA7mQGl",
        "colab": {
          "base_uri": "https://localhost:8080/"
        },
        "outputId": "2e693cfc-8db1-4da4-ad63-935bb2c1d90a"
      },
      "source": [
        "from sklearn.cluster import AgglomerativeClustering\n",
        "from sklearn import metrics\n",
        "\n",
        "# Seu Código\n",
        "for n_clusters in range(2,12):\n",
        "  cluster = AgglomerativeClustering(n_clusters=n_clusters, affinity='euclidean', linkage='ward')  \n",
        "  cluster.fit_predict(X)\n",
        "  labels = cluster.labels_\n",
        "  print('Média do valor de Silhouette para ', n_clusters , ' clusters: ', metrics.silhouette_score(X, labels, metric='euclidean'))"
      ],
      "execution_count": null,
      "outputs": [
        {
          "output_type": "stream",
          "text": [
            "Média do valor de Silhouette para  2  clusters:  0.46534861846037073\n",
            "Média do valor de Silhouette para  3  clusters:  0.3851541464384164\n",
            "Média do valor de Silhouette para  4  clusters:  0.31691198977245194\n",
            "Média do valor de Silhouette para  5  clusters:  0.35358948134228435\n",
            "Média do valor de Silhouette para  6  clusters:  0.33991677055642056\n",
            "Média do valor de Silhouette para  7  clusters:  0.34147732758150195\n",
            "Média do valor de Silhouette para  8  clusters:  0.3324090459885509\n",
            "Média do valor de Silhouette para  9  clusters:  0.3070879474844812\n",
            "Média do valor de Silhouette para  10  clusters:  0.3135447532515795\n",
            "Média do valor de Silhouette para  11  clusters:  0.31439026277313087\n"
          ],
          "name": "stdout"
        }
      ]
    },
    {
      "cell_type": "markdown",
      "metadata": {
        "id": "-GtunBXWnF1P"
      },
      "source": [
        "# Exercício. Clusterize os dados para o número de Clusters Selecionado\n",
        "\n",
        "Exiba os rótulos (labels) gerados. Adicione então os labels ao dataframe original em uma nova coluna `cluster`."
      ]
    },
    {
      "cell_type": "code",
      "metadata": {
        "id": "1srfzIVBqv7y",
        "colab": {
          "base_uri": "https://localhost:8080/"
        },
        "outputId": "e8b58106-81b0-4374-e60b-f6e5ba41a842"
      },
      "source": [
        "from sklearn.cluster import AgglomerativeClustering\n",
        "## Declara o modelo\n",
        "clf = AgglomerativeClustering(n_clusters=2, affinity='euclidean', linkage='ward')  \n",
        " \n",
        "## 'Treina' o modelo\n",
        "clf.fit(X)\n",
        " \n",
        "# Resultados\n",
        "labels = clf.labels_\n",
        "print(labels)\n",
        " \n",
        "# Associando os dados\n",
        "df['cluster'] = labels\n",
        "print(df.head())\n",
        "\n"
      ],
      "execution_count": null,
      "outputs": [
        {
          "output_type": "stream",
          "text": [
            "[0 0 0 1 1 1 1 1 0 0 1 1 1 1 0 1 1 0 1 1 0 0 0 0 1 0 0 1 1 1 0 0 1 0 0 0 0\n",
            " 1 1 0 1 1 1 1 1 1 0 1 1 1 1 1 0 0 0 0 0 1 0 1 0 0 1 1 1 0 1 1 1 0 1 1 0 0\n",
            " 0 0 1 1 0 1 1 0 0 0 0 1 1 1 0 0 0 0 1 1 1 0 1 1 1 1 1 1 0 1 1 0 0 0 0 0 1\n",
            " 0 0 0 0 0 0 0 0 0 0 1 0 0 0 0 0 0 0 0 0 1 0 0 0 0 1 0 0 0 0 0 0 1 1 0 0 1\n",
            " 0 0 1 1 0 0 1 0 0 1 1 0 0 0 0 0 1 0 0 0 0 0 1 0 0 0 0 1 1 1 1 1 0 1 1 1 0\n",
            " 0 0 1 0 1 0 1 1 1 1 1 0 0 0 0 0 0 0 1 0 0 1 1 1 1 1 0 0 1 0 1 0 0 0 0 0 1\n",
            " 0 1 1 1 1 1 1 0 0 0 0 1 0 0 0 1 0 0 1 1 0 0 0 1 0 0 1 0 1 0 0 1 0 0 1 0 0\n",
            " 1 0 1 0 1 0 0 0 0 0 1 0 1 1 0 0 0 0 0 1 0 0 0 1 0 0 1 0 0 0 0 1 0 0 0 1 1\n",
            " 0 0 1 0 0 0 0 1 0 0 1 0 0 0 0 0 0 0 0 1 1 0 0 0 1 0 0 0 1 1 1 0 0 0 0 0 0\n",
            " 1 1 0 1 1 1 1 0 1 1 1 0 0 1 1 1 0 0 1 1 0 0 0 0 1 0 1 0 0 1 1 0 1 0 1 1 1\n",
            " 0 1 0 1 1 0 0 0 0 0 0 0 1 1 0 0 0 1 0 0 1 1 1 0 0 0 0 0 1 1 0 1 1 1 0 1 0\n",
            " 0 1 0 0 0 1 0 0 0 1 1 0 1 0 1 1 0 0 0 1 1 0 0 1 1 1 0 0 1 0 1 0 1 0 1 0 1\n",
            " 1 1 1 1 1 0 0 1 1 0 1 1 1 1 0 0 0 1 0 1 1 1 1 0 0 0 1 0 1 0 0 0 0 1 1 0 0\n",
            " 0 1 0 0 0 1 1 1 1 1 1 0 0 0 1 1 1 0 0 1 0 1 1 0 0 1 1 0 1 1 1 0 1 1 1 0 1\n",
            " 1 1 1 0 0 1 1 1 1 1 0 1 1 0 0 0 0 0 1 0 1 0 0 1 1 0 0 1 0 1 1 0 0 0 1 1 1\n",
            " 1 0 1 1 1 1 1 1 1 0 1 1 1 0 1 1 0 1 0 0 1 1 0 1 1 0 0 1 0 0 1 0 0 0 1 1 0\n",
            " 1 0 0 1 1 1 0 1 1 1 0 1 0 1 0 1 1 1 0 1 0 0 0 1 0 1 1 0 1 1 1 1 0 1 1 1]\n",
            "       id  ... cluster\n",
            "0   20913  ...       0\n",
            "1   25235  ...       0\n",
            "2   76761  ...       0\n",
            "3  135465  ...       1\n",
            "4  169002  ...       1\n",
            "\n",
            "[5 rows x 20 columns]\n"
          ],
          "name": "stdout"
        }
      ]
    },
    {
      "cell_type": "markdown",
      "metadata": {
        "id": "CfSskAEIUNl5"
      },
      "source": [
        "# Exercício. Exiba o Dendograma (**RESOLVIDO**)"
      ]
    },
    {
      "cell_type": "code",
      "metadata": {
        "id": "6mNBDvj2myoC",
        "colab": {
          "base_uri": "https://localhost:8080/",
          "height": 352
        },
        "outputId": "c01cb103-7629-4c0d-fd3c-6d2628b8d2f7"
      },
      "source": [
        "# Seu código\n",
        "import scipy.cluster.hierarchy as shc\n",
        "import matplotlib.pyplot as plt\n",
        "\n",
        "plt.figure(figsize=(25, 7))  \n",
        "plt.title(\"Dendrogram\")\n",
        "plt.xticks(rotation=90)  \n",
        "\n",
        "dendrogram = shc.dendrogram(shc.linkage(X, method='ward'))\n",
        "plt.axhline(y=6, color='r', linestyle='--')\n",
        "\n",
        "plt.show()\n"
      ],
      "execution_count": null,
      "outputs": [
        {
          "output_type": "display_data",
          "data": {
            "image/png": "[encoded data removed]",
            "text/plain": [
              "<Figure size 1800x504 with 1 Axes>"
            ]
          },
          "metadata": {
            "tags": [],
            "needs_background": "light"
          }
        }
      ]
    },
    {
      "cell_type": "markdown",
      "metadata": {
        "id": "b-_tBv7ZXpPT"
      },
      "source": [
        "# Exercício. Caracterizando os grupos (**RESOLVIDO**)\n",
        "\n",
        "Verificando os valores médios de cada grupo."
      ]
    },
    {
      "cell_type": "code",
      "metadata": {
        "id": "6ya2VNtVWkS3",
        "colab": {
          "base_uri": "https://localhost:8080/",
          "height": 865
        },
        "outputId": "3bb00183-ae52-449e-8be9-419497701ba0"
      },
      "source": [
        "import matplotlib.pyplot as plt\n",
        "import seaborn as sns\n",
        "\n",
        "g = df[['latitude', 'longitude','price',\n",
        "       'minimum_nights', 'number_of_reviews', \n",
        "       'reviews_per_month', 'calculated_host_listings_count',\n",
        "       'availability_365', 'rtype_entire', 'rtype_private', 'rtype_shared',\n",
        "        'cluster']]\n",
        "\n",
        "f = plt.figure(figsize=(12,5))\n",
        "\n",
        "sns.barplot(data=g[g.cluster==0].drop(columns='cluster'))\n",
        "plt.xticks(rotation=45)\n",
        "plt.title('...')\n",
        "plt.show()\n",
        "\n",
        "f = plt.figure(figsize=(12,5))\n",
        "sns.barplot(data=g[g.cluster==1].drop(columns='cluster'))\n",
        "plt.xticks(rotation=45)\n",
        "plt.title('...')\n",
        "plt.show()"
      ],
      "execution_count": null,
      "outputs": [
        {
          "output_type": "display_data",
          "data": {
            "image/png": "[encoded data removed]",
            "text/plain": [
              "<Figure size 864x360 with 1 Axes>"
            ]
          },
          "metadata": {
            "tags": [],
            "needs_background": "light"
          }
        },
        {
          "output_type": "display_data",
          "data": {
            "image/png": "[encoded data removed]",
            "text/plain": [
              "<Figure size 864x360 with 1 Axes>"
            ]
          },
          "metadata": {
            "tags": [],
            "needs_background": "light"
          }
        }
      ]
    }
  ]
}