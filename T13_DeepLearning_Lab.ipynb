{
  "nbformat": 4,
  "nbformat_minor": 0,
  "metadata": {
    "anaconda-cloud": {},
    "kernelspec": {
      "display_name": "Python 3",
      "language": "python",
      "name": "python3"
    },
    "language_info": {
      "codemirror_mode": {
        "name": "ipython",
        "version": 3
      },
      "file_extension": ".py",
      "mimetype": "text/x-python",
      "name": "python",
      "nbconvert_exporter": "python",
      "pygments_lexer": "ipython3",
      "version": "3.7.4"
    },
    "colab": {
      "name": "T13_DeepLearning_Lab.ipynb",
      "provenance": [],
      "collapsed_sections": [],
      "include_colab_link": true
    }
  },
  "cells": [
    {
      "cell_type": "markdown",
      "metadata": {
        "id": "view-in-github",
        "colab_type": "text"
      },
      "source": [
        "<a href=\"https://colab.research.google.com/github/userlinklearner/Pyhton-Projects/blob/main/T13_DeepLearning_Lab.ipynb\" target=\"_parent\"><img src=\"https://colab.research.google.com/assets/colab-badge.svg\" alt=\"Open In Colab\"/></a>"
      ]
    },
    {
      "cell_type": "markdown",
      "metadata": {
        "id": "gglUriLmo1sR"
      },
      "source": [
        "<head>\n",
        "  <meta name=\"author\" content=\"Rogério de Oliveira\">\n",
        "  <meta institution=\"author\" content=\"Universidade Presbiteriana Mackenzie\">\n",
        "</head>\n",
        "\n",
        "<img src=\"http://meusite.mackenzie.br/rogerio/mackenzie_logo/UPM.2_horizontal_vermelho.jpg\" width=300, align=\"right\"></a>\n",
        "<!-- <h1 align=left><font size = 6, style=\"color:rgb(200,0,0)\"> optional title </font></h1> -->"
      ]
    },
    {
      "cell_type": "markdown",
      "metadata": {
        "id": "-G7aCMh4r9y1"
      },
      "source": [
        "<h1 align=left><font size = 6, style=\"color:rgb(200,0,0)\">T13 Deeplearning </font></h1>\n",
        "<hr>"
      ]
    },
    {
      "cell_type": "markdown",
      "metadata": {
        "id": "Li1FPlObIQAh"
      },
      "source": [
        "## **Case**: Steel Plates Fault\n",
        "\n",
        "http://archive.ics.uci.edu/ml/datasets/steel+plates+faults\n",
        "\n",
        "Dataset:\n",
        "\n",
        "https://meusite.mackenzie.br/rogerio/STEEL_faults.csv\n",
        "\n",
        "Um conjunto de dados de falhas em placas de aço, classificadas em 7 tipos diferentes. O objetivo é treinar um modelo deep learning para o reconhecimento automático de padrões.\n",
        "\n",
        "\n",
        "Data Set Information:\n",
        "\n",
        "Type of dependent variables (7 Types of Steel Plates Faults):\n",
        "\n",
        "1.Pastry\n",
        "\n",
        "2.Z_Scratch\n",
        "\n",
        "3.K_Scatch\n",
        "\n",
        "4.Stains\n",
        "\n",
        "5.Dirtiness\n",
        "\n",
        "6.Bumps\n",
        "\n",
        "7.Other_Faults\n",
        "\n"
      ]
    },
    {
      "cell_type": "markdown",
      "metadata": {
        "id": "yjsISOzrZzPg"
      },
      "source": [
        "# imports\n"
      ]
    },
    {
      "cell_type": "code",
      "metadata": {
        "id": "WUYc-QJxugaZ"
      },
      "source": [
        "# imports\n",
        "import numpy as np \n",
        "import pandas as pd \n",
        "import matplotlib.pyplot as plt \n",
        "import seaborn as sns \n",
        "import warnings\n",
        "import os\n",
        "warnings.filterwarnings(\"ignore\")\n",
        "\n",
        "from sklearn.model_selection import train_test_split\n",
        "from sklearn.metrics import confusion_matrix\n",
        "from sklearn.metrics import classification_report\n",
        "\n",
        "from tensorflow import keras\n",
        "from tensorflow.keras import layers\n",
        "from keras import Sequential, layers\n",
        "import tensorflow as tf"
      ],
      "execution_count": null,
      "outputs": []
    },
    {
      "cell_type": "markdown",
      "metadata": {
        "id": "ZVUhIilDw-pF"
      },
      "source": [
        "# Exercício. Acesse e Explore os Dados\n",
        "\n",
        "Que transformações são necessárias para o treinamento dos dados?"
      ]
    },
    {
      "cell_type": "code",
      "metadata": {
        "id": "SIeEbP1HZxop"
      },
      "source": [
        "# Seu código\n",
        "df = pd.read_csv('http://meusite.mackenzie.br/rogerio/STEEL_faults.csv')\n",
        "df.head()\n",
        "\n"
      ],
      "execution_count": null,
      "outputs": []
    },
    {
      "cell_type": "code",
      "metadata": {
        "colab": {
          "base_uri": "https://localhost:8080/",
          "height": 322
        },
        "id": "uD2stH6Bz8Ae",
        "outputId": "10265083-68df-47cd-e283-be6776e53df6"
      },
      "source": [
        "\n",
        "import seaborn as sns\n",
        "\n",
        "sns.heatmap( df[['Pastry', 'Z_Scratch', 'K_Scatch', 'Stains',\n",
        "       'Dirtiness', 'Bumps', 'Other_Faults']])\n",
        "\n",
        "plt.show()"
      ],
      "execution_count": null,
      "outputs": [
        {
          "output_type": "display_data",
          "data": {
            "image/png": "[encoded data removed]",
            "text/plain": [
              "<Figure size 432x288 with 2 Axes>"
            ]
          },
          "metadata": {
            "tags": [],
            "needs_background": "light"
          }
        }
      ]
    },
    {
      "cell_type": "code",
      "metadata": {
        "id": "HyaDPUb9wzoJ"
      },
      "source": [
        "print(df.isnull().sum())"
      ],
      "execution_count": null,
      "outputs": []
    },
    {
      "cell_type": "code",
      "metadata": {
        "id": "POu06BSXxIJt"
      },
      "source": [
        "df.dtypes"
      ],
      "execution_count": null,
      "outputs": []
    },
    {
      "cell_type": "code",
      "metadata": {
        "colab": {
          "base_uri": "https://localhost:8080/"
        },
        "id": "SHL0T2hdyGQe",
        "outputId": "5b8b6b5a-3888-4c4a-d636-8abe83d1d59b"
      },
      "source": [
        "df.shape"
      ],
      "execution_count": null,
      "outputs": [
        {
          "output_type": "execute_result",
          "data": {
            "text/plain": [
              "(1941, 34)"
            ]
          },
          "metadata": {
            "tags": []
          },
          "execution_count": 5
        }
      ]
    },
    {
      "cell_type": "markdown",
      "metadata": {
        "id": "oeRSk9LpaisT"
      },
      "source": [
        "# Exercício. Prepare os Dados de Entrada `X`\n",
        "\n",
        "Não é necessário tratamento de dados nulos. A normalização das entradas, entretanto, é necessária. Depois de fazer o a seleção dos atributos de `X` ( `X = df[['col1', 'col2', ... ]]` ), faça o `scale` dos dados. Empregue o `df.columns` para ajudar a obter o nome das colunas. "
      ]
    },
    {
      "cell_type": "code",
      "metadata": {
        "colab": {
          "base_uri": "https://localhost:8080/"
        },
        "id": "qMiS-Vvuyodx",
        "outputId": "8f0e05ff-407f-40bd-8e9e-da1526be093d"
      },
      "source": [
        "df.columns"
      ],
      "execution_count": null,
      "outputs": [
        {
          "output_type": "execute_result",
          "data": {
            "text/plain": [
              "Index(['X_Minimum', 'X_Maximum', 'Y_Minimum', 'Y_Maximum', 'Pixels_Areas',\n",
              "       'X_Perimeter', 'Y_Perimeter', 'Sum_of_Luminosity',\n",
              "       'Minimum_of_Luminosity', 'Maximum_of_Luminosity', 'Length_of_Conveyer',\n",
              "       'TypeOfSteel_A300', 'TypeOfSteel_A400', 'Steel_Plate_Thickness',\n",
              "       'Edges_Index', 'Empty_Index', 'Square_Index', 'Outside_X_Index',\n",
              "       'Edges_X_Index', 'Edges_Y_Index', 'Outside_Global_Index', 'LogOfAreas',\n",
              "       'Log_X_Index', 'Log_Y_Index', 'Orientation_Index', 'Luminosity_Index',\n",
              "       'SigmoidOfAreas', 'Pastry', 'Z_Scratch', 'K_Scatch', 'Stains',\n",
              "       'Dirtiness', 'Bumps', 'Other_Faults'],\n",
              "      dtype='object')"
            ]
          },
          "metadata": {
            "tags": []
          },
          "execution_count": 6
        }
      ]
    },
    {
      "cell_type": "code",
      "metadata": {
        "id": "3i4sAj4G9CRT"
      },
      "source": [
        "# Seu código\n",
        "X = df[['X_Minimum', 'X_Maximum', 'Y_Minimum', 'Y_Maximum', 'Pixels_Areas',\n",
        "       'X_Perimeter', 'Y_Perimeter', 'Sum_of_Luminosity',\n",
        "       'Minimum_of_Luminosity', 'Maximum_of_Luminosity', 'Length_of_Conveyer',\n",
        "       'TypeOfSteel_A300', 'TypeOfSteel_A400', 'Steel_Plate_Thickness',\n",
        "       'Edges_Index', 'Empty_Index', 'Square_Index', 'Outside_X_Index',\n",
        "       'Edges_X_Index', 'Edges_Y_Index', 'Outside_Global_Index', 'LogOfAreas',\n",
        "       'Log_X_Index', 'Log_Y_Index', 'Orientation_Index', 'Luminosity_Index',\n",
        "       'SigmoidOfAreas']]\n",
        "\n",
        "from sklearn.preprocessing import scale, normalize\n",
        "\n",
        "X = scale(X)"
      ],
      "execution_count": null,
      "outputs": []
    },
    {
      "cell_type": "code",
      "metadata": {
        "colab": {
          "base_uri": "https://localhost:8080/",
          "height": 439
        },
        "id": "LHgn2_p00lmG",
        "outputId": "ef8ef348-ce60-46d8-8e7b-fbb2a6a663c8"
      },
      "source": [
        "pd.DataFrame(X, columns=df.columns[0:27])"
      ],
      "execution_count": null,
      "outputs": [
        {
          "output_type": "execute_result",
          "data": {
            "text/html": [
              "<div>\n",
              "<style scoped>\n",
              "    .dataframe tbody tr th:only-of-type {\n",
              "        vertical-align: middle;\n",
              "    }\n",
              "\n",
              "    .dataframe tbody tr th {\n",
              "        vertical-align: top;\n",
              "    }\n",
              "\n",
              "    .dataframe thead th {\n",
              "        text-align: right;\n",
              "    }\n",
              "</style>\n",
              "<table border=\"1\" class=\"dataframe\">\n",
              "  <thead>\n",
              "    <tr style=\"text-align: right;\">\n",
              "      <th></th>\n",
              "      <th>X_Minimum</th>\n",
              "      <th>X_Maximum</th>\n",
              "      <th>Y_Minimum</th>\n",
              "      <th>Y_Maximum</th>\n",
              "      <th>Pixels_Areas</th>\n",
              "      <th>X_Perimeter</th>\n",
              "      <th>Y_Perimeter</th>\n",
              "      <th>Sum_of_Luminosity</th>\n",
              "      <th>Minimum_of_Luminosity</th>\n",
              "      <th>Maximum_of_Luminosity</th>\n",
              "      <th>Length_of_Conveyer</th>\n",
              "      <th>TypeOfSteel_A300</th>\n",
              "      <th>TypeOfSteel_A400</th>\n",
              "      <th>Steel_Plate_Thickness</th>\n",
              "      <th>Edges_Index</th>\n",
              "      <th>Empty_Index</th>\n",
              "      <th>Square_Index</th>\n",
              "      <th>Outside_X_Index</th>\n",
              "      <th>Edges_X_Index</th>\n",
              "      <th>Edges_Y_Index</th>\n",
              "      <th>Outside_Global_Index</th>\n",
              "      <th>LogOfAreas</th>\n",
              "      <th>Log_X_Index</th>\n",
              "      <th>Log_Y_Index</th>\n",
              "      <th>Orientation_Index</th>\n",
              "      <th>Luminosity_Index</th>\n",
              "      <th>SigmoidOfAreas</th>\n",
              "    </tr>\n",
              "  </thead>\n",
              "  <tbody>\n",
              "    <tr>\n",
              "      <th>0</th>\n",
              "      <td>-1.016481</td>\n",
              "      <td>-1.141639</td>\n",
              "      <td>-0.777729</td>\n",
              "      <td>-0.777729</td>\n",
              "      <td>-0.314852</td>\n",
              "      <td>-0.314996</td>\n",
              "      <td>-0.091389</td>\n",
              "      <td>-0.355537</td>\n",
              "      <td>-0.266099</td>\n",
              "      <td>-1.187708</td>\n",
              "      <td>1.576303</td>\n",
              "      <td>1.223956</td>\n",
              "      <td>-1.223956</td>\n",
              "      <td>0.022920</td>\n",
              "      <td>-0.940864</td>\n",
              "      <td>-1.258531</td>\n",
              "      <td>-1.435364</td>\n",
              "      <td>-0.486227</td>\n",
              "      <td>-0.575331</td>\n",
              "      <td>0.796401</td>\n",
              "      <td>0.879804</td>\n",
              "      <td>-0.083538</td>\n",
              "      <td>-0.898437</td>\n",
              "      <td>0.528872</td>\n",
              "      <td>1.467656</td>\n",
              "      <td>-1.075752</td>\n",
              "      <td>-0.009490</td>\n",
              "    </tr>\n",
              "    <tr>\n",
              "      <th>1</th>\n",
              "      <td>0.141894</td>\n",
              "      <td>0.066403</td>\n",
              "      <td>0.500188</td>\n",
              "      <td>0.500171</td>\n",
              "      <td>-0.345623</td>\n",
              "      <td>-0.338242</td>\n",
              "      <td>-0.124225</td>\n",
              "      <td>-0.380574</td>\n",
              "      <td>-0.017079</td>\n",
              "      <td>-0.384975</td>\n",
              "      <td>1.576303</td>\n",
              "      <td>1.223956</td>\n",
              "      <td>-1.223956</td>\n",
              "      <td>0.022920</td>\n",
              "      <td>1.445043</td>\n",
              "      <td>-0.254349</td>\n",
              "      <td>-1.342740</td>\n",
              "      <td>-0.504888</td>\n",
              "      <td>-0.043290</td>\n",
              "      <td>0.654223</td>\n",
              "      <td>0.879804</td>\n",
              "      <td>-0.581936</td>\n",
              "      <td>-1.157841</td>\n",
              "      <td>0.130174</td>\n",
              "      <td>1.417530</td>\n",
              "      <td>-0.297824</td>\n",
              "      <td>-0.845759</td>\n",
              "    </tr>\n",
              "    <tr>\n",
              "      <th>2</th>\n",
              "      <td>0.495362</td>\n",
              "      <td>0.436253</td>\n",
              "      <td>-0.054546</td>\n",
              "      <td>-0.054566</td>\n",
              "      <td>-0.352784</td>\n",
              "      <td>-0.344883</td>\n",
              "      <td>-0.150024</td>\n",
              "      <td>-0.387261</td>\n",
              "      <td>0.449832</td>\n",
              "      <td>-0.277944</td>\n",
              "      <td>1.133521</td>\n",
              "      <td>1.223956</td>\n",
              "      <td>-1.223956</td>\n",
              "      <td>0.386082</td>\n",
              "      <td>2.133548</td>\n",
              "      <td>-0.521791</td>\n",
              "      <td>-0.876299</td>\n",
              "      <td>-0.503191</td>\n",
              "      <td>0.573451</td>\n",
              "      <td>0.571820</td>\n",
              "      <td>0.879804</td>\n",
              "      <td>-0.812814</td>\n",
              "      <td>-1.157841</td>\n",
              "      <td>-0.325764</td>\n",
              "      <td>1.165103</td>\n",
              "      <td>0.057185</td>\n",
              "      <td>-1.091513</td>\n",
              "    </tr>\n",
              "    <tr>\n",
              "      <th>3</th>\n",
              "      <td>0.541467</td>\n",
              "      <td>0.486504</td>\n",
              "      <td>-0.722225</td>\n",
              "      <td>-0.722225</td>\n",
              "      <td>-0.332463</td>\n",
              "      <td>-0.328279</td>\n",
              "      <td>-0.089044</td>\n",
              "      <td>-0.365736</td>\n",
              "      <td>0.449832</td>\n",
              "      <td>-0.224429</td>\n",
              "      <td>-0.734467</td>\n",
              "      <td>-0.817023</td>\n",
              "      <td>0.817023</td>\n",
              "      <td>3.836121</td>\n",
              "      <td>1.324897</td>\n",
              "      <td>0.197460</td>\n",
              "      <td>-1.532047</td>\n",
              "      <td>-0.477744</td>\n",
              "      <td>-0.296153</td>\n",
              "      <td>0.796401</td>\n",
              "      <td>0.879804</td>\n",
              "      <td>-0.313021</td>\n",
              "      <td>-1.018897</td>\n",
              "      <td>0.550227</td>\n",
              "      <td>1.519978</td>\n",
              "      <td>-0.171419</td>\n",
              "      <td>-0.189237</td>\n",
              "    </tr>\n",
              "    <tr>\n",
              "      <th>4</th>\n",
              "      <td>1.379032</td>\n",
              "      <td>1.382988</td>\n",
              "      <td>-0.649678</td>\n",
              "      <td>-0.649559</td>\n",
              "      <td>0.099692</td>\n",
              "      <td>-0.172201</td>\n",
              "      <td>0.415209</td>\n",
              "      <td>0.079307</td>\n",
              "      <td>-1.480069</td>\n",
              "      <td>-0.224429</td>\n",
              "      <td>-0.734467</td>\n",
              "      <td>-0.817023</td>\n",
              "      <td>0.817023</td>\n",
              "      <td>1.929520</td>\n",
              "      <td>-0.875117</td>\n",
              "      <td>0.250657</td>\n",
              "      <td>-1.861950</td>\n",
              "      <td>-0.352206</td>\n",
              "      <td>-1.345434</td>\n",
              "      <td>0.747301</td>\n",
              "      <td>0.879804</td>\n",
              "      <td>1.127655</td>\n",
              "      <td>-0.218461</td>\n",
              "      <td>2.216130</td>\n",
              "      <td>1.698514</td>\n",
              "      <td>-0.456503</td>\n",
              "      <td>1.221636</td>\n",
              "    </tr>\n",
              "    <tr>\n",
              "      <th>...</th>\n",
              "      <td>...</td>\n",
              "      <td>...</td>\n",
              "      <td>...</td>\n",
              "      <td>...</td>\n",
              "      <td>...</td>\n",
              "      <td>...</td>\n",
              "      <td>...</td>\n",
              "      <td>...</td>\n",
              "      <td>...</td>\n",
              "      <td>...</td>\n",
              "      <td>...</td>\n",
              "      <td>...</td>\n",
              "      <td>...</td>\n",
              "      <td>...</td>\n",
              "      <td>...</td>\n",
              "      <td>...</td>\n",
              "      <td>...</td>\n",
              "      <td>...</td>\n",
              "      <td>...</td>\n",
              "      <td>...</td>\n",
              "      <td>...</td>\n",
              "      <td>...</td>\n",
              "      <td>...</td>\n",
              "      <td>...</td>\n",
              "      <td>...</td>\n",
              "      <td>...</td>\n",
              "      <td>...</td>\n",
              "    </tr>\n",
              "    <tr>\n",
              "      <th>1936</th>\n",
              "      <td>-0.618830</td>\n",
              "      <td>-0.685357</td>\n",
              "      <td>-0.746795</td>\n",
              "      <td>-0.746811</td>\n",
              "      <td>-0.313690</td>\n",
              "      <td>-0.192126</td>\n",
              "      <td>-0.142987</td>\n",
              "      <td>-0.334424</td>\n",
              "      <td>1.072381</td>\n",
              "      <td>0.578304</td>\n",
              "      <td>-0.686037</td>\n",
              "      <td>-0.817023</td>\n",
              "      <td>0.817023</td>\n",
              "      <td>-0.703404</td>\n",
              "      <td>0.115090</td>\n",
              "      <td>-0.172003</td>\n",
              "      <td>0.002335</td>\n",
              "      <td>-0.216488</td>\n",
              "      <td>-0.378385</td>\n",
              "      <td>-0.367922</td>\n",
              "      <td>-1.193905</td>\n",
              "      <td>-0.071239</td>\n",
              "      <td>0.231603</td>\n",
              "      <td>-0.438483</td>\n",
              "      <td>-1.022264</td>\n",
              "      <td>0.900332</td>\n",
              "      <td>0.412476</td>\n",
              "    </tr>\n",
              "    <tr>\n",
              "      <th>1937</th>\n",
              "      <td>-0.820537</td>\n",
              "      <td>-0.890382</td>\n",
              "      <td>-0.738452</td>\n",
              "      <td>-0.738468</td>\n",
              "      <td>-0.310981</td>\n",
              "      <td>-0.225334</td>\n",
              "      <td>-0.138297</td>\n",
              "      <td>-0.335271</td>\n",
              "      <td>0.854489</td>\n",
              "      <td>0.150180</td>\n",
              "      <td>-0.686037</td>\n",
              "      <td>-0.817023</td>\n",
              "      <td>0.817023</td>\n",
              "      <td>-0.703404</td>\n",
              "      <td>-0.400205</td>\n",
              "      <td>0.300210</td>\n",
              "      <td>-0.082539</td>\n",
              "      <td>-0.179166</td>\n",
              "      <td>0.386784</td>\n",
              "      <td>-0.449045</td>\n",
              "      <td>-1.193905</td>\n",
              "      <td>-0.043727</td>\n",
              "      <td>0.323402</td>\n",
              "      <td>-0.380362</td>\n",
              "      <td>-1.068196</td>\n",
              "      <td>0.491534</td>\n",
              "      <td>0.683276</td>\n",
              "    </tr>\n",
              "    <tr>\n",
              "      <th>1938</th>\n",
              "      <td>-0.818616</td>\n",
              "      <td>-0.892392</td>\n",
              "      <td>-0.712412</td>\n",
              "      <td>-0.712430</td>\n",
              "      <td>-0.310013</td>\n",
              "      <td>-0.238617</td>\n",
              "      <td>-0.142987</td>\n",
              "      <td>-0.329467</td>\n",
              "      <td>1.103509</td>\n",
              "      <td>0.524788</td>\n",
              "      <td>-0.686037</td>\n",
              "      <td>-0.817023</td>\n",
              "      <td>0.817023</td>\n",
              "      <td>-0.703404</td>\n",
              "      <td>-0.395533</td>\n",
              "      <td>-0.623084</td>\n",
              "      <td>-0.197673</td>\n",
              "      <td>-0.204613</td>\n",
              "      <td>0.470661</td>\n",
              "      <td>-0.562189</td>\n",
              "      <td>-1.193905</td>\n",
              "      <td>-0.034218</td>\n",
              "      <td>0.263172</td>\n",
              "      <td>-0.500126</td>\n",
              "      <td>-1.130504</td>\n",
              "      <td>0.917814</td>\n",
              "      <td>0.360909</td>\n",
              "    </tr>\n",
              "    <tr>\n",
              "      <th>1939</th>\n",
              "      <td>-0.833984</td>\n",
              "      <td>-0.900432</td>\n",
              "      <td>-0.692280</td>\n",
              "      <td>-0.692288</td>\n",
              "      <td>-0.285435</td>\n",
              "      <td>-0.049331</td>\n",
              "      <td>-0.084353</td>\n",
              "      <td>-0.299900</td>\n",
              "      <td>1.010126</td>\n",
              "      <td>0.524788</td>\n",
              "      <td>-0.686037</td>\n",
              "      <td>-0.817023</td>\n",
              "      <td>0.817023</td>\n",
              "      <td>-0.703404</td>\n",
              "      <td>-0.434580</td>\n",
              "      <td>1.283988</td>\n",
              "      <td>1.360326</td>\n",
              "      <td>-0.153719</td>\n",
              "      <td>-1.111484</td>\n",
              "      <td>-0.656975</td>\n",
              "      <td>-1.193905</td>\n",
              "      <td>0.164584</td>\n",
              "      <td>0.379686</td>\n",
              "      <td>0.194019</td>\n",
              "      <td>-0.287351</td>\n",
              "      <td>0.767876</td>\n",
              "      <td>1.197767</td>\n",
              "    </tr>\n",
              "    <tr>\n",
              "      <th>1940</th>\n",
              "      <td>1.325243</td>\n",
              "      <td>1.332737</td>\n",
              "      <td>-0.880850</td>\n",
              "      <td>-0.880865</td>\n",
              "      <td>-0.346591</td>\n",
              "      <td>-0.285109</td>\n",
              "      <td>-0.142987</td>\n",
              "      <td>-0.380017</td>\n",
              "      <td>0.512087</td>\n",
              "      <td>0.150180</td>\n",
              "      <td>-0.686037</td>\n",
              "      <td>1.223956</td>\n",
              "      <td>-1.223956</td>\n",
              "      <td>0.022920</td>\n",
              "      <td>-0.719260</td>\n",
              "      <td>1.923079</td>\n",
              "      <td>0.845913</td>\n",
              "      <td>-0.316580</td>\n",
              "      <td>0.652393</td>\n",
              "      <td>-0.367922</td>\n",
              "      <td>-1.193905</td>\n",
              "      <td>-0.608054</td>\n",
              "      <td>-0.072040</td>\n",
              "      <td>-0.438483</td>\n",
              "      <td>-0.565739</td>\n",
              "      <td>0.117026</td>\n",
              "      <td>-0.164485</td>\n",
              "    </tr>\n",
              "  </tbody>\n",
              "</table>\n",
              "<p>1941 rows × 27 columns</p>\n",
              "</div>"
            ],
            "text/plain": [
              "      X_Minimum  X_Maximum  ...  Luminosity_Index  SigmoidOfAreas\n",
              "0     -1.016481  -1.141639  ...         -1.075752       -0.009490\n",
              "1      0.141894   0.066403  ...         -0.297824       -0.845759\n",
              "2      0.495362   0.436253  ...          0.057185       -1.091513\n",
              "3      0.541467   0.486504  ...         -0.171419       -0.189237\n",
              "4      1.379032   1.382988  ...         -0.456503        1.221636\n",
              "...         ...        ...  ...               ...             ...\n",
              "1936  -0.618830  -0.685357  ...          0.900332        0.412476\n",
              "1937  -0.820537  -0.890382  ...          0.491534        0.683276\n",
              "1938  -0.818616  -0.892392  ...          0.917814        0.360909\n",
              "1939  -0.833984  -0.900432  ...          0.767876        1.197767\n",
              "1940   1.325243   1.332737  ...          0.117026       -0.164485\n",
              "\n",
              "[1941 rows x 27 columns]"
            ]
          },
          "metadata": {
            "tags": []
          },
          "execution_count": 12
        }
      ]
    },
    {
      "cell_type": "markdown",
      "metadata": {
        "id": "enCMBD5YxXiU"
      },
      "source": [
        "# Exercício. Prepare a saída `y`\n",
        "\n",
        "Lembre-se no `Keras`/`TensorFlow` há uma saída binária para cada classe."
      ]
    },
    {
      "cell_type": "code",
      "metadata": {
        "id": "7tDS8iea9HAu"
      },
      "source": [
        "# Seu código\n",
        "y = df[['Pastry', 'Z_Scratch', 'K_Scatch', 'Stains',\n",
        "       'Dirtiness', 'Bumps', 'Other_Faults']]\n"
      ],
      "execution_count": null,
      "outputs": []
    },
    {
      "cell_type": "code",
      "metadata": {
        "colab": {
          "base_uri": "https://localhost:8080/",
          "height": 204
        },
        "id": "l2NSATjM1KwX",
        "outputId": "3d029ff6-750e-4c94-a83a-521fef93e37d"
      },
      "source": [
        "y.head()"
      ],
      "execution_count": null,
      "outputs": [
        {
          "output_type": "execute_result",
          "data": {
            "text/html": [
              "<div>\n",
              "<style scoped>\n",
              "    .dataframe tbody tr th:only-of-type {\n",
              "        vertical-align: middle;\n",
              "    }\n",
              "\n",
              "    .dataframe tbody tr th {\n",
              "        vertical-align: top;\n",
              "    }\n",
              "\n",
              "    .dataframe thead th {\n",
              "        text-align: right;\n",
              "    }\n",
              "</style>\n",
              "<table border=\"1\" class=\"dataframe\">\n",
              "  <thead>\n",
              "    <tr style=\"text-align: right;\">\n",
              "      <th></th>\n",
              "      <th>Pastry</th>\n",
              "      <th>Z_Scratch</th>\n",
              "      <th>K_Scatch</th>\n",
              "      <th>Stains</th>\n",
              "      <th>Dirtiness</th>\n",
              "      <th>Bumps</th>\n",
              "      <th>Other_Faults</th>\n",
              "    </tr>\n",
              "  </thead>\n",
              "  <tbody>\n",
              "    <tr>\n",
              "      <th>0</th>\n",
              "      <td>1</td>\n",
              "      <td>0</td>\n",
              "      <td>0</td>\n",
              "      <td>0</td>\n",
              "      <td>0</td>\n",
              "      <td>0</td>\n",
              "      <td>0</td>\n",
              "    </tr>\n",
              "    <tr>\n",
              "      <th>1</th>\n",
              "      <td>1</td>\n",
              "      <td>0</td>\n",
              "      <td>0</td>\n",
              "      <td>0</td>\n",
              "      <td>0</td>\n",
              "      <td>0</td>\n",
              "      <td>0</td>\n",
              "    </tr>\n",
              "    <tr>\n",
              "      <th>2</th>\n",
              "      <td>1</td>\n",
              "      <td>0</td>\n",
              "      <td>0</td>\n",
              "      <td>0</td>\n",
              "      <td>0</td>\n",
              "      <td>0</td>\n",
              "      <td>0</td>\n",
              "    </tr>\n",
              "    <tr>\n",
              "      <th>3</th>\n",
              "      <td>1</td>\n",
              "      <td>0</td>\n",
              "      <td>0</td>\n",
              "      <td>0</td>\n",
              "      <td>0</td>\n",
              "      <td>0</td>\n",
              "      <td>0</td>\n",
              "    </tr>\n",
              "    <tr>\n",
              "      <th>4</th>\n",
              "      <td>1</td>\n",
              "      <td>0</td>\n",
              "      <td>0</td>\n",
              "      <td>0</td>\n",
              "      <td>0</td>\n",
              "      <td>0</td>\n",
              "      <td>0</td>\n",
              "    </tr>\n",
              "  </tbody>\n",
              "</table>\n",
              "</div>"
            ],
            "text/plain": [
              "   Pastry  Z_Scratch  K_Scatch  Stains  Dirtiness  Bumps  Other_Faults\n",
              "0       1          0         0       0          0      0             0\n",
              "1       1          0         0       0          0      0             0\n",
              "2       1          0         0       0          0      0             0\n",
              "3       1          0         0       0          0      0             0\n",
              "4       1          0         0       0          0      0             0"
            ]
          },
          "metadata": {
            "tags": []
          },
          "execution_count": 14
        }
      ]
    },
    {
      "cell_type": "markdown",
      "metadata": {
        "id": "L40cJF1ccN5C"
      },
      "source": [
        "# Exercício. Separe os dados de Treinamento e Teste\n",
        "\n",
        "Empregue o scikit-learn para separar os dados de treinamento e teste. Empregue 0.3 de dados de teste e o `seed=1984` para geração dos dados. "
      ]
    },
    {
      "cell_type": "code",
      "metadata": {
        "id": "J0MHr2k09IYt"
      },
      "source": [
        "# Seu código\n",
        "\n",
        "from sklearn.model_selection import train_test_split\n",
        "\n",
        "seed = 1984 \n",
        "X_train, X_test, y_train, y_test = train_test_split(X, y, test_size=0.3, stratify=y, random_state=seed)\n"
      ],
      "execution_count": null,
      "outputs": []
    },
    {
      "cell_type": "markdown",
      "metadata": {
        "id": "zoKFbY_gyf2Z"
      },
      "source": [
        "# Exercício. Faça o Treinamento do Modelo Deep Learning\n",
        "\n",
        "Empregue o modelo de código da aula de Teoria para completar o código abaixo e treine o Modelo Neural. Você vai configurar uma única camada oculta de 16 neurônios e função de ativação sigmoid."
      ]
    },
    {
      "cell_type": "code",
      "metadata": {
        "id": "YVUC8oWhylEQ",
        "colab": {
          "base_uri": "https://localhost:8080/"
        },
        "outputId": "fc728b2b-5bdd-43d3-d8a8-5c4abccf7180"
      },
      "source": [
        "from numpy.random import seed  # para garantir a reprodutibilidade dos resultados\n",
        "seed(1984)\n",
        "tf.random.set_seed(1984)\n",
        "\n",
        "# camada de entrada \n",
        "model = Sequential([layers.Dense(X.shape[1], activation='sigmoid', input_shape=[X.shape[1],])]) \n",
        "\n",
        "# entre aqui com uma camada oculta de 16 neurônios e função de ativação sigmoid\n",
        "model.add(layers.Dense(16, activation='sigmoid'))\n",
        "\n",
        "# entre aqui com a camada de saída\n",
        "model.add(layers.Dense(7, activation='sigmoid'))\n",
        "\n",
        "# entre aqui com a compilação do modelo com as métricas e métodos empregadas em teoria \n",
        "model.compile(loss='categorical_crossentropy', optimizer='adam', metrics=['accuracy'])\n",
        "\n",
        "# entre aqui com o treinamento do modelo com 0.2 dos dados para validação e 100 iterações de treinamento\n",
        "history = model.fit(X, y, validation_split=0.2, epochs=100)"
      ],
      "execution_count": null,
      "outputs": [
        {
          "output_type": "stream",
          "text": [
            "Epoch 1/100\n",
            "49/49 [==============================] - 1s 12ms/step - loss: 1.9257 - accuracy: 0.2519 - val_loss: 1.7055 - val_accuracy: 0.0000e+00\n",
            "Epoch 2/100\n",
            "49/49 [==============================] - 0s 2ms/step - loss: 1.7539 - accuracy: 0.2498 - val_loss: 1.7169 - val_accuracy: 0.0000e+00\n",
            "Epoch 3/100\n",
            "49/49 [==============================] - 0s 2ms/step - loss: 1.6321 - accuracy: 0.3976 - val_loss: 1.7000 - val_accuracy: 0.0000e+00\n",
            "Epoch 4/100\n",
            "49/49 [==============================] - 0s 2ms/step - loss: 1.5179 - accuracy: 0.4516 - val_loss: 1.6793 - val_accuracy: 0.0180\n",
            "Epoch 5/100\n",
            "49/49 [==============================] - 0s 2ms/step - loss: 1.4228 - accuracy: 0.4848 - val_loss: 1.6393 - val_accuracy: 0.0746\n",
            "Epoch 6/100\n",
            "49/49 [==============================] - 0s 2ms/step - loss: 1.3688 - accuracy: 0.4896 - val_loss: 1.6050 - val_accuracy: 0.1131\n",
            "Epoch 7/100\n",
            "49/49 [==============================] - 0s 2ms/step - loss: 1.2839 - accuracy: 0.5296 - val_loss: 1.6088 - val_accuracy: 0.1183\n",
            "Epoch 8/100\n",
            "49/49 [==============================] - 0s 2ms/step - loss: 1.2353 - accuracy: 0.5692 - val_loss: 1.6023 - val_accuracy: 0.1414\n",
            "Epoch 9/100\n",
            "49/49 [==============================] - 0s 2ms/step - loss: 1.2111 - accuracy: 0.6056 - val_loss: 1.5785 - val_accuracy: 0.1568\n",
            "Epoch 10/100\n",
            "49/49 [==============================] - 0s 2ms/step - loss: 1.1539 - accuracy: 0.6266 - val_loss: 1.5936 - val_accuracy: 0.1517\n",
            "Epoch 11/100\n",
            "49/49 [==============================] - 0s 2ms/step - loss: 1.1201 - accuracy: 0.6179 - val_loss: 1.6064 - val_accuracy: 0.1568\n",
            "Epoch 12/100\n",
            "49/49 [==============================] - 0s 2ms/step - loss: 1.0544 - accuracy: 0.6429 - val_loss: 1.5894 - val_accuracy: 0.1799\n",
            "Epoch 13/100\n",
            "49/49 [==============================] - 0s 2ms/step - loss: 1.0329 - accuracy: 0.6365 - val_loss: 1.5626 - val_accuracy: 0.1877\n",
            "Epoch 14/100\n",
            "49/49 [==============================] - 0s 2ms/step - loss: 1.0098 - accuracy: 0.6326 - val_loss: 1.5909 - val_accuracy: 0.1928\n",
            "Epoch 15/100\n",
            "49/49 [==============================] - 0s 2ms/step - loss: 0.9705 - accuracy: 0.6583 - val_loss: 1.5455 - val_accuracy: 0.2134\n",
            "Epoch 16/100\n",
            "49/49 [==============================] - 0s 2ms/step - loss: 0.9852 - accuracy: 0.6219 - val_loss: 1.5655 - val_accuracy: 0.2082\n",
            "Epoch 17/100\n",
            "49/49 [==============================] - 0s 2ms/step - loss: 0.9381 - accuracy: 0.6531 - val_loss: 1.5137 - val_accuracy: 0.2468\n",
            "Epoch 18/100\n",
            "49/49 [==============================] - 0s 2ms/step - loss: 0.9179 - accuracy: 0.6604 - val_loss: 1.5485 - val_accuracy: 0.2314\n",
            "Epoch 19/100\n",
            "49/49 [==============================] - 0s 2ms/step - loss: 0.9284 - accuracy: 0.6562 - val_loss: 1.4977 - val_accuracy: 0.2725\n",
            "Epoch 20/100\n",
            "49/49 [==============================] - 0s 2ms/step - loss: 0.9135 - accuracy: 0.6679 - val_loss: 1.4730 - val_accuracy: 0.2931\n",
            "Epoch 21/100\n",
            "49/49 [==============================] - 0s 2ms/step - loss: 0.8773 - accuracy: 0.6855 - val_loss: 1.5189 - val_accuracy: 0.2622\n",
            "Epoch 22/100\n",
            "49/49 [==============================] - 0s 2ms/step - loss: 0.8730 - accuracy: 0.6975 - val_loss: 1.4687 - val_accuracy: 0.3008\n",
            "Epoch 23/100\n",
            "49/49 [==============================] - 0s 2ms/step - loss: 0.8473 - accuracy: 0.6955 - val_loss: 1.4931 - val_accuracy: 0.2853\n",
            "Epoch 24/100\n",
            "49/49 [==============================] - 0s 2ms/step - loss: 0.8455 - accuracy: 0.7133 - val_loss: 1.5076 - val_accuracy: 0.2828\n",
            "Epoch 25/100\n",
            "49/49 [==============================] - 0s 2ms/step - loss: 0.8418 - accuracy: 0.7051 - val_loss: 1.4543 - val_accuracy: 0.3213\n",
            "Epoch 26/100\n",
            "49/49 [==============================] - 0s 2ms/step - loss: 0.8380 - accuracy: 0.7048 - val_loss: 1.4583 - val_accuracy: 0.3085\n",
            "Epoch 27/100\n",
            "49/49 [==============================] - 0s 2ms/step - loss: 0.8212 - accuracy: 0.7118 - val_loss: 1.4426 - val_accuracy: 0.3188\n",
            "Epoch 28/100\n",
            "49/49 [==============================] - 0s 2ms/step - loss: 0.7734 - accuracy: 0.7135 - val_loss: 1.4224 - val_accuracy: 0.3393\n",
            "Epoch 29/100\n",
            "49/49 [==============================] - 0s 2ms/step - loss: 0.7939 - accuracy: 0.7214 - val_loss: 1.4453 - val_accuracy: 0.3136\n",
            "Epoch 30/100\n",
            "49/49 [==============================] - 0s 2ms/step - loss: 0.7953 - accuracy: 0.7197 - val_loss: 1.3995 - val_accuracy: 0.3522\n",
            "Epoch 31/100\n",
            "49/49 [==============================] - 0s 2ms/step - loss: 0.7621 - accuracy: 0.7214 - val_loss: 1.4114 - val_accuracy: 0.3496\n",
            "Epoch 32/100\n",
            "49/49 [==============================] - 0s 2ms/step - loss: 0.7509 - accuracy: 0.7299 - val_loss: 1.4015 - val_accuracy: 0.3496\n",
            "Epoch 33/100\n",
            "49/49 [==============================] - 0s 2ms/step - loss: 0.7393 - accuracy: 0.7384 - val_loss: 1.3939 - val_accuracy: 0.3548\n",
            "Epoch 34/100\n",
            "49/49 [==============================] - 0s 2ms/step - loss: 0.7654 - accuracy: 0.7236 - val_loss: 1.3904 - val_accuracy: 0.3573\n",
            "Epoch 35/100\n",
            "49/49 [==============================] - 0s 2ms/step - loss: 0.7062 - accuracy: 0.7531 - val_loss: 1.3671 - val_accuracy: 0.3753\n",
            "Epoch 36/100\n",
            "49/49 [==============================] - 0s 2ms/step - loss: 0.6922 - accuracy: 0.7550 - val_loss: 1.3680 - val_accuracy: 0.3728\n",
            "Epoch 37/100\n",
            "49/49 [==============================] - 0s 2ms/step - loss: 0.7425 - accuracy: 0.7187 - val_loss: 1.3509 - val_accuracy: 0.3805\n",
            "Epoch 38/100\n",
            "49/49 [==============================] - 0s 2ms/step - loss: 0.7115 - accuracy: 0.7342 - val_loss: 1.3805 - val_accuracy: 0.3728\n",
            "Epoch 39/100\n",
            "49/49 [==============================] - 0s 2ms/step - loss: 0.7206 - accuracy: 0.7441 - val_loss: 1.3557 - val_accuracy: 0.3856\n",
            "Epoch 40/100\n",
            "49/49 [==============================] - 0s 2ms/step - loss: 0.6895 - accuracy: 0.7491 - val_loss: 1.3382 - val_accuracy: 0.4010\n",
            "Epoch 41/100\n",
            "49/49 [==============================] - 0s 2ms/step - loss: 0.7108 - accuracy: 0.7370 - val_loss: 1.3580 - val_accuracy: 0.3856\n",
            "Epoch 42/100\n",
            "49/49 [==============================] - 0s 2ms/step - loss: 0.7041 - accuracy: 0.7392 - val_loss: 1.3556 - val_accuracy: 0.3856\n",
            "Epoch 43/100\n",
            "49/49 [==============================] - 0s 2ms/step - loss: 0.6727 - accuracy: 0.7590 - val_loss: 1.3470 - val_accuracy: 0.3933\n",
            "Epoch 44/100\n",
            "49/49 [==============================] - 0s 2ms/step - loss: 0.6970 - accuracy: 0.7516 - val_loss: 1.3529 - val_accuracy: 0.3830\n",
            "Epoch 45/100\n",
            "49/49 [==============================] - 0s 2ms/step - loss: 0.6729 - accuracy: 0.7640 - val_loss: 1.3210 - val_accuracy: 0.4036\n",
            "Epoch 46/100\n",
            "49/49 [==============================] - 0s 2ms/step - loss: 0.6373 - accuracy: 0.7776 - val_loss: 1.3168 - val_accuracy: 0.4036\n",
            "Epoch 47/100\n",
            "49/49 [==============================] - 0s 2ms/step - loss: 0.6871 - accuracy: 0.7567 - val_loss: 1.3315 - val_accuracy: 0.4036\n",
            "Epoch 48/100\n",
            "49/49 [==============================] - 0s 2ms/step - loss: 0.6664 - accuracy: 0.7629 - val_loss: 1.3202 - val_accuracy: 0.4062\n",
            "Epoch 49/100\n",
            "49/49 [==============================] - 0s 2ms/step - loss: 0.6282 - accuracy: 0.7831 - val_loss: 1.3338 - val_accuracy: 0.3985\n",
            "Epoch 50/100\n",
            "49/49 [==============================] - 0s 3ms/step - loss: 0.6353 - accuracy: 0.7649 - val_loss: 1.3451 - val_accuracy: 0.3933\n",
            "Epoch 51/100\n",
            "49/49 [==============================] - 0s 2ms/step - loss: 0.6369 - accuracy: 0.7668 - val_loss: 1.2990 - val_accuracy: 0.4216\n",
            "Epoch 52/100\n",
            "49/49 [==============================] - 0s 2ms/step - loss: 0.6590 - accuracy: 0.7632 - val_loss: 1.3283 - val_accuracy: 0.4062\n",
            "Epoch 53/100\n",
            "49/49 [==============================] - 0s 2ms/step - loss: 0.6340 - accuracy: 0.7615 - val_loss: 1.2884 - val_accuracy: 0.4267\n",
            "Epoch 54/100\n",
            "49/49 [==============================] - 0s 3ms/step - loss: 0.6259 - accuracy: 0.7694 - val_loss: 1.2737 - val_accuracy: 0.4344\n",
            "Epoch 55/100\n",
            "49/49 [==============================] - 0s 2ms/step - loss: 0.6386 - accuracy: 0.7745 - val_loss: 1.3053 - val_accuracy: 0.4216\n",
            "Epoch 56/100\n",
            "49/49 [==============================] - 0s 2ms/step - loss: 0.6058 - accuracy: 0.7829 - val_loss: 1.3238 - val_accuracy: 0.4036\n",
            "Epoch 57/100\n",
            "49/49 [==============================] - 0s 2ms/step - loss: 0.6240 - accuracy: 0.7780 - val_loss: 1.3183 - val_accuracy: 0.4087\n",
            "Epoch 58/100\n",
            "49/49 [==============================] - 0s 2ms/step - loss: 0.6408 - accuracy: 0.7572 - val_loss: 1.2685 - val_accuracy: 0.4396\n",
            "Epoch 59/100\n",
            "49/49 [==============================] - 0s 2ms/step - loss: 0.6488 - accuracy: 0.7596 - val_loss: 1.3244 - val_accuracy: 0.4087\n",
            "Epoch 60/100\n",
            "49/49 [==============================] - 0s 3ms/step - loss: 0.5975 - accuracy: 0.7819 - val_loss: 1.2913 - val_accuracy: 0.4319\n",
            "Epoch 61/100\n",
            "49/49 [==============================] - 0s 3ms/step - loss: 0.6094 - accuracy: 0.7703 - val_loss: 1.2950 - val_accuracy: 0.4319\n",
            "Epoch 62/100\n",
            "49/49 [==============================] - 0s 3ms/step - loss: 0.5912 - accuracy: 0.7783 - val_loss: 1.2813 - val_accuracy: 0.4344\n",
            "Epoch 63/100\n",
            "49/49 [==============================] - 0s 3ms/step - loss: 0.6086 - accuracy: 0.7682 - val_loss: 1.2815 - val_accuracy: 0.4344\n",
            "Epoch 64/100\n",
            "49/49 [==============================] - 0s 3ms/step - loss: 0.6212 - accuracy: 0.7663 - val_loss: 1.2919 - val_accuracy: 0.4370\n",
            "Epoch 65/100\n",
            "49/49 [==============================] - 0s 3ms/step - loss: 0.5861 - accuracy: 0.7841 - val_loss: 1.2735 - val_accuracy: 0.4422\n",
            "Epoch 66/100\n",
            "49/49 [==============================] - 0s 3ms/step - loss: 0.6080 - accuracy: 0.7645 - val_loss: 1.2954 - val_accuracy: 0.4267\n",
            "Epoch 67/100\n",
            "49/49 [==============================] - 0s 3ms/step - loss: 0.6049 - accuracy: 0.7667 - val_loss: 1.3320 - val_accuracy: 0.4216\n",
            "Epoch 68/100\n",
            "49/49 [==============================] - 0s 2ms/step - loss: 0.6028 - accuracy: 0.7571 - val_loss: 1.2947 - val_accuracy: 0.4344\n",
            "Epoch 69/100\n",
            "49/49 [==============================] - 0s 2ms/step - loss: 0.5853 - accuracy: 0.7837 - val_loss: 1.2964 - val_accuracy: 0.4344\n",
            "Epoch 70/100\n",
            "49/49 [==============================] - 0s 2ms/step - loss: 0.6174 - accuracy: 0.7668 - val_loss: 1.3019 - val_accuracy: 0.4396\n",
            "Epoch 71/100\n",
            "49/49 [==============================] - 0s 2ms/step - loss: 0.5943 - accuracy: 0.7734 - val_loss: 1.2831 - val_accuracy: 0.4396\n",
            "Epoch 72/100\n",
            "49/49 [==============================] - 0s 2ms/step - loss: 0.5778 - accuracy: 0.7866 - val_loss: 1.2769 - val_accuracy: 0.4396\n",
            "Epoch 73/100\n",
            "49/49 [==============================] - 0s 3ms/step - loss: 0.5625 - accuracy: 0.7849 - val_loss: 1.2701 - val_accuracy: 0.4447\n",
            "Epoch 74/100\n",
            "49/49 [==============================] - 0s 2ms/step - loss: 0.5777 - accuracy: 0.7786 - val_loss: 1.2945 - val_accuracy: 0.4396\n",
            "Epoch 75/100\n",
            "49/49 [==============================] - 0s 3ms/step - loss: 0.5797 - accuracy: 0.7824 - val_loss: 1.2832 - val_accuracy: 0.4447\n",
            "Epoch 76/100\n",
            "49/49 [==============================] - 0s 2ms/step - loss: 0.5587 - accuracy: 0.7775 - val_loss: 1.3090 - val_accuracy: 0.4370\n",
            "Epoch 77/100\n",
            "49/49 [==============================] - 0s 2ms/step - loss: 0.5731 - accuracy: 0.7840 - val_loss: 1.2925 - val_accuracy: 0.4447\n",
            "Epoch 78/100\n",
            "49/49 [==============================] - 0s 2ms/step - loss: 0.5693 - accuracy: 0.7907 - val_loss: 1.2806 - val_accuracy: 0.4447\n",
            "Epoch 79/100\n",
            "49/49 [==============================] - 0s 2ms/step - loss: 0.5496 - accuracy: 0.8010 - val_loss: 1.2876 - val_accuracy: 0.4447\n",
            "Epoch 80/100\n",
            "49/49 [==============================] - 0s 2ms/step - loss: 0.5574 - accuracy: 0.7846 - val_loss: 1.2885 - val_accuracy: 0.4447\n",
            "Epoch 81/100\n",
            "49/49 [==============================] - 0s 2ms/step - loss: 0.5708 - accuracy: 0.7858 - val_loss: 1.2765 - val_accuracy: 0.4499\n",
            "Epoch 82/100\n",
            "49/49 [==============================] - 0s 2ms/step - loss: 0.5499 - accuracy: 0.7846 - val_loss: 1.2999 - val_accuracy: 0.4422\n",
            "Epoch 83/100\n",
            "49/49 [==============================] - 0s 3ms/step - loss: 0.5520 - accuracy: 0.7846 - val_loss: 1.2760 - val_accuracy: 0.4499\n",
            "Epoch 84/100\n",
            "49/49 [==============================] - 0s 2ms/step - loss: 0.5718 - accuracy: 0.7846 - val_loss: 1.2936 - val_accuracy: 0.4422\n",
            "Epoch 85/100\n",
            "49/49 [==============================] - 0s 2ms/step - loss: 0.5516 - accuracy: 0.7954 - val_loss: 1.2678 - val_accuracy: 0.4524\n",
            "Epoch 86/100\n",
            "49/49 [==============================] - 0s 2ms/step - loss: 0.5186 - accuracy: 0.8099 - val_loss: 1.2966 - val_accuracy: 0.4344\n",
            "Epoch 87/100\n",
            "49/49 [==============================] - 0s 2ms/step - loss: 0.5567 - accuracy: 0.7880 - val_loss: 1.2815 - val_accuracy: 0.4396\n",
            "Epoch 88/100\n",
            "49/49 [==============================] - 0s 2ms/step - loss: 0.5671 - accuracy: 0.7806 - val_loss: 1.2601 - val_accuracy: 0.4576\n",
            "Epoch 89/100\n",
            "49/49 [==============================] - 0s 3ms/step - loss: 0.5701 - accuracy: 0.7867 - val_loss: 1.2786 - val_accuracy: 0.4499\n",
            "Epoch 90/100\n",
            "49/49 [==============================] - 0s 2ms/step - loss: 0.5743 - accuracy: 0.7821 - val_loss: 1.2847 - val_accuracy: 0.4422\n",
            "Epoch 91/100\n",
            "49/49 [==============================] - 0s 2ms/step - loss: 0.5308 - accuracy: 0.7983 - val_loss: 1.2585 - val_accuracy: 0.4576\n",
            "Epoch 92/100\n",
            "49/49 [==============================] - 0s 2ms/step - loss: 0.5459 - accuracy: 0.7865 - val_loss: 1.2766 - val_accuracy: 0.4447\n",
            "Epoch 93/100\n",
            "49/49 [==============================] - 0s 2ms/step - loss: 0.5591 - accuracy: 0.7778 - val_loss: 1.2862 - val_accuracy: 0.4370\n",
            "Epoch 94/100\n",
            "49/49 [==============================] - 0s 2ms/step - loss: 0.5288 - accuracy: 0.8011 - val_loss: 1.2728 - val_accuracy: 0.4447\n",
            "Epoch 95/100\n",
            "49/49 [==============================] - 0s 2ms/step - loss: 0.5073 - accuracy: 0.8049 - val_loss: 1.2974 - val_accuracy: 0.4344\n",
            "Epoch 96/100\n",
            "49/49 [==============================] - 0s 2ms/step - loss: 0.5542 - accuracy: 0.7906 - val_loss: 1.2944 - val_accuracy: 0.4344\n",
            "Epoch 97/100\n",
            "49/49 [==============================] - 0s 2ms/step - loss: 0.5299 - accuracy: 0.7959 - val_loss: 1.3212 - val_accuracy: 0.4267\n",
            "Epoch 98/100\n",
            "49/49 [==============================] - 0s 2ms/step - loss: 0.5612 - accuracy: 0.7886 - val_loss: 1.3081 - val_accuracy: 0.4319\n",
            "Epoch 99/100\n",
            "49/49 [==============================] - 0s 3ms/step - loss: 0.5335 - accuracy: 0.7916 - val_loss: 1.3016 - val_accuracy: 0.4319\n",
            "Epoch 100/100\n",
            "49/49 [==============================] - 0s 2ms/step - loss: 0.5442 - accuracy: 0.7972 - val_loss: 1.2840 - val_accuracy: 0.4447\n"
          ],
          "name": "stdout"
        }
      ]
    },
    {
      "cell_type": "markdown",
      "metadata": {
        "id": "JmDm0_OK2YRG"
      },
      "source": [
        "# Exercício. Visualize o modelo\n",
        "\n",
        "Empregue o comando `model.summary()` para exibir o modelo. O código a seguir exibe graficamente a rede criada.\n",
        "\n",
        "\\* nota: o símbolo ? aparece na figura é empregado para outros modelos de rede.  "
      ]
    },
    {
      "cell_type": "code",
      "metadata": {
        "id": "2tylKPO59VTJ",
        "colab": {
          "base_uri": "https://localhost:8080/"
        },
        "outputId": "9d954229-d2fd-47f1-fac8-d68dd3d61dec"
      },
      "source": [
        "# Seu código\n",
        "model.summary() \n",
        "\n"
      ],
      "execution_count": null,
      "outputs": [
        {
          "output_type": "stream",
          "text": [
            "Model: \"sequential\"\n",
            "_________________________________________________________________\n",
            "Layer (type)                 Output Shape              Param #   \n",
            "=================================================================\n",
            "dense (Dense)                (None, 27)                756       \n",
            "_________________________________________________________________\n",
            "dense_1 (Dense)              (None, 16)                448       \n",
            "_________________________________________________________________\n",
            "dense_2 (Dense)              (None, 7)                 119       \n",
            "=================================================================\n",
            "Total params: 1,323\n",
            "Trainable params: 1,323\n",
            "Non-trainable params: 0\n",
            "_________________________________________________________________\n"
          ],
          "name": "stdout"
        }
      ]
    },
    {
      "cell_type": "code",
      "metadata": {
        "id": "fOizcCZV2ltg",
        "colab": {
          "base_uri": "https://localhost:8080/",
          "height": 422
        },
        "outputId": "65ba9c3c-c331-492d-b30b-16d7fcaa287d"
      },
      "source": [
        "from keras.utils.vis_utils import plot_model\n",
        "plot_model(model, to_file='model_plot.png', show_shapes=True, show_layer_names=True)"
      ],
      "execution_count": null,
      "outputs": [
        {
          "output_type": "execute_result",
          "data": {
            "image/png": "[encoded data removed]",
            "text/plain": [
              "<IPython.core.display.Image object>"
            ]
          },
          "metadata": {
            "tags": []
          },
          "execution_count": 20
        }
      ]
    },
    {
      "cell_type": "markdown",
      "metadata": {
        "id": "zqAisF1e3T0c"
      },
      "source": [
        "# Exercício. Analise o Treinamento da Rede\n",
        "\n",
        "Empregue a função `plot_loss_acc` abaixo (veja a sintaxe da chamada na teoria) para analisar o treinamento da rede. "
      ]
    },
    {
      "cell_type": "code",
      "metadata": {
        "id": "1Lw1W6ed1rRG"
      },
      "source": [
        "def plot_loss_acc(history,more_title=''):\n",
        "    \n",
        "    loss = history.history['loss']\n",
        "    val_loss = history.history['val_loss']\n",
        "    epochs = range(1, len(loss) + 1)\n",
        "    plt.figure(figsize=(8,5))\n",
        "    plt.plot(epochs, loss, 'y', label='Training loss')\n",
        "    plt.plot(epochs, val_loss, 'r', label='Validation loss')\n",
        "    plt.title('Training and validation loss' + ' ' + more_title)\n",
        "    plt.xlabel('Epochs')\n",
        "    plt.ylabel('Loss')\n",
        "    plt.legend()\n",
        "    plt.show()\n",
        "    \n",
        "    acc = history.history['accuracy']\n",
        "    val_acc = history.history['val_accuracy']\n",
        "    plt.figure(figsize=(8,5))\n",
        "    plt.plot(epochs, acc, 'y', label='Training acc')\n",
        "    plt.plot(epochs, val_acc, 'r', label='Validation acc')\n",
        "    plt.title('Training and validation accuracy' + ' ' + more_title)\n",
        "    plt.xlabel('Epochs')\n",
        "    plt.ylabel('Accuracy')\n",
        "    plt.legend()\n",
        "    plt.show()\n",
        "\n",
        "    print(more_title + 'Accuracy Train: {:.2f} %, Accuracy Test: {:.2f} %'.format(acc[len(acc)-1] *100, val_acc[len(val_acc)-1]*100))\n",
        "\n",
        "    return loss, val_loss, acc, val_acc\n"
      ],
      "execution_count": null,
      "outputs": []
    },
    {
      "cell_type": "code",
      "metadata": {
        "id": "n2o3_oeQ9Y5u",
        "colab": {
          "base_uri": "https://localhost:8080/",
          "height": 700
        },
        "outputId": "4c2ae928-b6e6-49ce-99b1-b0e851e42597"
      },
      "source": [
        "# Seu código\n",
        "loss, val_loss, acc, val_acc = plot_loss_acc(history,'One Hidden Layer Neural Network 27, 16, 7 (sigmoid)')\n"
      ],
      "execution_count": null,
      "outputs": [
        {
          "output_type": "display_data",
          "data": {
            "image/png": "[encoded data removed]",
            "text/plain": [
              "<Figure size 576x360 with 1 Axes>"
            ]
          },
          "metadata": {
            "tags": [],
            "needs_background": "light"
          }
        },
        {
          "output_type": "display_data",
          "data": {
            "image/png": "[encoded data removed]",
            "text/plain": [
              "<Figure size 576x360 with 1 Axes>"
            ]
          },
          "metadata": {
            "tags": [],
            "needs_background": "light"
          }
        },
        {
          "output_type": "stream",
          "text": [
            "One Hidden Layer Neural Network 27, 16, 7 (sigmoid)Accuracy Train: 80.09 %, Accuracy Test: 44.47 %\n"
          ],
          "name": "stdout"
        }
      ]
    },
    {
      "cell_type": "markdown",
      "metadata": {
        "id": "pmfPcs6J0ZFC"
      },
      "source": [
        "# Exercício. Reduzindo o *Overfitting* (**RESOLVIDO**)\n",
        "\n",
        "O *overfitting* ou sobreajuste é uma acuracidade excessiva do modelo no conjunto de treinamento. Isso pode levar a modelos pouco generalizados e, depois de outras métricas de acuracidade, é uma métrica que deve ser analisada para a qualidade do modelo.\n",
        "\n",
        "Aqui empregaremos uma técnica chamada `drop out`. "
      ]
    },
    {
      "cell_type": "code",
      "metadata": {
        "id": "j697q2f30G9c",
        "colab": {
          "base_uri": "https://localhost:8080/",
          "height": 1000
        },
        "outputId": "026c707f-8ade-47b3-c48c-19c28bbd3fa7"
      },
      "source": [
        "all_results = [] \n",
        "from keras.layers import Dropout\n",
        "\n",
        "from numpy.random import seed\n",
        "seed(1984)\n",
        "tf.random.set_seed(1984)\n",
        "\n",
        "\n",
        "model = Sequential([layers.Dense(X.shape[1], activation='sigmoid', input_shape=[X.shape[1],])]) \n",
        "model.add(Dropout(0.20))\n",
        "\n",
        "model.add(layers.Dense(16, activation='sigmoid'))\n",
        "\n",
        "model.add(layers.Dense(7, activation='sigmoid'))\n",
        "\n",
        "model.compile(loss='categorical_crossentropy', optimizer='adam', metrics=['accuracy'])\n",
        "\n",
        "history = model.fit(X_train, y_train, validation_split=0.2, epochs=100)\n",
        "\n",
        "loss, val_loss, acc, val_acc = plot_loss_acc(history,'One Hidden Layer Neural Network 27, 16, 7 (sigmoid)')\n"
      ],
      "execution_count": null,
      "outputs": [
        {
          "output_type": "stream",
          "text": [
            "Epoch 1/100\n",
            "34/34 [==============================] - 1s 8ms/step - loss: 1.8982 - accuracy: 0.2369 - val_loss: 1.7212 - val_accuracy: 0.3603\n",
            "Epoch 2/100\n",
            "34/34 [==============================] - 0s 3ms/step - loss: 1.7423 - accuracy: 0.3427 - val_loss: 1.6221 - val_accuracy: 0.3603\n",
            "Epoch 3/100\n",
            "34/34 [==============================] - 0s 2ms/step - loss: 1.6456 - accuracy: 0.3593 - val_loss: 1.5573 - val_accuracy: 0.3676\n",
            "Epoch 4/100\n",
            "34/34 [==============================] - 0s 2ms/step - loss: 1.5891 - accuracy: 0.3914 - val_loss: 1.5050 - val_accuracy: 0.5110\n",
            "Epoch 5/100\n",
            "34/34 [==============================] - 0s 3ms/step - loss: 1.5670 - accuracy: 0.4478 - val_loss: 1.4565 - val_accuracy: 0.5331\n",
            "Epoch 6/100\n",
            "34/34 [==============================] - 0s 3ms/step - loss: 1.4884 - accuracy: 0.5045 - val_loss: 1.4103 - val_accuracy: 0.5294\n",
            "Epoch 7/100\n",
            "34/34 [==============================] - 0s 2ms/step - loss: 1.4894 - accuracy: 0.4607 - val_loss: 1.3684 - val_accuracy: 0.5368\n",
            "Epoch 8/100\n",
            "34/34 [==============================] - 0s 2ms/step - loss: 1.4060 - accuracy: 0.5031 - val_loss: 1.3304 - val_accuracy: 0.5441\n",
            "Epoch 9/100\n",
            "34/34 [==============================] - 0s 3ms/step - loss: 1.3896 - accuracy: 0.5017 - val_loss: 1.2964 - val_accuracy: 0.5515\n",
            "Epoch 10/100\n",
            "34/34 [==============================] - 0s 3ms/step - loss: 1.3208 - accuracy: 0.5132 - val_loss: 1.2642 - val_accuracy: 0.5662\n",
            "Epoch 11/100\n",
            "34/34 [==============================] - 0s 3ms/step - loss: 1.3397 - accuracy: 0.5053 - val_loss: 1.2362 - val_accuracy: 0.5699\n",
            "Epoch 12/100\n",
            "34/34 [==============================] - 0s 2ms/step - loss: 1.2672 - accuracy: 0.5254 - val_loss: 1.2081 - val_accuracy: 0.5882\n",
            "Epoch 13/100\n",
            "34/34 [==============================] - 0s 2ms/step - loss: 1.2991 - accuracy: 0.4918 - val_loss: 1.1842 - val_accuracy: 0.5846\n",
            "Epoch 14/100\n",
            "34/34 [==============================] - 0s 2ms/step - loss: 1.2594 - accuracy: 0.5403 - val_loss: 1.1608 - val_accuracy: 0.5846\n",
            "Epoch 15/100\n",
            "34/34 [==============================] - 0s 2ms/step - loss: 1.1648 - accuracy: 0.5703 - val_loss: 1.1372 - val_accuracy: 0.5846\n",
            "Epoch 16/100\n",
            "34/34 [==============================] - 0s 2ms/step - loss: 1.2006 - accuracy: 0.5419 - val_loss: 1.1162 - val_accuracy: 0.5919\n",
            "Epoch 17/100\n",
            "34/34 [==============================] - 0s 2ms/step - loss: 1.2131 - accuracy: 0.5279 - val_loss: 1.0954 - val_accuracy: 0.5993\n",
            "Epoch 18/100\n",
            "34/34 [==============================] - 0s 2ms/step - loss: 1.1682 - accuracy: 0.5805 - val_loss: 1.0772 - val_accuracy: 0.6176\n",
            "Epoch 19/100\n",
            "34/34 [==============================] - 0s 3ms/step - loss: 1.1376 - accuracy: 0.5870 - val_loss: 1.0597 - val_accuracy: 0.6324\n",
            "Epoch 20/100\n",
            "34/34 [==============================] - 0s 2ms/step - loss: 1.1333 - accuracy: 0.5889 - val_loss: 1.0420 - val_accuracy: 0.6397\n",
            "Epoch 21/100\n",
            "34/34 [==============================] - 0s 3ms/step - loss: 1.0904 - accuracy: 0.5901 - val_loss: 1.0286 - val_accuracy: 0.6507\n",
            "Epoch 22/100\n",
            "34/34 [==============================] - 0s 2ms/step - loss: 1.0808 - accuracy: 0.6169 - val_loss: 1.0156 - val_accuracy: 0.6544\n",
            "Epoch 23/100\n",
            "34/34 [==============================] - 0s 3ms/step - loss: 1.0647 - accuracy: 0.6053 - val_loss: 0.9997 - val_accuracy: 0.6581\n",
            "Epoch 24/100\n",
            "34/34 [==============================] - 0s 5ms/step - loss: 1.0426 - accuracy: 0.6334 - val_loss: 0.9872 - val_accuracy: 0.6544\n",
            "Epoch 25/100\n",
            "34/34 [==============================] - 0s 3ms/step - loss: 1.0482 - accuracy: 0.6069 - val_loss: 0.9744 - val_accuracy: 0.6544\n",
            "Epoch 26/100\n",
            "34/34 [==============================] - 0s 3ms/step - loss: 1.0252 - accuracy: 0.6136 - val_loss: 0.9637 - val_accuracy: 0.6544\n",
            "Epoch 27/100\n",
            "34/34 [==============================] - 0s 3ms/step - loss: 1.0117 - accuracy: 0.6439 - val_loss: 0.9507 - val_accuracy: 0.6434\n",
            "Epoch 28/100\n",
            "34/34 [==============================] - 0s 3ms/step - loss: 0.9970 - accuracy: 0.6247 - val_loss: 0.9405 - val_accuracy: 0.6507\n",
            "Epoch 29/100\n",
            "34/34 [==============================] - 0s 4ms/step - loss: 0.9993 - accuracy: 0.6118 - val_loss: 0.9328 - val_accuracy: 0.6507\n",
            "Epoch 30/100\n",
            "34/34 [==============================] - 0s 3ms/step - loss: 0.9718 - accuracy: 0.6251 - val_loss: 0.9236 - val_accuracy: 0.6581\n",
            "Epoch 31/100\n",
            "34/34 [==============================] - 0s 3ms/step - loss: 1.0018 - accuracy: 0.6003 - val_loss: 0.9148 - val_accuracy: 0.6581\n",
            "Epoch 32/100\n",
            "34/34 [==============================] - 0s 3ms/step - loss: 0.9791 - accuracy: 0.6300 - val_loss: 0.9082 - val_accuracy: 0.6654\n",
            "Epoch 33/100\n",
            "34/34 [==============================] - 0s 3ms/step - loss: 0.9579 - accuracy: 0.6453 - val_loss: 0.8988 - val_accuracy: 0.6544\n",
            "Epoch 34/100\n",
            "34/34 [==============================] - 0s 2ms/step - loss: 0.9755 - accuracy: 0.6284 - val_loss: 0.8917 - val_accuracy: 0.6544\n",
            "Epoch 35/100\n",
            "34/34 [==============================] - 0s 3ms/step - loss: 0.9513 - accuracy: 0.6561 - val_loss: 0.8868 - val_accuracy: 0.6654\n",
            "Epoch 36/100\n",
            "34/34 [==============================] - 0s 2ms/step - loss: 0.9509 - accuracy: 0.6222 - val_loss: 0.8801 - val_accuracy: 0.6618\n",
            "Epoch 37/100\n",
            "34/34 [==============================] - 0s 3ms/step - loss: 0.9294 - accuracy: 0.6462 - val_loss: 0.8750 - val_accuracy: 0.6691\n",
            "Epoch 38/100\n",
            "34/34 [==============================] - 0s 2ms/step - loss: 0.9123 - accuracy: 0.6701 - val_loss: 0.8705 - val_accuracy: 0.6654\n",
            "Epoch 39/100\n",
            "34/34 [==============================] - 0s 2ms/step - loss: 0.9139 - accuracy: 0.6394 - val_loss: 0.8638 - val_accuracy: 0.6728\n",
            "Epoch 40/100\n",
            "34/34 [==============================] - 0s 3ms/step - loss: 0.9202 - accuracy: 0.6398 - val_loss: 0.8601 - val_accuracy: 0.6691\n",
            "Epoch 41/100\n",
            "34/34 [==============================] - 0s 2ms/step - loss: 0.8896 - accuracy: 0.6627 - val_loss: 0.8550 - val_accuracy: 0.6654\n",
            "Epoch 42/100\n",
            "34/34 [==============================] - 0s 2ms/step - loss: 0.9330 - accuracy: 0.6352 - val_loss: 0.8499 - val_accuracy: 0.6618\n",
            "Epoch 43/100\n",
            "34/34 [==============================] - 0s 3ms/step - loss: 0.8715 - accuracy: 0.6648 - val_loss: 0.8470 - val_accuracy: 0.6654\n",
            "Epoch 44/100\n",
            "34/34 [==============================] - 0s 3ms/step - loss: 0.8684 - accuracy: 0.6743 - val_loss: 0.8432 - val_accuracy: 0.6691\n",
            "Epoch 45/100\n",
            "34/34 [==============================] - 0s 3ms/step - loss: 0.8439 - accuracy: 0.6828 - val_loss: 0.8397 - val_accuracy: 0.6765\n",
            "Epoch 46/100\n",
            "34/34 [==============================] - 0s 2ms/step - loss: 0.8699 - accuracy: 0.6651 - val_loss: 0.8368 - val_accuracy: 0.6875\n",
            "Epoch 47/100\n",
            "34/34 [==============================] - 0s 2ms/step - loss: 0.8601 - accuracy: 0.6826 - val_loss: 0.8344 - val_accuracy: 0.6875\n",
            "Epoch 48/100\n",
            "34/34 [==============================] - 0s 3ms/step - loss: 0.8696 - accuracy: 0.6719 - val_loss: 0.8304 - val_accuracy: 0.6765\n",
            "Epoch 49/100\n",
            "34/34 [==============================] - 0s 2ms/step - loss: 0.8709 - accuracy: 0.6664 - val_loss: 0.8283 - val_accuracy: 0.6912\n",
            "Epoch 50/100\n",
            "34/34 [==============================] - 0s 2ms/step - loss: 0.8550 - accuracy: 0.6804 - val_loss: 0.8232 - val_accuracy: 0.6838\n",
            "Epoch 51/100\n",
            "34/34 [==============================] - 0s 3ms/step - loss: 0.8565 - accuracy: 0.6767 - val_loss: 0.8215 - val_accuracy: 0.6801\n",
            "Epoch 52/100\n",
            "34/34 [==============================] - 0s 2ms/step - loss: 0.8714 - accuracy: 0.6691 - val_loss: 0.8217 - val_accuracy: 0.6912\n",
            "Epoch 53/100\n",
            "34/34 [==============================] - 0s 2ms/step - loss: 0.8237 - accuracy: 0.7070 - val_loss: 0.8186 - val_accuracy: 0.6875\n",
            "Epoch 54/100\n",
            "34/34 [==============================] - 0s 2ms/step - loss: 0.7735 - accuracy: 0.7198 - val_loss: 0.8155 - val_accuracy: 0.6949\n",
            "Epoch 55/100\n",
            "34/34 [==============================] - 0s 3ms/step - loss: 0.8157 - accuracy: 0.6793 - val_loss: 0.8124 - val_accuracy: 0.6838\n",
            "Epoch 56/100\n",
            "34/34 [==============================] - 0s 3ms/step - loss: 0.8311 - accuracy: 0.6719 - val_loss: 0.8119 - val_accuracy: 0.6912\n",
            "Epoch 57/100\n",
            "34/34 [==============================] - 0s 2ms/step - loss: 0.8543 - accuracy: 0.6707 - val_loss: 0.8088 - val_accuracy: 0.6949\n",
            "Epoch 58/100\n",
            "34/34 [==============================] - 0s 2ms/step - loss: 0.8427 - accuracy: 0.6643 - val_loss: 0.8076 - val_accuracy: 0.6949\n",
            "Epoch 59/100\n",
            "34/34 [==============================] - 0s 2ms/step - loss: 0.8414 - accuracy: 0.6766 - val_loss: 0.8052 - val_accuracy: 0.7096\n",
            "Epoch 60/100\n",
            "34/34 [==============================] - 0s 2ms/step - loss: 0.7930 - accuracy: 0.7045 - val_loss: 0.8035 - val_accuracy: 0.7022\n",
            "Epoch 61/100\n",
            "34/34 [==============================] - 0s 3ms/step - loss: 0.8422 - accuracy: 0.6614 - val_loss: 0.8040 - val_accuracy: 0.7059\n",
            "Epoch 62/100\n",
            "34/34 [==============================] - 0s 2ms/step - loss: 0.7679 - accuracy: 0.7051 - val_loss: 0.7998 - val_accuracy: 0.7059\n",
            "Epoch 63/100\n",
            "34/34 [==============================] - 0s 3ms/step - loss: 0.8100 - accuracy: 0.6865 - val_loss: 0.7978 - val_accuracy: 0.7096\n",
            "Epoch 64/100\n",
            "34/34 [==============================] - 0s 3ms/step - loss: 0.7873 - accuracy: 0.7062 - val_loss: 0.7970 - val_accuracy: 0.7096\n",
            "Epoch 65/100\n",
            "34/34 [==============================] - 0s 2ms/step - loss: 0.8007 - accuracy: 0.6934 - val_loss: 0.7962 - val_accuracy: 0.7132\n",
            "Epoch 66/100\n",
            "34/34 [==============================] - 0s 3ms/step - loss: 0.8012 - accuracy: 0.6946 - val_loss: 0.7927 - val_accuracy: 0.7022\n",
            "Epoch 67/100\n",
            "34/34 [==============================] - 0s 2ms/step - loss: 0.8121 - accuracy: 0.6873 - val_loss: 0.7940 - val_accuracy: 0.7059\n",
            "Epoch 68/100\n",
            "34/34 [==============================] - 0s 3ms/step - loss: 0.7786 - accuracy: 0.7181 - val_loss: 0.7904 - val_accuracy: 0.7059\n",
            "Epoch 69/100\n",
            "34/34 [==============================] - 0s 2ms/step - loss: 0.8371 - accuracy: 0.6830 - val_loss: 0.7889 - val_accuracy: 0.7169\n",
            "Epoch 70/100\n",
            "34/34 [==============================] - 0s 2ms/step - loss: 0.7424 - accuracy: 0.7105 - val_loss: 0.7885 - val_accuracy: 0.7059\n",
            "Epoch 71/100\n",
            "34/34 [==============================] - 0s 2ms/step - loss: 0.7752 - accuracy: 0.6981 - val_loss: 0.7863 - val_accuracy: 0.7169\n",
            "Epoch 72/100\n",
            "34/34 [==============================] - 0s 2ms/step - loss: 0.7599 - accuracy: 0.7057 - val_loss: 0.7838 - val_accuracy: 0.7132\n",
            "Epoch 73/100\n",
            "34/34 [==============================] - 0s 2ms/step - loss: 0.8157 - accuracy: 0.6761 - val_loss: 0.7848 - val_accuracy: 0.7059\n",
            "Epoch 74/100\n",
            "34/34 [==============================] - 0s 3ms/step - loss: 0.7868 - accuracy: 0.6900 - val_loss: 0.7836 - val_accuracy: 0.7096\n",
            "Epoch 75/100\n",
            "34/34 [==============================] - 0s 2ms/step - loss: 0.8111 - accuracy: 0.6818 - val_loss: 0.7809 - val_accuracy: 0.7096\n",
            "Epoch 76/100\n",
            "34/34 [==============================] - 0s 3ms/step - loss: 0.7794 - accuracy: 0.7063 - val_loss: 0.7816 - val_accuracy: 0.7132\n",
            "Epoch 77/100\n",
            "34/34 [==============================] - 0s 3ms/step - loss: 0.7840 - accuracy: 0.6948 - val_loss: 0.7780 - val_accuracy: 0.7132\n",
            "Epoch 78/100\n",
            "34/34 [==============================] - 0s 2ms/step - loss: 0.7515 - accuracy: 0.7022 - val_loss: 0.7754 - val_accuracy: 0.7132\n",
            "Epoch 79/100\n",
            "34/34 [==============================] - 0s 2ms/step - loss: 0.7474 - accuracy: 0.7302 - val_loss: 0.7751 - val_accuracy: 0.6985\n",
            "Epoch 80/100\n",
            "34/34 [==============================] - 0s 2ms/step - loss: 0.8242 - accuracy: 0.6820 - val_loss: 0.7731 - val_accuracy: 0.7022\n",
            "Epoch 81/100\n",
            "34/34 [==============================] - 0s 2ms/step - loss: 0.7691 - accuracy: 0.7040 - val_loss: 0.7718 - val_accuracy: 0.7132\n",
            "Epoch 82/100\n",
            "34/34 [==============================] - 0s 2ms/step - loss: 0.7665 - accuracy: 0.7148 - val_loss: 0.7714 - val_accuracy: 0.7096\n",
            "Epoch 83/100\n",
            "34/34 [==============================] - 0s 2ms/step - loss: 0.7849 - accuracy: 0.7046 - val_loss: 0.7702 - val_accuracy: 0.7059\n",
            "Epoch 84/100\n",
            "34/34 [==============================] - 0s 3ms/step - loss: 0.7601 - accuracy: 0.6909 - val_loss: 0.7677 - val_accuracy: 0.7096\n",
            "Epoch 85/100\n",
            "34/34 [==============================] - 0s 3ms/step - loss: 0.7422 - accuracy: 0.7082 - val_loss: 0.7677 - val_accuracy: 0.7132\n",
            "Epoch 86/100\n",
            "34/34 [==============================] - 0s 3ms/step - loss: 0.7568 - accuracy: 0.7054 - val_loss: 0.7658 - val_accuracy: 0.7132\n",
            "Epoch 87/100\n",
            "34/34 [==============================] - 0s 2ms/step - loss: 0.7585 - accuracy: 0.7077 - val_loss: 0.7653 - val_accuracy: 0.7132\n",
            "Epoch 88/100\n",
            "34/34 [==============================] - 0s 2ms/step - loss: 0.7775 - accuracy: 0.6844 - val_loss: 0.7634 - val_accuracy: 0.7169\n",
            "Epoch 89/100\n",
            "34/34 [==============================] - 0s 2ms/step - loss: 0.7487 - accuracy: 0.6912 - val_loss: 0.7634 - val_accuracy: 0.7132\n",
            "Epoch 90/100\n",
            "34/34 [==============================] - 0s 3ms/step - loss: 0.7368 - accuracy: 0.6920 - val_loss: 0.7629 - val_accuracy: 0.7279\n",
            "Epoch 91/100\n",
            "34/34 [==============================] - 0s 3ms/step - loss: 0.7157 - accuracy: 0.7214 - val_loss: 0.7611 - val_accuracy: 0.7132\n",
            "Epoch 92/100\n",
            "34/34 [==============================] - 0s 2ms/step - loss: 0.7446 - accuracy: 0.7101 - val_loss: 0.7613 - val_accuracy: 0.7169\n",
            "Epoch 93/100\n",
            "34/34 [==============================] - 0s 3ms/step - loss: 0.7366 - accuracy: 0.7296 - val_loss: 0.7593 - val_accuracy: 0.7169\n",
            "Epoch 94/100\n",
            "34/34 [==============================] - 0s 3ms/step - loss: 0.7124 - accuracy: 0.7070 - val_loss: 0.7592 - val_accuracy: 0.7206\n",
            "Epoch 95/100\n",
            "34/34 [==============================] - 0s 2ms/step - loss: 0.7435 - accuracy: 0.7045 - val_loss: 0.7589 - val_accuracy: 0.7206\n",
            "Epoch 96/100\n",
            "34/34 [==============================] - 0s 2ms/step - loss: 0.7496 - accuracy: 0.6935 - val_loss: 0.7567 - val_accuracy: 0.7096\n",
            "Epoch 97/100\n",
            "34/34 [==============================] - 0s 3ms/step - loss: 0.7286 - accuracy: 0.7188 - val_loss: 0.7564 - val_accuracy: 0.7096\n",
            "Epoch 98/100\n",
            "34/34 [==============================] - 0s 2ms/step - loss: 0.7592 - accuracy: 0.6967 - val_loss: 0.7544 - val_accuracy: 0.7206\n",
            "Epoch 99/100\n",
            "34/34 [==============================] - 0s 2ms/step - loss: 0.7376 - accuracy: 0.7050 - val_loss: 0.7547 - val_accuracy: 0.7169\n",
            "Epoch 100/100\n",
            "34/34 [==============================] - 0s 2ms/step - loss: 0.7605 - accuracy: 0.6935 - val_loss: 0.7527 - val_accuracy: 0.7169\n"
          ],
          "name": "stdout"
        },
        {
          "output_type": "display_data",
          "data": {
            "image/png": "[encoded data removed]",
            "text/plain": [
              "<Figure size 576x360 with 1 Axes>"
            ]
          },
          "metadata": {
            "tags": [],
            "needs_background": "light"
          }
        },
        {
          "output_type": "display_data",
          "data": {
            "image/png": "[encoded data removed]",
            "text/plain": [
              "<Figure size 576x360 with 1 Axes>"
            ]
          },
          "metadata": {
            "tags": [],
            "needs_background": "light"
          }
        },
        {
          "output_type": "stream",
          "text": [
            "One Hidden Layer Neural Network 27, 16, 7 (sigmoid)Accuracy Train: 70.63 %, Accuracy Test: 71.69 %\n"
          ],
          "name": "stdout"
        }
      ]
    },
    {
      "cell_type": "markdown",
      "metadata": {
        "id": "5Oc0b8_O05yj"
      },
      "source": [
        "# Exercício. Fazendo a Predição dos dados de Teste\n",
        "\n",
        "Faça a predição dos casos de teste e analise os resultados empregando o `classification_report` do `scikit-learn`.\n",
        "\n",
        "Lembre-se, cada neurônio de saída da rede retorna a probabilidade de uma das 7 classes. A seleção do neurônio com maior probabilidade retorna a classe mais provável (empregue o comando `np.argmax()`)."
      ]
    },
    {
      "cell_type": "markdown",
      "metadata": {
        "id": "BN9Dm-jk5rfh"
      },
      "source": [
        "Veja a saída:"
      ]
    },
    {
      "cell_type": "code",
      "metadata": {
        "id": "eb2cQfY75kA7",
        "colab": {
          "base_uri": "https://localhost:8080/"
        },
        "outputId": "6bcd7b39-9d32-401a-a15e-03dbbc1b2abc"
      },
      "source": [
        "model.predict(X_test)"
      ],
      "execution_count": null,
      "outputs": [
        {
          "output_type": "execute_result",
          "data": {
            "text/plain": [
              "array([[1.17582053e-01, 9.63451385e-01, 2.53015161e-02, ...,\n",
              "        2.78403163e-02, 4.72322404e-01, 5.97302675e-01],\n",
              "       [3.56518477e-01, 5.72768450e-02, 2.72044539e-03, ...,\n",
              "        2.38608450e-01, 8.64025533e-01, 7.73187339e-01],\n",
              "       [8.26584101e-02, 8.01907182e-02, 9.95062828e-01, ...,\n",
              "        9.06825066e-04, 2.11065412e-01, 6.06372714e-01],\n",
              "       ...,\n",
              "       [1.17328495e-01, 6.52189255e-02, 9.93567824e-01, ...,\n",
              "        1.33103132e-03, 2.10232079e-01, 6.60340071e-01],\n",
              "       [1.04505986e-01, 7.60157704e-02, 9.94019210e-01, ...,\n",
              "        1.12614036e-03, 2.04615593e-01, 6.44700348e-01],\n",
              "       [2.47394085e-01, 6.04160130e-02, 1.18169785e-02, ...,\n",
              "        6.42699003e-02, 8.76000166e-01, 7.47501493e-01]], dtype=float32)"
            ]
          },
          "metadata": {
            "tags": []
          },
          "execution_count": 24
        }
      ]
    },
    {
      "cell_type": "code",
      "metadata": {
        "id": "zbUr3rfj9fVC",
        "colab": {
          "base_uri": "https://localhost:8080/"
        },
        "outputId": "e9d3f6ea-9126-48c1-a9fe-486f27234286"
      },
      "source": [
        "# Seu código\n",
        "model.predict(X_test)\n",
        "np.argmax(model.predict(X_test), axis=-1)"
      ],
      "execution_count": null,
      "outputs": [
        {
          "output_type": "execute_result",
          "data": {
            "text/plain": [
              "array([1, 5, 2, 6, 6, 6, 2, 6, 6, 2, 6, 6, 2, 1, 5, 2, 6, 0, 5, 1, 6, 1,\n",
              "       2, 0, 2, 6, 6, 6, 6, 6, 2, 2, 6, 5, 6, 2, 6, 6, 2, 0, 6, 6, 0, 0,\n",
              "       6, 6, 0, 6, 1, 6, 2, 6, 6, 6, 3, 0, 2, 1, 6, 6, 6, 5, 2, 6, 6, 2,\n",
              "       6, 6, 6, 6, 6, 2, 1, 1, 1, 3, 0, 6, 0, 5, 6, 6, 1, 1, 5, 2, 5, 6,\n",
              "       2, 6, 2, 2, 5, 6, 6, 5, 2, 5, 5, 2, 6, 1, 6, 0, 6, 6, 6, 6, 1, 1,\n",
              "       2, 6, 1, 6, 6, 6, 0, 2, 5, 6, 5, 2, 5, 2, 5, 6, 6, 6, 1, 1, 5, 6,\n",
              "       5, 2, 2, 2, 6, 5, 0, 6, 2, 1, 6, 6, 5, 5, 2, 2, 2, 6, 2, 6, 1, 6,\n",
              "       6, 6, 6, 6, 6, 2, 3, 5, 6, 2, 6, 6, 5, 2, 2, 6, 6, 6, 5, 5, 5, 1,\n",
              "       5, 2, 6, 6, 6, 5, 6, 6, 2, 6, 3, 1, 0, 1, 6, 6, 6, 5, 6, 6, 3, 6,\n",
              "       6, 5, 2, 2, 5, 3, 6, 3, 0, 6, 6, 0, 6, 2, 2, 6, 3, 2, 1, 2, 6, 6,\n",
              "       2, 2, 6, 6, 2, 6, 6, 2, 6, 5, 5, 3, 5, 2, 5, 2, 6, 6, 0, 5, 6, 6,\n",
              "       6, 1, 6, 6, 2, 5, 5, 2, 5, 6, 5, 6, 2, 6, 6, 6, 5, 2, 2, 6, 6, 6,\n",
              "       6, 1, 6, 6, 6, 6, 6, 1, 2, 6, 2, 6, 2, 6, 6, 6, 6, 1, 5, 2, 5, 5,\n",
              "       5, 6, 1, 5, 0, 3, 6, 1, 6, 5, 2, 1, 1, 2, 1, 5, 5, 6, 2, 0, 6, 6,\n",
              "       6, 3, 5, 0, 5, 6, 5, 2, 6, 5, 2, 2, 5, 6, 1, 2, 5, 0, 5, 1, 6, 6,\n",
              "       3, 6, 6, 5, 5, 6, 2, 6, 5, 5, 6, 1, 2, 2, 6, 2, 5, 5, 6, 1, 1, 6,\n",
              "       1, 5, 6, 2, 5, 1, 6, 6, 6, 2, 6, 5, 2, 6, 1, 5, 2, 1, 6, 6, 2, 1,\n",
              "       2, 6, 2, 5, 5, 6, 3, 2, 5, 6, 5, 6, 3, 5, 6, 6, 6, 6, 5, 1, 6, 0,\n",
              "       5, 5, 6, 6, 2, 2, 0, 5, 6, 6, 2, 2, 6, 2, 5, 5, 6, 5, 5, 6, 6, 6,\n",
              "       0, 6, 6, 1, 0, 2, 2, 2, 2, 1, 3, 2, 2, 6, 6, 5, 2, 5, 6, 5, 2, 6,\n",
              "       5, 5, 6, 2, 5, 3, 6, 6, 0, 2, 6, 2, 6, 6, 3, 5, 2, 1, 1, 1, 6, 1,\n",
              "       6, 6, 5, 6, 5, 2, 5, 6, 6, 0, 5, 6, 6, 2, 3, 5, 2, 6, 2, 2, 5, 5,\n",
              "       6, 5, 2, 6, 2, 1, 5, 6, 6, 6, 6, 6, 6, 2, 6, 1, 5, 6, 1, 2, 1, 6,\n",
              "       2, 5, 6, 3, 0, 2, 1, 6, 6, 6, 2, 6, 6, 1, 2, 6, 0, 6, 3, 5, 2, 0,\n",
              "       6, 0, 6, 6, 5, 6, 6, 0, 6, 6, 1, 5, 6, 2, 6, 6, 6, 1, 5, 2, 2, 5,\n",
              "       5, 6, 1, 3, 5, 2, 1, 6, 6, 5, 6, 2, 2, 1, 6, 5, 3, 2, 2, 3, 0, 3,\n",
              "       0, 2, 6, 5, 3, 3, 2, 5, 2, 2, 5])"
            ]
          },
          "metadata": {
            "tags": []
          },
          "execution_count": 26
        }
      ]
    },
    {
      "cell_type": "markdown",
      "metadata": {
        "id": "sdW7jaWw6tjZ"
      },
      "source": [
        "# Exercício. Faça o Treinamento de outros Modelos\n",
        "\n",
        "Faça o treinamento de outras configurações até obter uma acuracidade do conjunto de validação superior a 0.74 (primeiro modelo) e discuta seus resultados.  "
      ]
    },
    {
      "cell_type": "code",
      "metadata": {
        "id": "xbhgtUCE6tja",
        "colab": {
          "base_uri": "https://localhost:8080/",
          "height": 1000
        },
        "outputId": "1aa8a833-d822-4266-fb27-f99957a9af0a"
      },
      "source": [
        "\n",
        "# Aqui apenas o modelo original\n",
        "\n",
        "from numpy.random import seed  # para garantir a reprodutibilidade dos resultados\n",
        "seed(1984)\n",
        "tf.random.set_seed(1984)\n",
        "\n",
        "# camada de entrada \n",
        "model = Sequential([layers.Dense(X.shape[1], activation='sigmoid', input_shape=[X.shape[1],])]) \n",
        "\n",
        "# entre aqui com uma camada oculta de 16 neurônios e função de ativação sigmoid\n",
        "model.add(layers.Dense(16, activation='sigmoid'))\n",
        "\n",
        "# entre aqui com a camada de saída\n",
        "model.add(layers.Dense(7, activation='sigmoid'))\n",
        "\n",
        "# entre aqui com a compilação do modelo com as métricas e métodos empregadas em teoria \n",
        "model.compile(loss='categorical_crossentropy', optimizer='adam', metrics=['accuracy'])\n",
        "\n",
        "# entre aqui com o treinamento do modelo com 0.2 dos dados para validação e 100 iterações de treinamento\n",
        "history = model.fit(X_train, y_train, validation_split=0.2, epochs=100)\n",
        "\n",
        "# plot\n",
        "loss, val_loss, acc, val_acc = plot_loss_acc(history,'Training')\n"
      ],
      "execution_count": null,
      "outputs": [
        {
          "output_type": "stream",
          "text": [
            "Epoch 1/100\n",
            "34/34 [==============================] - 1s 9ms/step - loss: 1.8934 - accuracy: 0.2397 - val_loss: 1.7191 - val_accuracy: 0.3603\n",
            "Epoch 2/100\n",
            "34/34 [==============================] - 0s 3ms/step - loss: 1.7357 - accuracy: 0.3357 - val_loss: 1.6186 - val_accuracy: 0.3603\n",
            "Epoch 3/100\n",
            "34/34 [==============================] - 0s 2ms/step - loss: 1.6344 - accuracy: 0.3522 - val_loss: 1.5511 - val_accuracy: 0.3713\n",
            "Epoch 4/100\n",
            "34/34 [==============================] - 0s 3ms/step - loss: 1.5754 - accuracy: 0.4058 - val_loss: 1.4956 - val_accuracy: 0.5184\n",
            "Epoch 5/100\n",
            "34/34 [==============================] - 0s 3ms/step - loss: 1.5506 - accuracy: 0.4699 - val_loss: 1.4436 - val_accuracy: 0.5294\n",
            "Epoch 6/100\n",
            "34/34 [==============================] - 0s 3ms/step - loss: 1.4644 - accuracy: 0.5176 - val_loss: 1.3950 - val_accuracy: 0.5294\n",
            "Epoch 7/100\n",
            "34/34 [==============================] - 0s 2ms/step - loss: 1.4662 - accuracy: 0.4629 - val_loss: 1.3510 - val_accuracy: 0.5404\n",
            "Epoch 8/100\n",
            "34/34 [==============================] - 0s 2ms/step - loss: 1.3801 - accuracy: 0.5109 - val_loss: 1.3122 - val_accuracy: 0.5515\n",
            "Epoch 9/100\n",
            "34/34 [==============================] - 0s 3ms/step - loss: 1.3654 - accuracy: 0.4978 - val_loss: 1.2767 - val_accuracy: 0.5625\n",
            "Epoch 10/100\n",
            "34/34 [==============================] - 0s 2ms/step - loss: 1.2856 - accuracy: 0.5297 - val_loss: 1.2429 - val_accuracy: 0.5882\n",
            "Epoch 11/100\n",
            "34/34 [==============================] - 0s 2ms/step - loss: 1.3025 - accuracy: 0.5195 - val_loss: 1.2133 - val_accuracy: 0.5882\n",
            "Epoch 12/100\n",
            "34/34 [==============================] - 0s 2ms/step - loss: 1.2266 - accuracy: 0.5438 - val_loss: 1.1838 - val_accuracy: 0.5882\n",
            "Epoch 13/100\n",
            "34/34 [==============================] - 0s 2ms/step - loss: 1.2659 - accuracy: 0.5152 - val_loss: 1.1594 - val_accuracy: 0.5993\n",
            "Epoch 14/100\n",
            "34/34 [==============================] - 0s 2ms/step - loss: 1.2218 - accuracy: 0.5486 - val_loss: 1.1347 - val_accuracy: 0.5846\n",
            "Epoch 15/100\n",
            "34/34 [==============================] - 0s 2ms/step - loss: 1.1224 - accuracy: 0.5804 - val_loss: 1.1100 - val_accuracy: 0.5956\n",
            "Epoch 16/100\n",
            "34/34 [==============================] - 0s 3ms/step - loss: 1.1553 - accuracy: 0.5684 - val_loss: 1.0886 - val_accuracy: 0.6176\n",
            "Epoch 17/100\n",
            "34/34 [==============================] - 0s 2ms/step - loss: 1.1524 - accuracy: 0.5645 - val_loss: 1.0674 - val_accuracy: 0.6287\n",
            "Epoch 18/100\n",
            "34/34 [==============================] - 0s 3ms/step - loss: 1.1217 - accuracy: 0.6080 - val_loss: 1.0487 - val_accuracy: 0.6360\n",
            "Epoch 19/100\n",
            "34/34 [==============================] - 0s 3ms/step - loss: 1.0872 - accuracy: 0.6284 - val_loss: 1.0310 - val_accuracy: 0.6397\n",
            "Epoch 20/100\n",
            "34/34 [==============================] - 0s 2ms/step - loss: 1.0716 - accuracy: 0.6393 - val_loss: 1.0131 - val_accuracy: 0.6471\n",
            "Epoch 21/100\n",
            "34/34 [==============================] - 0s 3ms/step - loss: 1.0198 - accuracy: 0.6675 - val_loss: 0.9990 - val_accuracy: 0.6618\n",
            "Epoch 22/100\n",
            "34/34 [==============================] - 0s 3ms/step - loss: 1.0158 - accuracy: 0.6610 - val_loss: 0.9849 - val_accuracy: 0.6544\n",
            "Epoch 23/100\n",
            "34/34 [==============================] - 0s 2ms/step - loss: 0.9979 - accuracy: 0.6491 - val_loss: 0.9693 - val_accuracy: 0.6581\n",
            "Epoch 24/100\n",
            "34/34 [==============================] - 0s 2ms/step - loss: 0.9657 - accuracy: 0.6703 - val_loss: 0.9575 - val_accuracy: 0.6581\n",
            "Epoch 25/100\n",
            "34/34 [==============================] - 0s 2ms/step - loss: 0.9923 - accuracy: 0.6447 - val_loss: 0.9457 - val_accuracy: 0.6544\n",
            "Epoch 26/100\n",
            "34/34 [==============================] - 0s 3ms/step - loss: 0.9663 - accuracy: 0.6546 - val_loss: 0.9351 - val_accuracy: 0.6544\n",
            "Epoch 27/100\n",
            "34/34 [==============================] - 0s 2ms/step - loss: 0.9507 - accuracy: 0.6721 - val_loss: 0.9225 - val_accuracy: 0.6507\n",
            "Epoch 28/100\n",
            "34/34 [==============================] - 0s 2ms/step - loss: 0.9401 - accuracy: 0.6722 - val_loss: 0.9127 - val_accuracy: 0.6434\n",
            "Epoch 29/100\n",
            "34/34 [==============================] - 0s 3ms/step - loss: 0.9285 - accuracy: 0.6520 - val_loss: 0.9039 - val_accuracy: 0.6507\n",
            "Epoch 30/100\n",
            "34/34 [==============================] - 0s 2ms/step - loss: 0.8989 - accuracy: 0.6655 - val_loss: 0.8958 - val_accuracy: 0.6544\n",
            "Epoch 31/100\n",
            "34/34 [==============================] - 0s 2ms/step - loss: 0.9199 - accuracy: 0.6489 - val_loss: 0.8882 - val_accuracy: 0.6618\n",
            "Epoch 32/100\n",
            "34/34 [==============================] - 0s 3ms/step - loss: 0.9060 - accuracy: 0.6658 - val_loss: 0.8808 - val_accuracy: 0.6618\n",
            "Epoch 33/100\n",
            "34/34 [==============================] - 0s 2ms/step - loss: 0.9016 - accuracy: 0.6628 - val_loss: 0.8724 - val_accuracy: 0.6618\n",
            "Epoch 34/100\n",
            "34/34 [==============================] - 0s 3ms/step - loss: 0.8978 - accuracy: 0.6639 - val_loss: 0.8663 - val_accuracy: 0.6618\n",
            "Epoch 35/100\n",
            "34/34 [==============================] - 0s 2ms/step - loss: 0.8768 - accuracy: 0.6837 - val_loss: 0.8611 - val_accuracy: 0.6654\n",
            "Epoch 36/100\n",
            "34/34 [==============================] - 0s 2ms/step - loss: 0.8846 - accuracy: 0.6774 - val_loss: 0.8552 - val_accuracy: 0.6728\n",
            "Epoch 37/100\n",
            "34/34 [==============================] - 0s 3ms/step - loss: 0.8526 - accuracy: 0.6760 - val_loss: 0.8499 - val_accuracy: 0.6691\n",
            "Epoch 38/100\n",
            "34/34 [==============================] - 0s 3ms/step - loss: 0.8362 - accuracy: 0.6908 - val_loss: 0.8457 - val_accuracy: 0.6691\n",
            "Epoch 39/100\n",
            "34/34 [==============================] - 0s 2ms/step - loss: 0.8250 - accuracy: 0.6896 - val_loss: 0.8393 - val_accuracy: 0.6801\n",
            "Epoch 40/100\n",
            "34/34 [==============================] - 0s 2ms/step - loss: 0.8496 - accuracy: 0.6860 - val_loss: 0.8361 - val_accuracy: 0.6838\n",
            "Epoch 41/100\n",
            "34/34 [==============================] - 0s 2ms/step - loss: 0.8227 - accuracy: 0.7098 - val_loss: 0.8316 - val_accuracy: 0.6949\n",
            "Epoch 42/100\n",
            "34/34 [==============================] - 0s 2ms/step - loss: 0.8524 - accuracy: 0.6911 - val_loss: 0.8257 - val_accuracy: 0.7022\n",
            "Epoch 43/100\n",
            "34/34 [==============================] - 0s 2ms/step - loss: 0.8003 - accuracy: 0.6962 - val_loss: 0.8238 - val_accuracy: 0.6985\n",
            "Epoch 44/100\n",
            "34/34 [==============================] - 0s 3ms/step - loss: 0.7930 - accuracy: 0.7134 - val_loss: 0.8196 - val_accuracy: 0.7022\n",
            "Epoch 45/100\n",
            "34/34 [==============================] - 0s 2ms/step - loss: 0.7885 - accuracy: 0.7084 - val_loss: 0.8164 - val_accuracy: 0.6949\n",
            "Epoch 46/100\n",
            "34/34 [==============================] - 0s 3ms/step - loss: 0.7862 - accuracy: 0.6925 - val_loss: 0.8130 - val_accuracy: 0.7022\n",
            "Epoch 47/100\n",
            "34/34 [==============================] - 0s 2ms/step - loss: 0.7871 - accuracy: 0.6974 - val_loss: 0.8102 - val_accuracy: 0.6985\n",
            "Epoch 48/100\n",
            "34/34 [==============================] - 0s 3ms/step - loss: 0.7952 - accuracy: 0.6873 - val_loss: 0.8063 - val_accuracy: 0.7022\n",
            "Epoch 49/100\n",
            "34/34 [==============================] - 0s 2ms/step - loss: 0.7908 - accuracy: 0.7122 - val_loss: 0.8040 - val_accuracy: 0.7022\n",
            "Epoch 50/100\n",
            "34/34 [==============================] - 0s 3ms/step - loss: 0.7844 - accuracy: 0.7079 - val_loss: 0.7996 - val_accuracy: 0.7132\n",
            "Epoch 51/100\n",
            "34/34 [==============================] - 0s 2ms/step - loss: 0.7755 - accuracy: 0.7189 - val_loss: 0.7966 - val_accuracy: 0.7059\n",
            "Epoch 52/100\n",
            "34/34 [==============================] - 0s 3ms/step - loss: 0.7793 - accuracy: 0.7095 - val_loss: 0.7968 - val_accuracy: 0.7169\n",
            "Epoch 53/100\n",
            "34/34 [==============================] - 0s 2ms/step - loss: 0.7512 - accuracy: 0.7390 - val_loss: 0.7928 - val_accuracy: 0.7132\n",
            "Epoch 54/100\n",
            "34/34 [==============================] - 0s 2ms/step - loss: 0.7023 - accuracy: 0.7397 - val_loss: 0.7904 - val_accuracy: 0.7206\n",
            "Epoch 55/100\n",
            "34/34 [==============================] - 0s 3ms/step - loss: 0.7465 - accuracy: 0.7145 - val_loss: 0.7873 - val_accuracy: 0.7279\n",
            "Epoch 56/100\n",
            "34/34 [==============================] - 0s 3ms/step - loss: 0.7541 - accuracy: 0.7260 - val_loss: 0.7854 - val_accuracy: 0.7169\n",
            "Epoch 57/100\n",
            "34/34 [==============================] - 0s 3ms/step - loss: 0.7648 - accuracy: 0.7131 - val_loss: 0.7818 - val_accuracy: 0.7169\n",
            "Epoch 58/100\n",
            "34/34 [==============================] - 0s 3ms/step - loss: 0.7645 - accuracy: 0.7104 - val_loss: 0.7799 - val_accuracy: 0.7206\n",
            "Epoch 59/100\n",
            "34/34 [==============================] - 0s 4ms/step - loss: 0.7695 - accuracy: 0.7094 - val_loss: 0.7772 - val_accuracy: 0.7243\n",
            "Epoch 60/100\n",
            "34/34 [==============================] - 0s 3ms/step - loss: 0.7293 - accuracy: 0.7306 - val_loss: 0.7757 - val_accuracy: 0.7206\n",
            "Epoch 61/100\n",
            "34/34 [==============================] - 0s 4ms/step - loss: 0.7555 - accuracy: 0.7241 - val_loss: 0.7748 - val_accuracy: 0.7132\n",
            "Epoch 62/100\n",
            "34/34 [==============================] - 0s 4ms/step - loss: 0.6846 - accuracy: 0.7464 - val_loss: 0.7702 - val_accuracy: 0.7206\n",
            "Epoch 63/100\n",
            "34/34 [==============================] - 0s 3ms/step - loss: 0.7335 - accuracy: 0.7193 - val_loss: 0.7682 - val_accuracy: 0.7206\n",
            "Epoch 64/100\n",
            "34/34 [==============================] - 0s 3ms/step - loss: 0.7173 - accuracy: 0.7334 - val_loss: 0.7665 - val_accuracy: 0.7206\n",
            "Epoch 65/100\n",
            "34/34 [==============================] - 0s 3ms/step - loss: 0.7107 - accuracy: 0.7463 - val_loss: 0.7646 - val_accuracy: 0.7206\n",
            "Epoch 66/100\n",
            "34/34 [==============================] - 0s 2ms/step - loss: 0.7164 - accuracy: 0.7250 - val_loss: 0.7618 - val_accuracy: 0.7243\n",
            "Epoch 67/100\n",
            "34/34 [==============================] - 0s 3ms/step - loss: 0.7265 - accuracy: 0.7312 - val_loss: 0.7622 - val_accuracy: 0.7169\n",
            "Epoch 68/100\n",
            "34/34 [==============================] - 0s 2ms/step - loss: 0.6938 - accuracy: 0.7465 - val_loss: 0.7578 - val_accuracy: 0.7316\n",
            "Epoch 69/100\n",
            "34/34 [==============================] - 0s 2ms/step - loss: 0.7324 - accuracy: 0.7269 - val_loss: 0.7562 - val_accuracy: 0.7316\n",
            "Epoch 70/100\n",
            "34/34 [==============================] - 0s 2ms/step - loss: 0.6666 - accuracy: 0.7450 - val_loss: 0.7554 - val_accuracy: 0.7279\n",
            "Epoch 71/100\n",
            "34/34 [==============================] - 0s 3ms/step - loss: 0.6947 - accuracy: 0.7385 - val_loss: 0.7532 - val_accuracy: 0.7353\n",
            "Epoch 72/100\n",
            "34/34 [==============================] - 0s 2ms/step - loss: 0.6748 - accuracy: 0.7305 - val_loss: 0.7503 - val_accuracy: 0.7316\n",
            "Epoch 73/100\n",
            "34/34 [==============================] - 0s 3ms/step - loss: 0.7273 - accuracy: 0.7389 - val_loss: 0.7490 - val_accuracy: 0.7279\n",
            "Epoch 74/100\n",
            "34/34 [==============================] - 0s 2ms/step - loss: 0.6931 - accuracy: 0.7148 - val_loss: 0.7476 - val_accuracy: 0.7279\n",
            "Epoch 75/100\n",
            "34/34 [==============================] - 0s 2ms/step - loss: 0.7191 - accuracy: 0.7224 - val_loss: 0.7454 - val_accuracy: 0.7243\n",
            "Epoch 76/100\n",
            "34/34 [==============================] - 0s 2ms/step - loss: 0.6869 - accuracy: 0.7357 - val_loss: 0.7452 - val_accuracy: 0.7279\n",
            "Epoch 77/100\n",
            "34/34 [==============================] - 0s 2ms/step - loss: 0.6940 - accuracy: 0.7328 - val_loss: 0.7417 - val_accuracy: 0.7316\n",
            "Epoch 78/100\n",
            "34/34 [==============================] - 0s 2ms/step - loss: 0.6710 - accuracy: 0.7445 - val_loss: 0.7398 - val_accuracy: 0.7316\n",
            "Epoch 79/100\n",
            "34/34 [==============================] - 0s 3ms/step - loss: 0.6672 - accuracy: 0.7628 - val_loss: 0.7394 - val_accuracy: 0.7206\n",
            "Epoch 80/100\n",
            "34/34 [==============================] - 0s 2ms/step - loss: 0.7132 - accuracy: 0.7357 - val_loss: 0.7369 - val_accuracy: 0.7243\n",
            "Epoch 81/100\n",
            "34/34 [==============================] - 0s 2ms/step - loss: 0.6663 - accuracy: 0.7528 - val_loss: 0.7347 - val_accuracy: 0.7279\n",
            "Epoch 82/100\n",
            "34/34 [==============================] - 0s 3ms/step - loss: 0.6843 - accuracy: 0.7417 - val_loss: 0.7348 - val_accuracy: 0.7316\n",
            "Epoch 83/100\n",
            "34/34 [==============================] - 0s 3ms/step - loss: 0.6862 - accuracy: 0.7524 - val_loss: 0.7335 - val_accuracy: 0.7279\n",
            "Epoch 84/100\n",
            "34/34 [==============================] - 0s 3ms/step - loss: 0.6528 - accuracy: 0.7417 - val_loss: 0.7308 - val_accuracy: 0.7316\n",
            "Epoch 85/100\n",
            "34/34 [==============================] - 0s 2ms/step - loss: 0.6592 - accuracy: 0.7409 - val_loss: 0.7307 - val_accuracy: 0.7316\n",
            "Epoch 86/100\n",
            "34/34 [==============================] - 0s 3ms/step - loss: 0.6743 - accuracy: 0.7635 - val_loss: 0.7297 - val_accuracy: 0.7316\n",
            "Epoch 87/100\n",
            "34/34 [==============================] - 0s 2ms/step - loss: 0.6504 - accuracy: 0.7760 - val_loss: 0.7271 - val_accuracy: 0.7353\n",
            "Epoch 88/100\n",
            "34/34 [==============================] - 0s 2ms/step - loss: 0.6883 - accuracy: 0.7398 - val_loss: 0.7265 - val_accuracy: 0.7353\n",
            "Epoch 89/100\n",
            "34/34 [==============================] - 0s 2ms/step - loss: 0.6615 - accuracy: 0.7571 - val_loss: 0.7246 - val_accuracy: 0.7353\n",
            "Epoch 90/100\n",
            "34/34 [==============================] - 0s 3ms/step - loss: 0.6224 - accuracy: 0.7554 - val_loss: 0.7244 - val_accuracy: 0.7390\n",
            "Epoch 91/100\n",
            "34/34 [==============================] - 0s 3ms/step - loss: 0.6294 - accuracy: 0.7706 - val_loss: 0.7224 - val_accuracy: 0.7353\n",
            "Epoch 92/100\n",
            "34/34 [==============================] - 0s 2ms/step - loss: 0.6505 - accuracy: 0.7566 - val_loss: 0.7216 - val_accuracy: 0.7390\n",
            "Epoch 93/100\n",
            "34/34 [==============================] - 0s 3ms/step - loss: 0.6445 - accuracy: 0.7816 - val_loss: 0.7195 - val_accuracy: 0.7390\n",
            "Epoch 94/100\n",
            "34/34 [==============================] - 0s 2ms/step - loss: 0.6233 - accuracy: 0.7712 - val_loss: 0.7185 - val_accuracy: 0.7353\n",
            "Epoch 95/100\n",
            "34/34 [==============================] - 0s 2ms/step - loss: 0.6352 - accuracy: 0.7687 - val_loss: 0.7177 - val_accuracy: 0.7390\n",
            "Epoch 96/100\n",
            "34/34 [==============================] - 0s 2ms/step - loss: 0.6461 - accuracy: 0.7584 - val_loss: 0.7165 - val_accuracy: 0.7390\n",
            "Epoch 97/100\n",
            "34/34 [==============================] - 0s 2ms/step - loss: 0.6404 - accuracy: 0.7683 - val_loss: 0.7154 - val_accuracy: 0.7390\n",
            "Epoch 98/100\n",
            "34/34 [==============================] - 0s 3ms/step - loss: 0.6741 - accuracy: 0.7346 - val_loss: 0.7141 - val_accuracy: 0.7390\n",
            "Epoch 99/100\n",
            "34/34 [==============================] - 0s 2ms/step - loss: 0.6300 - accuracy: 0.7797 - val_loss: 0.7132 - val_accuracy: 0.7390\n",
            "Epoch 100/100\n",
            "34/34 [==============================] - 0s 2ms/step - loss: 0.6557 - accuracy: 0.7509 - val_loss: 0.7113 - val_accuracy: 0.7390\n"
          ],
          "name": "stdout"
        },
        {
          "output_type": "display_data",
          "data": {
            "image/png": "[encoded data removed]",
            "text/plain": [
              "<Figure size 576x360 with 1 Axes>"
            ]
          },
          "metadata": {
            "tags": [],
            "needs_background": "light"
          }
        },
        {
          "output_type": "display_data",
          "data": {
            "image/png": "[encoded data removed]",
            "text/plain": [
              "<Figure size 576x360 with 1 Axes>"
            ]
          },
          "metadata": {
            "tags": [],
            "needs_background": "light"
          }
        },
        {
          "output_type": "stream",
          "text": [
            "TrainingAccuracy Train: 76.34 %, Accuracy Test: 73.90 %\n"
          ],
          "name": "stdout"
        }
      ]
    }
  ]
}