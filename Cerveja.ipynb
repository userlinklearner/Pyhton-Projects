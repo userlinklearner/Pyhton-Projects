{
  "nbformat": 4,
  "nbformat_minor": 0,
  "metadata": {
    "kernelspec": {
      "display_name": "Python 3",
      "language": "python",
      "name": "python3"
    },
    "language_info": {
      "codemirror_mode": {
        "name": "ipython",
        "version": 3
      },
      "file_extension": ".py",
      "mimetype": "text/x-python",
      "name": "python",
      "nbconvert_exporter": "python",
      "pygments_lexer": "ipython3",
      "version": "3.7.4"
    },
    "colab": {
      "name": "Cerveja.ipynb",
      "provenance": [],
      "collapsed_sections": [],
      "toc_visible": true,
      "include_colab_link": true
    }
  },
  "cells": [
    {
      "cell_type": "markdown",
      "metadata": {
        "id": "view-in-github",
        "colab_type": "text"
      },
      "source": [
        "<a href=\"https://colab.research.google.com/github/userlinklearner/Pyhton-Projects/blob/main/Cerveja.ipynb\" target=\"_parent\"><img src=\"https://colab.research.google.com/assets/colab-badge.svg\" alt=\"Open In Colab\"/></a>"
      ]
    },
    {
      "cell_type": "markdown",
      "metadata": {
        "id": "A4-f8AtfKAn2"
      },
      "source": [
        "# Problema \n",
        "O nosso problema consiste no entendimento da produção de cerveja e seus diferentes tipos ao longo de 2008 a 2019. É feita a análise sobre os tipos de cerveja, os anos de produção e até mesmo os meses durante o período proposto."
      ]
    },
    {
      "cell_type": "markdown",
      "metadata": {
        "id": "xGFJyOm1Kdtd"
      },
      "source": [
        "# Descrição e origem dos dados \n",
        "\n",
        "\n",
        "Os dados foram adquiridos diretamente do site Github(https://github.com/rfordatascience/tidytuesday/blob/master/data/2020/2020-03-31/readme.md)\n",
        "\n",
        "Todas as tabelas foram importadas para o nosso notebook para uma completa avaliação do data frame\n",
        "\n",
        "**Aquisição dos Dados**.\n",
        "\n",
        "\n"
      ]
    },
    {
      "cell_type": "markdown",
      "metadata": {
        "id": "IRCz80MnLr7N"
      },
      "source": [
        "# Aquisição dos Dados\n",
        "\n",
        "Import dos dados e eventuais reduções e transformações efetuadas sobre os dados originais."
      ]
    },
    {
      "cell_type": "code",
      "metadata": {
        "id": "L4VHMKS6L4DQ"
      },
      "source": [
        "# Seu código\n",
        "import pandas as pd\n",
        "a=pd.read_csv('https://raw.githubusercontent.com/rfordatascience/tidytuesday/master/data/2020/2020-03-31/brewing_materials.csv')\n",
        "b=pd.read_csv('https://raw.githubusercontent.com/rfordatascience/tidytuesday/master/data/2020/2020-03-31/beer_taxed.csv')\n",
        "c=pd.read_csv('https://raw.githubusercontent.com/rfordatascience/tidytuesday/master/data/2020/2020-03-31/brewer_size.csv')\n",
        "d=pd.read_csv('https://raw.githubusercontent.com/rfordatascience/tidytuesday/master/data/2020/2020-03-31/beer_states.csv')\n",
        "\n"
      ],
      "execution_count": 4,
      "outputs": []
    },
    {
      "cell_type": "markdown",
      "metadata": {
        "id": "c8-GAboQLMaN"
      },
      "source": [
        "# Análise dos Dados\n"
      ]
    },
    {
      "cell_type": "code",
      "metadata": {
        "id": "qHF33NrOnxlh",
        "colab": {
          "base_uri": "https://localhost:8080/",
          "height": 54
        },
        "outputId": "c60845b0-0205-45cb-94dd-e20a7bbfc8a4"
      },
      "source": [
        "a\n",
        "'''\n",
        "Esse data frame usamos na nossa análise basicamente o material da cerveja, o tipo e a produção mensal\n",
        "'''"
      ],
      "execution_count": 5,
      "outputs": [
        {
          "output_type": "execute_result",
          "data": {
            "application/vnd.google.colaboratory.intrinsic+json": {
              "type": "string"
            },
            "text/plain": [
              "'\\nEsse data frame usamos na nossa análise basicamente o material da cerveja, o tipo e a produção mensal\\n'"
            ]
          },
          "metadata": {},
          "execution_count": 5
        }
      ]
    },
    {
      "cell_type": "code",
      "metadata": {
        "colab": {
          "base_uri": "https://localhost:8080/",
          "height": 35
        },
        "id": "PPV67XhZny06",
        "outputId": "7b8d16d4-c9fa-4c3a-ab9d-e5cb3eac7a98"
      },
      "source": [
        "b\n",
        "'''\n",
        "Esse data frame mostra o tipo de envase das cervejas, a produção mensal a partir e o tipo de taxação\n",
        "'''"
      ],
      "execution_count": null,
      "outputs": [
        {
          "output_type": "execute_result",
          "data": {
            "application/vnd.google.colaboratory.intrinsic+json": {
              "type": "string"
            },
            "text/plain": [
              "'\\nEsse data frame mostra o tipo de envase das cervejas, a produção mensal a partir e o tipo de taxação\\n'"
            ]
          },
          "metadata": {},
          "execution_count": 4
        }
      ]
    },
    {
      "cell_type": "code",
      "metadata": {
        "colab": {
          "base_uri": "https://localhost:8080/",
          "height": 35
        },
        "id": "8h3_yb3Fn0JP",
        "outputId": "b5f67b94-c772-43a0-c8cc-6d467882d094"
      },
      "source": [
        "c\n",
        "'''\n",
        "Esse data frame mostra o tamanho da produção por ano\n",
        "'''"
      ],
      "execution_count": null,
      "outputs": [
        {
          "output_type": "execute_result",
          "data": {
            "application/vnd.google.colaboratory.intrinsic+json": {
              "type": "string"
            },
            "text/plain": [
              "'\\nEsse data frame mostra o tamanho da produção por ano\\n'"
            ]
          },
          "metadata": {
            "tags": []
          },
          "execution_count": 51
        }
      ]
    },
    {
      "cell_type": "code",
      "metadata": {
        "colab": {
          "base_uri": "https://localhost:8080/",
          "height": 35
        },
        "id": "rs8ZFa-On1KD",
        "outputId": "08520911-1623-4c7d-86b3-e22d4d504757"
      },
      "source": [
        "d\n",
        "'''\n",
        "Esse data frame mostra a quantidade de barris por estado e o tipo de cerveja\n",
        "'''"
      ],
      "execution_count": null,
      "outputs": [
        {
          "output_type": "execute_result",
          "data": {
            "application/vnd.google.colaboratory.intrinsic+json": {
              "type": "string"
            },
            "text/plain": [
              "'\\nEsse data frame mostra a quantidade de barris por estado e o tipo de cerveja\\n'"
            ]
          },
          "metadata": {
            "tags": []
          },
          "execution_count": 52
        }
      ]
    },
    {
      "cell_type": "markdown",
      "metadata": {
        "id": "9kwoGZeSLRsX"
      },
      "source": [
        "## Estrutura dos Dados\n",
        "\n",
        "Estruturamos os daods em 4 principais tabelas (a; b; c; d), e com elas podemos estruturar todos os problemas e resolver as questões propostas."
      ]
    },
    {
      "cell_type": "code",
      "metadata": {
        "id": "TH7vYDWbMFBv",
        "colab": {
          "base_uri": "https://localhost:8080/",
          "height": 297
        },
        "outputId": "fefd2a59-cfdb-43b4-9bb8-159d0587d61a"
      },
      "source": [
        "a.describe()"
      ],
      "execution_count": null,
      "outputs": [
        {
          "output_type": "execute_result",
          "data": {
            "text/html": [
              "<div>\n",
              "<style scoped>\n",
              "    .dataframe tbody tr th:only-of-type {\n",
              "        vertical-align: middle;\n",
              "    }\n",
              "\n",
              "    .dataframe tbody tr th {\n",
              "        vertical-align: top;\n",
              "    }\n",
              "\n",
              "    .dataframe thead th {\n",
              "        text-align: right;\n",
              "    }\n",
              "</style>\n",
              "<table border=\"1\" class=\"dataframe\">\n",
              "  <thead>\n",
              "    <tr style=\"text-align: right;\">\n",
              "      <th></th>\n",
              "      <th>year</th>\n",
              "      <th>month</th>\n",
              "      <th>month_current</th>\n",
              "      <th>month_prior_year</th>\n",
              "      <th>ytd_current</th>\n",
              "      <th>ytd_prior_year</th>\n",
              "    </tr>\n",
              "  </thead>\n",
              "  <tbody>\n",
              "    <tr>\n",
              "      <th>count</th>\n",
              "      <td>1440.000000</td>\n",
              "      <td>1440.000000</td>\n",
              "      <td>1.440000e+03</td>\n",
              "      <td>1.440000e+03</td>\n",
              "      <td>1.008000e+03</td>\n",
              "      <td>1.008000e+03</td>\n",
              "    </tr>\n",
              "    <tr>\n",
              "      <th>mean</th>\n",
              "      <td>2012.500000</td>\n",
              "      <td>6.500000</td>\n",
              "      <td>1.115823e+08</td>\n",
              "      <td>1.908309e+08</td>\n",
              "      <td>9.285083e+08</td>\n",
              "      <td>9.416776e+08</td>\n",
              "    </tr>\n",
              "    <tr>\n",
              "      <th>std</th>\n",
              "      <td>2.873279</td>\n",
              "      <td>3.453252</td>\n",
              "      <td>1.790831e+08</td>\n",
              "      <td>5.298138e+08</td>\n",
              "      <td>1.524014e+09</td>\n",
              "      <td>1.549125e+09</td>\n",
              "    </tr>\n",
              "    <tr>\n",
              "      <th>min</th>\n",
              "      <td>2008.000000</td>\n",
              "      <td>1.000000</td>\n",
              "      <td>0.000000e+00</td>\n",
              "      <td>0.000000e+00</td>\n",
              "      <td>2.714050e+05</td>\n",
              "      <td>2.714050e+05</td>\n",
              "    </tr>\n",
              "    <tr>\n",
              "      <th>25%</th>\n",
              "      <td>2010.000000</td>\n",
              "      <td>3.750000</td>\n",
              "      <td>1.682829e+06</td>\n",
              "      <td>2.396200e+06</td>\n",
              "      <td>2.836642e+07</td>\n",
              "      <td>2.572750e+07</td>\n",
              "    </tr>\n",
              "    <tr>\n",
              "      <th>50%</th>\n",
              "      <td>2012.500000</td>\n",
              "      <td>6.500000</td>\n",
              "      <td>1.382096e+07</td>\n",
              "      <td>4.686639e+07</td>\n",
              "      <td>2.345859e+08</td>\n",
              "      <td>2.345861e+08</td>\n",
              "    </tr>\n",
              "    <tr>\n",
              "      <th>75%</th>\n",
              "      <td>2015.000000</td>\n",
              "      <td>9.250000</td>\n",
              "      <td>8.451318e+07</td>\n",
              "      <td>1.145321e+08</td>\n",
              "      <td>8.431437e+08</td>\n",
              "      <td>8.498092e+08</td>\n",
              "    </tr>\n",
              "    <tr>\n",
              "      <th>max</th>\n",
              "      <td>2017.000000</td>\n",
              "      <td>12.000000</td>\n",
              "      <td>6.565965e+08</td>\n",
              "      <td>6.395439e+09</td>\n",
              "      <td>7.046705e+09</td>\n",
              "      <td>7.143917e+09</td>\n",
              "    </tr>\n",
              "  </tbody>\n",
              "</table>\n",
              "</div>"
            ],
            "text/plain": [
              "              year        month  ...   ytd_current  ytd_prior_year\n",
              "count  1440.000000  1440.000000  ...  1.008000e+03    1.008000e+03\n",
              "mean   2012.500000     6.500000  ...  9.285083e+08    9.416776e+08\n",
              "std       2.873279     3.453252  ...  1.524014e+09    1.549125e+09\n",
              "min    2008.000000     1.000000  ...  2.714050e+05    2.714050e+05\n",
              "25%    2010.000000     3.750000  ...  2.836642e+07    2.572750e+07\n",
              "50%    2012.500000     6.500000  ...  2.345859e+08    2.345861e+08\n",
              "75%    2015.000000     9.250000  ...  8.431437e+08    8.498092e+08\n",
              "max    2017.000000    12.000000  ...  7.046705e+09    7.143917e+09\n",
              "\n",
              "[8 rows x 6 columns]"
            ]
          },
          "metadata": {
            "tags": []
          },
          "execution_count": 5
        }
      ]
    },
    {
      "cell_type": "code",
      "metadata": {
        "colab": {
          "base_uri": "https://localhost:8080/",
          "height": 297
        },
        "id": "23m06hN2wS_q",
        "outputId": "00edae94-7968-43a5-d482-70a6618d0306"
      },
      "source": [
        "b.describe()"
      ],
      "execution_count": null,
      "outputs": [
        {
          "output_type": "execute_result",
          "data": {
            "text/html": [
              "<div>\n",
              "<style scoped>\n",
              "    .dataframe tbody tr th:only-of-type {\n",
              "        vertical-align: middle;\n",
              "    }\n",
              "\n",
              "    .dataframe tbody tr th {\n",
              "        vertical-align: top;\n",
              "    }\n",
              "\n",
              "    .dataframe thead th {\n",
              "        text-align: right;\n",
              "    }\n",
              "</style>\n",
              "<table border=\"1\" class=\"dataframe\">\n",
              "  <thead>\n",
              "    <tr style=\"text-align: right;\">\n",
              "      <th></th>\n",
              "      <th>year</th>\n",
              "      <th>month</th>\n",
              "      <th>month_current</th>\n",
              "      <th>month_prior_year</th>\n",
              "      <th>ytd_current</th>\n",
              "      <th>ytd_prior_year</th>\n",
              "    </tr>\n",
              "  </thead>\n",
              "  <tbody>\n",
              "    <tr>\n",
              "      <th>count</th>\n",
              "      <td>1580.000000</td>\n",
              "      <td>1580.000000</td>\n",
              "      <td>1.580000e+03</td>\n",
              "      <td>1.580000e+03</td>\n",
              "      <td>1.556000e+03</td>\n",
              "      <td>1.556000e+03</td>\n",
              "    </tr>\n",
              "    <tr>\n",
              "      <th>mean</th>\n",
              "      <td>2013.486709</td>\n",
              "      <td>6.509494</td>\n",
              "      <td>6.544098e+06</td>\n",
              "      <td>6.597077e+06</td>\n",
              "      <td>4.239495e+07</td>\n",
              "      <td>4.280414e+07</td>\n",
              "    </tr>\n",
              "    <tr>\n",
              "      <th>std</th>\n",
              "      <td>3.447307</td>\n",
              "      <td>3.450074</td>\n",
              "      <td>6.904094e+06</td>\n",
              "      <td>6.964635e+06</td>\n",
              "      <td>5.628722e+07</td>\n",
              "      <td>5.684013e+07</td>\n",
              "    </tr>\n",
              "    <tr>\n",
              "      <th>min</th>\n",
              "      <td>2008.000000</td>\n",
              "      <td>1.000000</td>\n",
              "      <td>0.000000e+00</td>\n",
              "      <td>0.000000e+00</td>\n",
              "      <td>0.000000e+00</td>\n",
              "      <td>0.000000e+00</td>\n",
              "    </tr>\n",
              "    <tr>\n",
              "      <th>25%</th>\n",
              "      <td>2010.000000</td>\n",
              "      <td>4.000000</td>\n",
              "      <td>1.113798e+05</td>\n",
              "      <td>1.138210e+05</td>\n",
              "      <td>4.176668e+05</td>\n",
              "      <td>3.816900e+05</td>\n",
              "    </tr>\n",
              "    <tr>\n",
              "      <th>50%</th>\n",
              "      <td>2013.000000</td>\n",
              "      <td>7.000000</td>\n",
              "      <td>1.420096e+06</td>\n",
              "      <td>1.454573e+06</td>\n",
              "      <td>8.321667e+06</td>\n",
              "      <td>8.489038e+06</td>\n",
              "    </tr>\n",
              "    <tr>\n",
              "      <th>75%</th>\n",
              "      <td>2016.000000</td>\n",
              "      <td>10.000000</td>\n",
              "      <td>1.374584e+07</td>\n",
              "      <td>1.382688e+07</td>\n",
              "      <td>7.941527e+07</td>\n",
              "      <td>7.986608e+07</td>\n",
              "    </tr>\n",
              "    <tr>\n",
              "      <th>max</th>\n",
              "      <td>2019.000000</td>\n",
              "      <td>12.000000</td>\n",
              "      <td>1.913122e+07</td>\n",
              "      <td>1.866770e+07</td>\n",
              "      <td>1.994663e+08</td>\n",
              "      <td>1.996181e+08</td>\n",
              "    </tr>\n",
              "  </tbody>\n",
              "</table>\n",
              "</div>"
            ],
            "text/plain": [
              "              year        month  ...   ytd_current  ytd_prior_year\n",
              "count  1580.000000  1580.000000  ...  1.556000e+03    1.556000e+03\n",
              "mean   2013.486709     6.509494  ...  4.239495e+07    4.280414e+07\n",
              "std       3.447307     3.450074  ...  5.628722e+07    5.684013e+07\n",
              "min    2008.000000     1.000000  ...  0.000000e+00    0.000000e+00\n",
              "25%    2010.000000     4.000000  ...  4.176668e+05    3.816900e+05\n",
              "50%    2013.000000     7.000000  ...  8.321667e+06    8.489038e+06\n",
              "75%    2016.000000    10.000000  ...  7.941527e+07    7.986608e+07\n",
              "max    2019.000000    12.000000  ...  1.994663e+08    1.996181e+08\n",
              "\n",
              "[8 rows x 6 columns]"
            ]
          },
          "metadata": {
            "tags": []
          },
          "execution_count": 54
        }
      ]
    },
    {
      "cell_type": "code",
      "metadata": {
        "colab": {
          "base_uri": "https://localhost:8080/",
          "height": 297
        },
        "id": "e1T03_y1wd3n",
        "outputId": "3465b4c6-77fd-4fa4-e8d6-4ce08babfbcc"
      },
      "source": [
        "c.describe()"
      ],
      "execution_count": null,
      "outputs": [
        {
          "output_type": "execute_result",
          "data": {
            "text/html": [
              "<div>\n",
              "<style scoped>\n",
              "    .dataframe tbody tr th:only-of-type {\n",
              "        vertical-align: middle;\n",
              "    }\n",
              "\n",
              "    .dataframe tbody tr th {\n",
              "        vertical-align: top;\n",
              "    }\n",
              "\n",
              "    .dataframe thead th {\n",
              "        text-align: right;\n",
              "    }\n",
              "</style>\n",
              "<table border=\"1\" class=\"dataframe\">\n",
              "  <thead>\n",
              "    <tr style=\"text-align: right;\">\n",
              "      <th></th>\n",
              "      <th>year</th>\n",
              "      <th>n_of_brewers</th>\n",
              "      <th>total_barrels</th>\n",
              "      <th>taxable_removals</th>\n",
              "      <th>total_shipped</th>\n",
              "    </tr>\n",
              "  </thead>\n",
              "  <tbody>\n",
              "    <tr>\n",
              "      <th>count</th>\n",
              "      <td>137.000000</td>\n",
              "      <td>137.000000</td>\n",
              "      <td>1.360000e+02</td>\n",
              "      <td>1.370000e+02</td>\n",
              "      <td>1.350000e+02</td>\n",
              "    </tr>\n",
              "    <tr>\n",
              "      <th>mean</th>\n",
              "      <td>2014.175182</td>\n",
              "      <td>612.350365</td>\n",
              "      <td>3.079608e+07</td>\n",
              "      <td>2.824719e+07</td>\n",
              "      <td>8.852457e+05</td>\n",
              "    </tr>\n",
              "    <tr>\n",
              "      <th>std</th>\n",
              "      <td>3.185209</td>\n",
              "      <td>1313.523168</td>\n",
              "      <td>6.115894e+07</td>\n",
              "      <td>5.637782e+07</td>\n",
              "      <td>1.854341e+06</td>\n",
              "    </tr>\n",
              "    <tr>\n",
              "      <th>min</th>\n",
              "      <td>2009.000000</td>\n",
              "      <td>3.000000</td>\n",
              "      <td>0.000000e+00</td>\n",
              "      <td>1.471136e+04</td>\n",
              "      <td>1.200000e+01</td>\n",
              "    </tr>\n",
              "    <tr>\n",
              "      <th>25%</th>\n",
              "      <td>2011.000000</td>\n",
              "      <td>15.000000</td>\n",
              "      <td>1.382426e+06</td>\n",
              "      <td>1.203852e+06</td>\n",
              "      <td>6.544500e+03</td>\n",
              "    </tr>\n",
              "    <tr>\n",
              "      <th>50%</th>\n",
              "      <td>2014.000000</td>\n",
              "      <td>43.000000</td>\n",
              "      <td>3.055305e+06</td>\n",
              "      <td>2.714929e+06</td>\n",
              "      <td>3.949400e+04</td>\n",
              "    </tr>\n",
              "    <tr>\n",
              "      <th>75%</th>\n",
              "      <td>2017.000000</td>\n",
              "      <td>428.000000</td>\n",
              "      <td>1.051317e+07</td>\n",
              "      <td>8.697816e+06</td>\n",
              "      <td>2.651175e+05</td>\n",
              "    </tr>\n",
              "    <tr>\n",
              "      <th>max</th>\n",
              "      <td>2019.000000</td>\n",
              "      <td>6400.000000</td>\n",
              "      <td>1.969693e+08</td>\n",
              "      <td>1.829955e+08</td>\n",
              "      <td>6.908958e+06</td>\n",
              "    </tr>\n",
              "  </tbody>\n",
              "</table>\n",
              "</div>"
            ],
            "text/plain": [
              "              year  n_of_brewers  ...  taxable_removals  total_shipped\n",
              "count   137.000000    137.000000  ...      1.370000e+02   1.350000e+02\n",
              "mean   2014.175182    612.350365  ...      2.824719e+07   8.852457e+05\n",
              "std       3.185209   1313.523168  ...      5.637782e+07   1.854341e+06\n",
              "min    2009.000000      3.000000  ...      1.471136e+04   1.200000e+01\n",
              "25%    2011.000000     15.000000  ...      1.203852e+06   6.544500e+03\n",
              "50%    2014.000000     43.000000  ...      2.714929e+06   3.949400e+04\n",
              "75%    2017.000000    428.000000  ...      8.697816e+06   2.651175e+05\n",
              "max    2019.000000   6400.000000  ...      1.829955e+08   6.908958e+06\n",
              "\n",
              "[8 rows x 5 columns]"
            ]
          },
          "metadata": {
            "tags": []
          },
          "execution_count": 55
        }
      ]
    },
    {
      "cell_type": "code",
      "metadata": {
        "colab": {
          "base_uri": "https://localhost:8080/"
        },
        "id": "qh3ZhtkEwf6A",
        "outputId": "c198008c-f99f-44bc-e98a-5b45b3776527"
      },
      "source": [
        "d.head"
      ],
      "execution_count": null,
      "outputs": [
        {
          "output_type": "execute_result",
          "data": {
            "text/plain": [
              "<bound method NDFrame.head of       state  year      barrels              type\n",
              "0        AK  2008      2067.69       On Premises\n",
              "1        AK  2009      2263.65       On Premises\n",
              "2        AK  2010      1929.15       On Premises\n",
              "3        AK  2011      2251.02       On Premises\n",
              "4        AK  2012      2312.43       On Premises\n",
              "...     ...   ...          ...               ...\n",
              "1867  total  2015  17750504.62  Kegs and Barrels\n",
              "1868  total  2016  17000382.28  Kegs and Barrels\n",
              "1869  total  2017  16514866.69  Kegs and Barrels\n",
              "1870  total  2018  15662381.42  Kegs and Barrels\n",
              "1871  total  2019  14880067.09  Kegs and Barrels\n",
              "\n",
              "[1872 rows x 4 columns]>"
            ]
          },
          "metadata": {},
          "execution_count": 5
        }
      ]
    },
    {
      "cell_type": "markdown",
      "metadata": {
        "id": "GNAtxa_RMWcZ"
      },
      "source": [
        "## Análise (pergunta) 1.\n",
        "\n",
        "**Qual o ano com maior venda de barris de cerveja?**\n",
        "\n"
      ]
    },
    {
      "cell_type": "code",
      "metadata": {
        "id": "Mi2ZSydwO0Qd",
        "cellView": "form"
      },
      "source": [
        "#@markdown ---\n",
        "#@title Q1. Aponte os principais recursos empregados nesta pergunta aqui:\n",
        "\n",
        "Q1a = \"Combina dados (merge, join, concat)\" #@param [\"Entre com uma transformação de dados empregada\", \"Combina dados (merge, join, concat)\", \"Mudanças de Formato (encode, substrings)\", \"Exclusão de Nulos (dropna)\", \"Adiciona Atributo Derivado\"] {type:\"string\"}\n",
        "Q1b = \"Entre com uma sele\\xE7\\xE3o de dados empregada\" #@param [\"Entre com uma seleção de dados empregada\", \"Groupby\", \"nlargest/nsmallest\", \"Select multicondicional\" ] {type:\"string\"}\n",
        "Q1c = \"Entre com uma visualiza\\xE7\\xE3o de dados empregada\" #@param [\"Entre com uma visualização de dados empregada\", \"Evolução dos dados (plot, lineplot)\", \"Distribuição (hist, density, boxplot)\", \"Quantidades e Proporções (bar, pizza)\", \"Relações (scatterplot, pairplot, lmplot, heatmap)\"] {type:\"string\"}\n",
        "Q1d = \"Entre com um recurso de visualiza\\xE7\\xE3o empregado\" #@param [\"Entre com um recurso de visualização empregado\", \"Subplots\", \"Múltiplas classes\", \"Ornamentos (cores, markers etc.)\", \"Inclusão de Texto no gráfico\", \"Alteração de Escalas\"] {type:\"string\"}\n",
        "\n"
      ],
      "execution_count": null,
      "outputs": []
    },
    {
      "cell_type": "code",
      "metadata": {
        "id": "DXQN9xyFMWch"
      },
      "source": [
        ""
      ],
      "execution_count": null,
      "outputs": []
    },
    {
      "cell_type": "code",
      "metadata": {
        "colab": {
          "base_uri": "https://localhost:8080/",
          "height": 276
        },
        "id": "ElHirLI2jwuU",
        "outputId": "4fefb948-0c32-4222-a16e-c30fa9cf7aeb"
      },
      "source": [
        "#labels and graphic\n",
        "import matplotlib.pyplot as plt\n",
        "\n",
        "\n",
        "plt.bar(d.year,d.barrels)\n",
        "plt.show()"
      ],
      "execution_count": null,
      "outputs": [
        {
          "output_type": "display_data",
          "data": {
            "image/png": "[encoded data removed]",
            "text/plain": [
              "<Figure size 432x288 with 1 Axes>"
            ]
          },
          "metadata": {
            "needs_background": "light"
          }
        }
      ]
    },
    {
      "cell_type": "markdown",
      "metadata": {
        "id": "FhYkp1iiNvwU"
      },
      "source": [
        "## Análise (pergunta) 2.\n",
        "\n",
        "**Qual o estado que mais consumiu cerveja entre 2011 e 2016?**\n",
        "\n"
      ]
    },
    {
      "cell_type": "code",
      "metadata": {
        "id": "OqeVi-5VnEC4",
        "cellView": "form"
      },
      "source": [
        "#@markdown ---\n",
        "#@title Q2. Aponte os principais recursos empregados nesta pergunta aqui:\n",
        "\n",
        "Q2a = \"Combina dados (merge, join, concat)\" #@param [\"Entre com uma transformação de dados empregada\", \"Combina dados (merge, join, concat)\", \"Mudanças de Formato (encode, substrings)\", \"Exclusão de Nulos (dropna)\", \"Adiciona Atributo Derivado\"] {type:\"string\"}\n",
        "Q2b = \"Groupby\" #@param [\"Entre com uma seleção de dados empregada\", \"Groupby\", \"nlargest/nsmallest\", \"Select multicondicional\" ] {type:\"string\"}\n",
        "Q2c = \"Entre com uma visualiza\\xE7\\xE3o de dados empregada\" #@param [\"Entre com uma visualização de dados empregada\", \"Evolução dos dados (plot, lineplot)\", \"Distribuição (hist, density, boxplot)\", \"Quantidades e Proporções (bar, pizza)\", \"Relações (scatterplot, pairplot, lmplot, heatmap)\"] {type:\"string\"}\n",
        "Q2d = \"Entre com um recurso de visualiza\\xE7\\xE3o empregado\" #@param [\"Entre com um recurso de visualização empregado\", \"Subplots\", \"Múltiplas classes\", \"Ornamentos (cores, markers etc.)\", \"Inclusão de Texto no gráfico\", \"Alteração de Escalas\"] {type:\"string\"}\n"
      ],
      "execution_count": null,
      "outputs": []
    },
    {
      "cell_type": "code",
      "metadata": {
        "id": "mlyhEfOnMqWC"
      },
      "source": [
        "d2=d[(d.year>2010) & (d.year<2017)]"
      ],
      "execution_count": null,
      "outputs": []
    },
    {
      "cell_type": "code",
      "metadata": {
        "id": "owTjmXVANqK2"
      },
      "source": [
        "d2.pivot_table(index=['year'],columns=['state'],values='barrels')\n",
        "\n",
        "d2=d2[['state','barrels']]"
      ],
      "execution_count": null,
      "outputs": []
    },
    {
      "cell_type": "code",
      "metadata": {
        "colab": {
          "base_uri": "https://localhost:8080/",
          "height": 1000
        },
        "id": "uIxHWMwXVOrH",
        "outputId": "f4efc93f-d8ef-447a-fa95-2f4f72846e73"
      },
      "source": [
        "import pandas as pd\n",
        "dff=d2.groupby('state').sum()\n",
        "dff"
      ],
      "execution_count": null,
      "outputs": [
        {
          "output_type": "execute_result",
          "data": {
            "text/html": [
              "<div>\n",
              "<style scoped>\n",
              "    .dataframe tbody tr th:only-of-type {\n",
              "        vertical-align: middle;\n",
              "    }\n",
              "\n",
              "    .dataframe tbody tr th {\n",
              "        vertical-align: top;\n",
              "    }\n",
              "\n",
              "    .dataframe thead th {\n",
              "        text-align: right;\n",
              "    }\n",
              "</style>\n",
              "<table border=\"1\" class=\"dataframe\">\n",
              "  <thead>\n",
              "    <tr style=\"text-align: right;\">\n",
              "      <th></th>\n",
              "      <th>barrels</th>\n",
              "    </tr>\n",
              "    <tr>\n",
              "      <th>state</th>\n",
              "      <th></th>\n",
              "    </tr>\n",
              "  </thead>\n",
              "  <tbody>\n",
              "    <tr>\n",
              "      <th>AK</th>\n",
              "      <td>1.121153e+06</td>\n",
              "    </tr>\n",
              "    <tr>\n",
              "      <th>AL</th>\n",
              "      <td>1.272176e+05</td>\n",
              "    </tr>\n",
              "    <tr>\n",
              "      <th>AR</th>\n",
              "      <td>3.727473e+04</td>\n",
              "    </tr>\n",
              "    <tr>\n",
              "      <th>AZ</th>\n",
              "      <td>6.977719e+05</td>\n",
              "    </tr>\n",
              "    <tr>\n",
              "      <th>CA</th>\n",
              "      <td>1.224324e+08</td>\n",
              "    </tr>\n",
              "    <tr>\n",
              "      <th>CO</th>\n",
              "      <td>1.239827e+08</td>\n",
              "    </tr>\n",
              "    <tr>\n",
              "      <th>CT</th>\n",
              "      <td>4.368139e+05</td>\n",
              "    </tr>\n",
              "    <tr>\n",
              "      <th>DC</th>\n",
              "      <td>9.324498e+04</td>\n",
              "    </tr>\n",
              "    <tr>\n",
              "      <th>DE</th>\n",
              "      <td>1.373023e+06</td>\n",
              "    </tr>\n",
              "    <tr>\n",
              "      <th>FL</th>\n",
              "      <td>6.561549e+07</td>\n",
              "    </tr>\n",
              "    <tr>\n",
              "      <th>GA</th>\n",
              "      <td>8.771122e+07</td>\n",
              "    </tr>\n",
              "    <tr>\n",
              "      <th>HI</th>\n",
              "      <td>2.438593e+05</td>\n",
              "    </tr>\n",
              "    <tr>\n",
              "      <th>IA</th>\n",
              "      <td>1.787404e+05</td>\n",
              "    </tr>\n",
              "    <tr>\n",
              "      <th>ID</th>\n",
              "      <td>1.985661e+05</td>\n",
              "    </tr>\n",
              "    <tr>\n",
              "      <th>IL</th>\n",
              "      <td>7.125641e+06</td>\n",
              "    </tr>\n",
              "    <tr>\n",
              "      <th>IN</th>\n",
              "      <td>7.324635e+05</td>\n",
              "    </tr>\n",
              "    <tr>\n",
              "      <th>KS</th>\n",
              "      <td>1.700601e+05</td>\n",
              "    </tr>\n",
              "    <tr>\n",
              "      <th>KY</th>\n",
              "      <td>6.631093e+05</td>\n",
              "    </tr>\n",
              "    <tr>\n",
              "      <th>LA</th>\n",
              "      <td>1.002615e+06</td>\n",
              "    </tr>\n",
              "    <tr>\n",
              "      <th>MA</th>\n",
              "      <td>1.704656e+06</td>\n",
              "    </tr>\n",
              "    <tr>\n",
              "      <th>MD</th>\n",
              "      <td>9.662792e+05</td>\n",
              "    </tr>\n",
              "    <tr>\n",
              "      <th>ME</th>\n",
              "      <td>1.479039e+06</td>\n",
              "    </tr>\n",
              "    <tr>\n",
              "      <th>MI</th>\n",
              "      <td>4.133154e+06</td>\n",
              "    </tr>\n",
              "    <tr>\n",
              "      <th>MN</th>\n",
              "      <td>2.601747e+06</td>\n",
              "    </tr>\n",
              "    <tr>\n",
              "      <th>MO</th>\n",
              "      <td>8.096962e+07</td>\n",
              "    </tr>\n",
              "    <tr>\n",
              "      <th>MS</th>\n",
              "      <td>1.103665e+05</td>\n",
              "    </tr>\n",
              "    <tr>\n",
              "      <th>MT</th>\n",
              "      <td>7.517509e+05</td>\n",
              "    </tr>\n",
              "    <tr>\n",
              "      <th>NC</th>\n",
              "      <td>4.171016e+07</td>\n",
              "    </tr>\n",
              "    <tr>\n",
              "      <th>ND</th>\n",
              "      <td>2.211951e+04</td>\n",
              "    </tr>\n",
              "    <tr>\n",
              "      <th>NE</th>\n",
              "      <td>1.467734e+05</td>\n",
              "    </tr>\n",
              "    <tr>\n",
              "      <th>NH</th>\n",
              "      <td>1.915033e+07</td>\n",
              "    </tr>\n",
              "    <tr>\n",
              "      <th>NJ</th>\n",
              "      <td>2.777405e+07</td>\n",
              "    </tr>\n",
              "    <tr>\n",
              "      <th>NM</th>\n",
              "      <td>3.331104e+05</td>\n",
              "    </tr>\n",
              "    <tr>\n",
              "      <th>NV</th>\n",
              "      <td>1.700765e+05</td>\n",
              "    </tr>\n",
              "    <tr>\n",
              "      <th>NY</th>\n",
              "      <td>4.520099e+07</td>\n",
              "    </tr>\n",
              "    <tr>\n",
              "      <th>OH</th>\n",
              "      <td>1.157716e+08</td>\n",
              "    </tr>\n",
              "    <tr>\n",
              "      <th>OK</th>\n",
              "      <td>9.048504e+04</td>\n",
              "    </tr>\n",
              "    <tr>\n",
              "      <th>OR</th>\n",
              "      <td>8.740372e+06</td>\n",
              "    </tr>\n",
              "    <tr>\n",
              "      <th>PA</th>\n",
              "      <td>2.987404e+07</td>\n",
              "    </tr>\n",
              "    <tr>\n",
              "      <th>RI</th>\n",
              "      <td>5.960757e+04</td>\n",
              "    </tr>\n",
              "    <tr>\n",
              "      <th>SC</th>\n",
              "      <td>2.593030e+05</td>\n",
              "    </tr>\n",
              "    <tr>\n",
              "      <th>SD</th>\n",
              "      <td>2.485863e+04</td>\n",
              "    </tr>\n",
              "    <tr>\n",
              "      <th>TN</th>\n",
              "      <td>4.219726e+06</td>\n",
              "    </tr>\n",
              "    <tr>\n",
              "      <th>TX</th>\n",
              "      <td>1.175332e+08</td>\n",
              "    </tr>\n",
              "    <tr>\n",
              "      <th>UT</th>\n",
              "      <td>8.411747e+05</td>\n",
              "    </tr>\n",
              "    <tr>\n",
              "      <th>VA</th>\n",
              "      <td>8.044078e+07</td>\n",
              "    </tr>\n",
              "    <tr>\n",
              "      <th>VT</th>\n",
              "      <td>2.152534e+06</td>\n",
              "    </tr>\n",
              "    <tr>\n",
              "      <th>WA</th>\n",
              "      <td>2.577842e+06</td>\n",
              "    </tr>\n",
              "    <tr>\n",
              "      <th>WI</th>\n",
              "      <td>6.053095e+07</td>\n",
              "    </tr>\n",
              "    <tr>\n",
              "      <th>WV</th>\n",
              "      <td>3.878253e+04</td>\n",
              "    </tr>\n",
              "    <tr>\n",
              "      <th>WY</th>\n",
              "      <td>9.761818e+04</td>\n",
              "    </tr>\n",
              "    <tr>\n",
              "      <th>total</th>\n",
              "      <td>1.064420e+09</td>\n",
              "    </tr>\n",
              "  </tbody>\n",
              "</table>\n",
              "</div>"
            ],
            "text/plain": [
              "            barrels\n",
              "state              \n",
              "AK     1.121153e+06\n",
              "AL     1.272176e+05\n",
              "AR     3.727473e+04\n",
              "AZ     6.977719e+05\n",
              "CA     1.224324e+08\n",
              "CO     1.239827e+08\n",
              "CT     4.368139e+05\n",
              "DC     9.324498e+04\n",
              "DE     1.373023e+06\n",
              "FL     6.561549e+07\n",
              "GA     8.771122e+07\n",
              "HI     2.438593e+05\n",
              "IA     1.787404e+05\n",
              "ID     1.985661e+05\n",
              "IL     7.125641e+06\n",
              "IN     7.324635e+05\n",
              "KS     1.700601e+05\n",
              "KY     6.631093e+05\n",
              "LA     1.002615e+06\n",
              "MA     1.704656e+06\n",
              "MD     9.662792e+05\n",
              "ME     1.479039e+06\n",
              "MI     4.133154e+06\n",
              "MN     2.601747e+06\n",
              "MO     8.096962e+07\n",
              "MS     1.103665e+05\n",
              "MT     7.517509e+05\n",
              "NC     4.171016e+07\n",
              "ND     2.211951e+04\n",
              "NE     1.467734e+05\n",
              "NH     1.915033e+07\n",
              "NJ     2.777405e+07\n",
              "NM     3.331104e+05\n",
              "NV     1.700765e+05\n",
              "NY     4.520099e+07\n",
              "OH     1.157716e+08\n",
              "OK     9.048504e+04\n",
              "OR     8.740372e+06\n",
              "PA     2.987404e+07\n",
              "RI     5.960757e+04\n",
              "SC     2.593030e+05\n",
              "SD     2.485863e+04\n",
              "TN     4.219726e+06\n",
              "TX     1.175332e+08\n",
              "UT     8.411747e+05\n",
              "VA     8.044078e+07\n",
              "VT     2.152534e+06\n",
              "WA     2.577842e+06\n",
              "WI     6.053095e+07\n",
              "WV     3.878253e+04\n",
              "WY     9.761818e+04\n",
              "total  1.064420e+09"
            ]
          },
          "metadata": {},
          "execution_count": 9
        }
      ]
    },
    {
      "cell_type": "code",
      "metadata": {
        "colab": {
          "base_uri": "https://localhost:8080/",
          "height": 1000
        },
        "id": "jbEfHiVUWj30",
        "outputId": "8e052028-32d8-4f65-c773-048a3b13000f"
      },
      "source": [
        "dff.sort_values('barrels')"
      ],
      "execution_count": null,
      "outputs": [
        {
          "output_type": "execute_result",
          "data": {
            "text/html": [
              "<div>\n",
              "<style scoped>\n",
              "    .dataframe tbody tr th:only-of-type {\n",
              "        vertical-align: middle;\n",
              "    }\n",
              "\n",
              "    .dataframe tbody tr th {\n",
              "        vertical-align: top;\n",
              "    }\n",
              "\n",
              "    .dataframe thead th {\n",
              "        text-align: right;\n",
              "    }\n",
              "</style>\n",
              "<table border=\"1\" class=\"dataframe\">\n",
              "  <thead>\n",
              "    <tr style=\"text-align: right;\">\n",
              "      <th></th>\n",
              "      <th>barrels</th>\n",
              "    </tr>\n",
              "    <tr>\n",
              "      <th>state</th>\n",
              "      <th></th>\n",
              "    </tr>\n",
              "  </thead>\n",
              "  <tbody>\n",
              "    <tr>\n",
              "      <th>ND</th>\n",
              "      <td>2.211951e+04</td>\n",
              "    </tr>\n",
              "    <tr>\n",
              "      <th>SD</th>\n",
              "      <td>2.485863e+04</td>\n",
              "    </tr>\n",
              "    <tr>\n",
              "      <th>AR</th>\n",
              "      <td>3.727473e+04</td>\n",
              "    </tr>\n",
              "    <tr>\n",
              "      <th>WV</th>\n",
              "      <td>3.878253e+04</td>\n",
              "    </tr>\n",
              "    <tr>\n",
              "      <th>RI</th>\n",
              "      <td>5.960757e+04</td>\n",
              "    </tr>\n",
              "    <tr>\n",
              "      <th>OK</th>\n",
              "      <td>9.048504e+04</td>\n",
              "    </tr>\n",
              "    <tr>\n",
              "      <th>DC</th>\n",
              "      <td>9.324498e+04</td>\n",
              "    </tr>\n",
              "    <tr>\n",
              "      <th>WY</th>\n",
              "      <td>9.761818e+04</td>\n",
              "    </tr>\n",
              "    <tr>\n",
              "      <th>MS</th>\n",
              "      <td>1.103665e+05</td>\n",
              "    </tr>\n",
              "    <tr>\n",
              "      <th>AL</th>\n",
              "      <td>1.272176e+05</td>\n",
              "    </tr>\n",
              "    <tr>\n",
              "      <th>NE</th>\n",
              "      <td>1.467734e+05</td>\n",
              "    </tr>\n",
              "    <tr>\n",
              "      <th>KS</th>\n",
              "      <td>1.700601e+05</td>\n",
              "    </tr>\n",
              "    <tr>\n",
              "      <th>NV</th>\n",
              "      <td>1.700765e+05</td>\n",
              "    </tr>\n",
              "    <tr>\n",
              "      <th>IA</th>\n",
              "      <td>1.787404e+05</td>\n",
              "    </tr>\n",
              "    <tr>\n",
              "      <th>ID</th>\n",
              "      <td>1.985661e+05</td>\n",
              "    </tr>\n",
              "    <tr>\n",
              "      <th>HI</th>\n",
              "      <td>2.438593e+05</td>\n",
              "    </tr>\n",
              "    <tr>\n",
              "      <th>SC</th>\n",
              "      <td>2.593030e+05</td>\n",
              "    </tr>\n",
              "    <tr>\n",
              "      <th>NM</th>\n",
              "      <td>3.331104e+05</td>\n",
              "    </tr>\n",
              "    <tr>\n",
              "      <th>CT</th>\n",
              "      <td>4.368139e+05</td>\n",
              "    </tr>\n",
              "    <tr>\n",
              "      <th>KY</th>\n",
              "      <td>6.631093e+05</td>\n",
              "    </tr>\n",
              "    <tr>\n",
              "      <th>AZ</th>\n",
              "      <td>6.977719e+05</td>\n",
              "    </tr>\n",
              "    <tr>\n",
              "      <th>IN</th>\n",
              "      <td>7.324635e+05</td>\n",
              "    </tr>\n",
              "    <tr>\n",
              "      <th>MT</th>\n",
              "      <td>7.517509e+05</td>\n",
              "    </tr>\n",
              "    <tr>\n",
              "      <th>UT</th>\n",
              "      <td>8.411747e+05</td>\n",
              "    </tr>\n",
              "    <tr>\n",
              "      <th>MD</th>\n",
              "      <td>9.662792e+05</td>\n",
              "    </tr>\n",
              "    <tr>\n",
              "      <th>LA</th>\n",
              "      <td>1.002615e+06</td>\n",
              "    </tr>\n",
              "    <tr>\n",
              "      <th>AK</th>\n",
              "      <td>1.121153e+06</td>\n",
              "    </tr>\n",
              "    <tr>\n",
              "      <th>DE</th>\n",
              "      <td>1.373023e+06</td>\n",
              "    </tr>\n",
              "    <tr>\n",
              "      <th>ME</th>\n",
              "      <td>1.479039e+06</td>\n",
              "    </tr>\n",
              "    <tr>\n",
              "      <th>MA</th>\n",
              "      <td>1.704656e+06</td>\n",
              "    </tr>\n",
              "    <tr>\n",
              "      <th>VT</th>\n",
              "      <td>2.152534e+06</td>\n",
              "    </tr>\n",
              "    <tr>\n",
              "      <th>WA</th>\n",
              "      <td>2.577842e+06</td>\n",
              "    </tr>\n",
              "    <tr>\n",
              "      <th>MN</th>\n",
              "      <td>2.601747e+06</td>\n",
              "    </tr>\n",
              "    <tr>\n",
              "      <th>MI</th>\n",
              "      <td>4.133154e+06</td>\n",
              "    </tr>\n",
              "    <tr>\n",
              "      <th>TN</th>\n",
              "      <td>4.219726e+06</td>\n",
              "    </tr>\n",
              "    <tr>\n",
              "      <th>IL</th>\n",
              "      <td>7.125641e+06</td>\n",
              "    </tr>\n",
              "    <tr>\n",
              "      <th>OR</th>\n",
              "      <td>8.740372e+06</td>\n",
              "    </tr>\n",
              "    <tr>\n",
              "      <th>NH</th>\n",
              "      <td>1.915033e+07</td>\n",
              "    </tr>\n",
              "    <tr>\n",
              "      <th>NJ</th>\n",
              "      <td>2.777405e+07</td>\n",
              "    </tr>\n",
              "    <tr>\n",
              "      <th>PA</th>\n",
              "      <td>2.987404e+07</td>\n",
              "    </tr>\n",
              "    <tr>\n",
              "      <th>NC</th>\n",
              "      <td>4.171016e+07</td>\n",
              "    </tr>\n",
              "    <tr>\n",
              "      <th>NY</th>\n",
              "      <td>4.520099e+07</td>\n",
              "    </tr>\n",
              "    <tr>\n",
              "      <th>WI</th>\n",
              "      <td>6.053095e+07</td>\n",
              "    </tr>\n",
              "    <tr>\n",
              "      <th>FL</th>\n",
              "      <td>6.561549e+07</td>\n",
              "    </tr>\n",
              "    <tr>\n",
              "      <th>VA</th>\n",
              "      <td>8.044078e+07</td>\n",
              "    </tr>\n",
              "    <tr>\n",
              "      <th>MO</th>\n",
              "      <td>8.096962e+07</td>\n",
              "    </tr>\n",
              "    <tr>\n",
              "      <th>GA</th>\n",
              "      <td>8.771122e+07</td>\n",
              "    </tr>\n",
              "    <tr>\n",
              "      <th>OH</th>\n",
              "      <td>1.157716e+08</td>\n",
              "    </tr>\n",
              "    <tr>\n",
              "      <th>TX</th>\n",
              "      <td>1.175332e+08</td>\n",
              "    </tr>\n",
              "    <tr>\n",
              "      <th>CA</th>\n",
              "      <td>1.224324e+08</td>\n",
              "    </tr>\n",
              "    <tr>\n",
              "      <th>CO</th>\n",
              "      <td>1.239827e+08</td>\n",
              "    </tr>\n",
              "    <tr>\n",
              "      <th>total</th>\n",
              "      <td>1.064420e+09</td>\n",
              "    </tr>\n",
              "  </tbody>\n",
              "</table>\n",
              "</div>"
            ],
            "text/plain": [
              "            barrels\n",
              "state              \n",
              "ND     2.211951e+04\n",
              "SD     2.485863e+04\n",
              "AR     3.727473e+04\n",
              "WV     3.878253e+04\n",
              "RI     5.960757e+04\n",
              "OK     9.048504e+04\n",
              "DC     9.324498e+04\n",
              "WY     9.761818e+04\n",
              "MS     1.103665e+05\n",
              "AL     1.272176e+05\n",
              "NE     1.467734e+05\n",
              "KS     1.700601e+05\n",
              "NV     1.700765e+05\n",
              "IA     1.787404e+05\n",
              "ID     1.985661e+05\n",
              "HI     2.438593e+05\n",
              "SC     2.593030e+05\n",
              "NM     3.331104e+05\n",
              "CT     4.368139e+05\n",
              "KY     6.631093e+05\n",
              "AZ     6.977719e+05\n",
              "IN     7.324635e+05\n",
              "MT     7.517509e+05\n",
              "UT     8.411747e+05\n",
              "MD     9.662792e+05\n",
              "LA     1.002615e+06\n",
              "AK     1.121153e+06\n",
              "DE     1.373023e+06\n",
              "ME     1.479039e+06\n",
              "MA     1.704656e+06\n",
              "VT     2.152534e+06\n",
              "WA     2.577842e+06\n",
              "MN     2.601747e+06\n",
              "MI     4.133154e+06\n",
              "TN     4.219726e+06\n",
              "IL     7.125641e+06\n",
              "OR     8.740372e+06\n",
              "NH     1.915033e+07\n",
              "NJ     2.777405e+07\n",
              "PA     2.987404e+07\n",
              "NC     4.171016e+07\n",
              "NY     4.520099e+07\n",
              "WI     6.053095e+07\n",
              "FL     6.561549e+07\n",
              "VA     8.044078e+07\n",
              "MO     8.096962e+07\n",
              "GA     8.771122e+07\n",
              "OH     1.157716e+08\n",
              "TX     1.175332e+08\n",
              "CA     1.224324e+08\n",
              "CO     1.239827e+08\n",
              "total  1.064420e+09"
            ]
          },
          "metadata": {
            "tags": []
          },
          "execution_count": 65
        }
      ]
    },
    {
      "cell_type": "markdown",
      "metadata": {
        "id": "x-cBXhQ5ObW_"
      },
      "source": [
        "## Análise (pergunta) 3.\n",
        "\n",
        "** Qual foi o mes que mais deu lucro em vendas de barril de cerveja?(a partir da média da taxa)**\n"
      ]
    },
    {
      "cell_type": "code",
      "metadata": {
        "cellView": "form",
        "id": "oka3oIXBnGZH"
      },
      "source": [
        "#@markdown ---\n",
        "#@title Q3. Aponte os principais recursos empregados nesta pergunta aqui:\n",
        "\n",
        "Q3a = \"Mudan\\xE7as de Formato (encode, substrings)\" #@param [\"Entre com uma transformação de dados empregada\", \"Combina dados (merge, join, concat)\", \"Mudanças de Formato (encode, substrings)\", \"Exclusão de Nulos (dropna)\", \"Adiciona Atributo Derivado\"] {type:\"string\"}\n",
        "Q3b = \"Groupby\" #@param [\"Entre com uma seleção de dados empregada\", \"Groupby\", \"nlargest/nsmallest\", \"Select multicondicional\" ] {type:\"string\"}\n",
        "Q3c = \"Entre com uma visualiza\\xE7\\xE3o de dados empregada\" #@param [\"Entre com uma visualização de dados empregada\", \"Evolução dos dados (plot, lineplot)\", \"Distribuição (hist, density, boxplot)\", \"Quantidades e Proporções (bar, pizza)\", \"Relações (scatterplot, pairplot, lmplot, heatmap)\"] {type:\"string\"}\n",
        "Q3d = \"Entre com um recurso de visualiza\\xE7\\xE3o empregado\" #@param [\"Entre com um recurso de visualização empregado\", \"Subplots\", \"Múltiplas classes\", \"Ornamentos (cores, markers etc.)\", \"Inclusão de Texto no gráfico\", \"Alteração de Escalas\"] {type:\"string\"}\n"
      ],
      "execution_count": null,
      "outputs": []
    },
    {
      "cell_type": "code",
      "metadata": {
        "id": "Y6yIyATiUXOg"
      },
      "source": [
        "b=b.replace('$7/$18 per barrel',12)\n"
      ],
      "execution_count": null,
      "outputs": []
    },
    {
      "cell_type": "code",
      "metadata": {
        "id": "zAnAR32CXk1e"
      },
      "source": [
        "b=b.replace('$3.50/$16 per barrel',9)"
      ],
      "execution_count": null,
      "outputs": []
    },
    {
      "cell_type": "code",
      "metadata": {
        "colab": {
          "base_uri": "https://localhost:8080/",
          "height": 677
        },
        "id": "a_0g0nCZXnRd",
        "outputId": "dcab0e1b-9063-4e56-cc9b-74d5378dfbb2"
      },
      "source": [
        "b"
      ],
      "execution_count": null,
      "outputs": [
        {
          "output_type": "execute_result",
          "data": {
            "text/html": [
              "<div>\n",
              "<style scoped>\n",
              "    .dataframe tbody tr th:only-of-type {\n",
              "        vertical-align: middle;\n",
              "    }\n",
              "\n",
              "    .dataframe tbody tr th {\n",
              "        vertical-align: top;\n",
              "    }\n",
              "\n",
              "    .dataframe thead th {\n",
              "        text-align: right;\n",
              "    }\n",
              "</style>\n",
              "<table border=\"1\" class=\"dataframe\">\n",
              "  <thead>\n",
              "    <tr style=\"text-align: right;\">\n",
              "      <th></th>\n",
              "      <th>data_type</th>\n",
              "      <th>tax_status</th>\n",
              "      <th>year</th>\n",
              "      <th>month</th>\n",
              "      <th>type</th>\n",
              "      <th>month_current</th>\n",
              "      <th>month_prior_year</th>\n",
              "      <th>ytd_current</th>\n",
              "      <th>ytd_prior_year</th>\n",
              "      <th>tax_rate</th>\n",
              "    </tr>\n",
              "  </thead>\n",
              "  <tbody>\n",
              "    <tr>\n",
              "      <th>0</th>\n",
              "      <td>Barrels Produced</td>\n",
              "      <td>Totals</td>\n",
              "      <td>2008</td>\n",
              "      <td>1</td>\n",
              "      <td>Production</td>\n",
              "      <td>16211480</td>\n",
              "      <td>15880125</td>\n",
              "      <td>16211480.0</td>\n",
              "      <td>15880125.0</td>\n",
              "      <td>12</td>\n",
              "    </tr>\n",
              "    <tr>\n",
              "      <th>1</th>\n",
              "      <td>Barrels Produced</td>\n",
              "      <td>Taxable</td>\n",
              "      <td>2008</td>\n",
              "      <td>1</td>\n",
              "      <td>In bottles and cans</td>\n",
              "      <td>13222104</td>\n",
              "      <td>12824278</td>\n",
              "      <td>13222104.0</td>\n",
              "      <td>12824278.0</td>\n",
              "      <td>12</td>\n",
              "    </tr>\n",
              "    <tr>\n",
              "      <th>2</th>\n",
              "      <td>Barrels Produced</td>\n",
              "      <td>Taxable</td>\n",
              "      <td>2008</td>\n",
              "      <td>1</td>\n",
              "      <td>In barrels and kegs</td>\n",
              "      <td>1371239</td>\n",
              "      <td>1357372</td>\n",
              "      <td>1371239.0</td>\n",
              "      <td>1357372.0</td>\n",
              "      <td>12</td>\n",
              "    </tr>\n",
              "    <tr>\n",
              "      <th>3</th>\n",
              "      <td>Barrels Produced</td>\n",
              "      <td>Taxable</td>\n",
              "      <td>2008</td>\n",
              "      <td>1</td>\n",
              "      <td>Tax Determined, Premises Use</td>\n",
              "      <td>7426</td>\n",
              "      <td>8419</td>\n",
              "      <td>7426.0</td>\n",
              "      <td>8419.0</td>\n",
              "      <td>12</td>\n",
              "    </tr>\n",
              "    <tr>\n",
              "      <th>4</th>\n",
              "      <td>Barrels Produced</td>\n",
              "      <td>Sub Total Taxable</td>\n",
              "      <td>2008</td>\n",
              "      <td>1</td>\n",
              "      <td>Sub Total Taxable</td>\n",
              "      <td>14600769</td>\n",
              "      <td>14190069</td>\n",
              "      <td>14600769.0</td>\n",
              "      <td>14190069.0</td>\n",
              "      <td>12</td>\n",
              "    </tr>\n",
              "    <tr>\n",
              "      <th>...</th>\n",
              "      <td>...</td>\n",
              "      <td>...</td>\n",
              "      <td>...</td>\n",
              "      <td>...</td>\n",
              "      <td>...</td>\n",
              "      <td>...</td>\n",
              "      <td>...</td>\n",
              "      <td>...</td>\n",
              "      <td>...</td>\n",
              "      <td>...</td>\n",
              "    </tr>\n",
              "    <tr>\n",
              "      <th>1575</th>\n",
              "      <td>Barrels Produced</td>\n",
              "      <td>Tax Free</td>\n",
              "      <td>2019</td>\n",
              "      <td>12</td>\n",
              "      <td>For vessels and aircraft</td>\n",
              "      <td>1</td>\n",
              "      <td>2</td>\n",
              "      <td>34440.0</td>\n",
              "      <td>2633.0</td>\n",
              "      <td>9</td>\n",
              "    </tr>\n",
              "    <tr>\n",
              "      <th>1576</th>\n",
              "      <td>Barrels Produced</td>\n",
              "      <td>Tax Free</td>\n",
              "      <td>2019</td>\n",
              "      <td>12</td>\n",
              "      <td>Consumed on brewery premises</td>\n",
              "      <td>23886</td>\n",
              "      <td>30149</td>\n",
              "      <td>115240.0</td>\n",
              "      <td>123207.0</td>\n",
              "      <td>9</td>\n",
              "    </tr>\n",
              "    <tr>\n",
              "      <th>1577</th>\n",
              "      <td>Barrels Produced</td>\n",
              "      <td>Sub Total Tax-Free</td>\n",
              "      <td>2019</td>\n",
              "      <td>12</td>\n",
              "      <td>Sub Total Tax-Free</td>\n",
              "      <td>384956</td>\n",
              "      <td>389456</td>\n",
              "      <td>5216540.0</td>\n",
              "      <td>7035336.0</td>\n",
              "      <td>9</td>\n",
              "    </tr>\n",
              "    <tr>\n",
              "      <th>1578</th>\n",
              "      <td>Barrels Produced</td>\n",
              "      <td>Totals</td>\n",
              "      <td>2019</td>\n",
              "      <td>12</td>\n",
              "      <td>Total Removals</td>\n",
              "      <td>14210261</td>\n",
              "      <td>13507134</td>\n",
              "      <td>172293772.0</td>\n",
              "      <td>174239390.0</td>\n",
              "      <td>9</td>\n",
              "    </tr>\n",
              "    <tr>\n",
              "      <th>1579</th>\n",
              "      <td>Barrels Produced</td>\n",
              "      <td>Totals</td>\n",
              "      <td>2019</td>\n",
              "      <td>12</td>\n",
              "      <td>Stocks On Hand end-of-month:</td>\n",
              "      <td>9717235</td>\n",
              "      <td>10012579</td>\n",
              "      <td>NaN</td>\n",
              "      <td>NaN</td>\n",
              "      <td>9</td>\n",
              "    </tr>\n",
              "  </tbody>\n",
              "</table>\n",
              "<p>1580 rows × 10 columns</p>\n",
              "</div>"
            ],
            "text/plain": [
              "             data_type          tax_status  ...  ytd_prior_year  tax_rate\n",
              "0     Barrels Produced              Totals  ...      15880125.0        12\n",
              "1     Barrels Produced             Taxable  ...      12824278.0        12\n",
              "2     Barrels Produced             Taxable  ...       1357372.0        12\n",
              "3     Barrels Produced             Taxable  ...          8419.0        12\n",
              "4     Barrels Produced   Sub Total Taxable  ...      14190069.0        12\n",
              "...                ...                 ...  ...             ...       ...\n",
              "1575  Barrels Produced            Tax Free  ...          2633.0         9\n",
              "1576  Barrels Produced            Tax Free  ...        123207.0         9\n",
              "1577  Barrels Produced  Sub Total Tax-Free  ...       7035336.0         9\n",
              "1578  Barrels Produced              Totals  ...     174239390.0         9\n",
              "1579  Barrels Produced              Totals  ...             NaN         9\n",
              "\n",
              "[1580 rows x 10 columns]"
            ]
          },
          "metadata": {
            "tags": []
          },
          "execution_count": 69
        }
      ]
    },
    {
      "cell_type": "code",
      "metadata": {
        "colab": {
          "base_uri": "https://localhost:8080/",
          "height": 419
        },
        "id": "stvswMe0ZPei",
        "outputId": "4ce582be-f776-491e-930c-8cc976fd3dc5"
      },
      "source": [
        "bff=b[['tax_rate','year']]\n",
        "bff"
      ],
      "execution_count": null,
      "outputs": [
        {
          "output_type": "execute_result",
          "data": {
            "text/html": [
              "<div>\n",
              "<style scoped>\n",
              "    .dataframe tbody tr th:only-of-type {\n",
              "        vertical-align: middle;\n",
              "    }\n",
              "\n",
              "    .dataframe tbody tr th {\n",
              "        vertical-align: top;\n",
              "    }\n",
              "\n",
              "    .dataframe thead th {\n",
              "        text-align: right;\n",
              "    }\n",
              "</style>\n",
              "<table border=\"1\" class=\"dataframe\">\n",
              "  <thead>\n",
              "    <tr style=\"text-align: right;\">\n",
              "      <th></th>\n",
              "      <th>tax_rate</th>\n",
              "      <th>year</th>\n",
              "    </tr>\n",
              "  </thead>\n",
              "  <tbody>\n",
              "    <tr>\n",
              "      <th>0</th>\n",
              "      <td>12</td>\n",
              "      <td>2008</td>\n",
              "    </tr>\n",
              "    <tr>\n",
              "      <th>1</th>\n",
              "      <td>12</td>\n",
              "      <td>2008</td>\n",
              "    </tr>\n",
              "    <tr>\n",
              "      <th>2</th>\n",
              "      <td>12</td>\n",
              "      <td>2008</td>\n",
              "    </tr>\n",
              "    <tr>\n",
              "      <th>3</th>\n",
              "      <td>12</td>\n",
              "      <td>2008</td>\n",
              "    </tr>\n",
              "    <tr>\n",
              "      <th>4</th>\n",
              "      <td>12</td>\n",
              "      <td>2008</td>\n",
              "    </tr>\n",
              "    <tr>\n",
              "      <th>...</th>\n",
              "      <td>...</td>\n",
              "      <td>...</td>\n",
              "    </tr>\n",
              "    <tr>\n",
              "      <th>1575</th>\n",
              "      <td>9</td>\n",
              "      <td>2019</td>\n",
              "    </tr>\n",
              "    <tr>\n",
              "      <th>1576</th>\n",
              "      <td>9</td>\n",
              "      <td>2019</td>\n",
              "    </tr>\n",
              "    <tr>\n",
              "      <th>1577</th>\n",
              "      <td>9</td>\n",
              "      <td>2019</td>\n",
              "    </tr>\n",
              "    <tr>\n",
              "      <th>1578</th>\n",
              "      <td>9</td>\n",
              "      <td>2019</td>\n",
              "    </tr>\n",
              "    <tr>\n",
              "      <th>1579</th>\n",
              "      <td>9</td>\n",
              "      <td>2019</td>\n",
              "    </tr>\n",
              "  </tbody>\n",
              "</table>\n",
              "<p>1580 rows × 2 columns</p>\n",
              "</div>"
            ],
            "text/plain": [
              "      tax_rate  year\n",
              "0           12  2008\n",
              "1           12  2008\n",
              "2           12  2008\n",
              "3           12  2008\n",
              "4           12  2008\n",
              "...        ...   ...\n",
              "1575         9  2019\n",
              "1576         9  2019\n",
              "1577         9  2019\n",
              "1578         9  2019\n",
              "1579         9  2019\n",
              "\n",
              "[1580 rows x 2 columns]"
            ]
          },
          "metadata": {
            "tags": []
          },
          "execution_count": 70
        }
      ]
    },
    {
      "cell_type": "code",
      "metadata": {
        "colab": {
          "base_uri": "https://localhost:8080/",
          "height": 452
        },
        "id": "yczMC7aBa_ls",
        "outputId": "4ced03f6-bbb0-45b0-9109-e2d5baa43e69"
      },
      "source": [
        "fc=bff.groupby('year').mean()\n",
        "fc"
      ],
      "execution_count": null,
      "outputs": [
        {
          "output_type": "execute_result",
          "data": {
            "text/html": [
              "<div>\n",
              "<style scoped>\n",
              "    .dataframe tbody tr th:only-of-type {\n",
              "        vertical-align: middle;\n",
              "    }\n",
              "\n",
              "    .dataframe tbody tr th {\n",
              "        vertical-align: top;\n",
              "    }\n",
              "\n",
              "    .dataframe thead th {\n",
              "        text-align: right;\n",
              "    }\n",
              "</style>\n",
              "<table border=\"1\" class=\"dataframe\">\n",
              "  <thead>\n",
              "    <tr style=\"text-align: right;\">\n",
              "      <th></th>\n",
              "      <th>tax_rate</th>\n",
              "    </tr>\n",
              "    <tr>\n",
              "      <th>year</th>\n",
              "      <th></th>\n",
              "    </tr>\n",
              "  </thead>\n",
              "  <tbody>\n",
              "    <tr>\n",
              "      <th>2008</th>\n",
              "      <td>12</td>\n",
              "    </tr>\n",
              "    <tr>\n",
              "      <th>2009</th>\n",
              "      <td>12</td>\n",
              "    </tr>\n",
              "    <tr>\n",
              "      <th>2010</th>\n",
              "      <td>12</td>\n",
              "    </tr>\n",
              "    <tr>\n",
              "      <th>2011</th>\n",
              "      <td>12</td>\n",
              "    </tr>\n",
              "    <tr>\n",
              "      <th>2012</th>\n",
              "      <td>12</td>\n",
              "    </tr>\n",
              "    <tr>\n",
              "      <th>2013</th>\n",
              "      <td>12</td>\n",
              "    </tr>\n",
              "    <tr>\n",
              "      <th>2014</th>\n",
              "      <td>12</td>\n",
              "    </tr>\n",
              "    <tr>\n",
              "      <th>2015</th>\n",
              "      <td>12</td>\n",
              "    </tr>\n",
              "    <tr>\n",
              "      <th>2016</th>\n",
              "      <td>12</td>\n",
              "    </tr>\n",
              "    <tr>\n",
              "      <th>2017</th>\n",
              "      <td>12</td>\n",
              "    </tr>\n",
              "    <tr>\n",
              "      <th>2018</th>\n",
              "      <td>9</td>\n",
              "    </tr>\n",
              "    <tr>\n",
              "      <th>2019</th>\n",
              "      <td>9</td>\n",
              "    </tr>\n",
              "  </tbody>\n",
              "</table>\n",
              "</div>"
            ],
            "text/plain": [
              "      tax_rate\n",
              "year          \n",
              "2008        12\n",
              "2009        12\n",
              "2010        12\n",
              "2011        12\n",
              "2012        12\n",
              "2013        12\n",
              "2014        12\n",
              "2015        12\n",
              "2016        12\n",
              "2017        12\n",
              "2018         9\n",
              "2019         9"
            ]
          },
          "metadata": {
            "tags": []
          },
          "execution_count": 71
        }
      ]
    },
    {
      "cell_type": "code",
      "metadata": {
        "colab": {
          "base_uri": "https://localhost:8080/",
          "height": 390
        },
        "id": "QjvMW3I3bemz",
        "outputId": "5d7a2c52-bcdb-4bd4-cfa8-cb5ec4bd4b37"
      },
      "source": [
        "aff=a[['month_current','year']].groupby('year').sum()\n",
        "aff"
      ],
      "execution_count": null,
      "outputs": [
        {
          "output_type": "execute_result",
          "data": {
            "text/html": [
              "<div>\n",
              "<style scoped>\n",
              "    .dataframe tbody tr th:only-of-type {\n",
              "        vertical-align: middle;\n",
              "    }\n",
              "\n",
              "    .dataframe tbody tr th {\n",
              "        vertical-align: top;\n",
              "    }\n",
              "\n",
              "    .dataframe thead th {\n",
              "        text-align: right;\n",
              "    }\n",
              "</style>\n",
              "<table border=\"1\" class=\"dataframe\">\n",
              "  <thead>\n",
              "    <tr style=\"text-align: right;\">\n",
              "      <th></th>\n",
              "      <th>month_current</th>\n",
              "    </tr>\n",
              "    <tr>\n",
              "      <th>year</th>\n",
              "      <th></th>\n",
              "    </tr>\n",
              "  </thead>\n",
              "  <tbody>\n",
              "    <tr>\n",
              "      <th>2008</th>\n",
              "      <td>21131158803</td>\n",
              "    </tr>\n",
              "    <tr>\n",
              "      <th>2009</th>\n",
              "      <td>20073336450</td>\n",
              "    </tr>\n",
              "    <tr>\n",
              "      <th>2010</th>\n",
              "      <td>19980287649</td>\n",
              "    </tr>\n",
              "    <tr>\n",
              "      <th>2011</th>\n",
              "      <td>19529804787</td>\n",
              "    </tr>\n",
              "    <tr>\n",
              "      <th>2012</th>\n",
              "      <td>20370364452</td>\n",
              "    </tr>\n",
              "    <tr>\n",
              "      <th>2013</th>\n",
              "      <td>19751688822</td>\n",
              "    </tr>\n",
              "    <tr>\n",
              "      <th>2014</th>\n",
              "      <td>19730375556</td>\n",
              "    </tr>\n",
              "    <tr>\n",
              "      <th>2015</th>\n",
              "      <td>19186281903</td>\n",
              "    </tr>\n",
              "    <tr>\n",
              "      <th>2016</th>\n",
              "      <td>534686190</td>\n",
              "    </tr>\n",
              "    <tr>\n",
              "      <th>2017</th>\n",
              "      <td>390565473</td>\n",
              "    </tr>\n",
              "  </tbody>\n",
              "</table>\n",
              "</div>"
            ],
            "text/plain": [
              "      month_current\n",
              "year               \n",
              "2008    21131158803\n",
              "2009    20073336450\n",
              "2010    19980287649\n",
              "2011    19529804787\n",
              "2012    20370364452\n",
              "2013    19751688822\n",
              "2014    19730375556\n",
              "2015    19186281903\n",
              "2016      534686190\n",
              "2017      390565473"
            ]
          },
          "metadata": {
            "tags": []
          },
          "execution_count": 72
        }
      ]
    },
    {
      "cell_type": "code",
      "metadata": {
        "id": "euDwyTciquAk"
      },
      "source": [
        "cd=aff['month_current']*fc['tax_rate']\n",
        "cd=cd.dropna()"
      ],
      "execution_count": null,
      "outputs": []
    },
    {
      "cell_type": "code",
      "metadata": {
        "colab": {
          "base_uri": "https://localhost:8080/"
        },
        "id": "QCW0Mfchsw6u",
        "outputId": "27826b1d-4813-4601-c50d-c13fa7905ec5"
      },
      "source": [
        "cd.sort_values()"
      ],
      "execution_count": null,
      "outputs": [
        {
          "output_type": "execute_result",
          "data": {
            "text/plain": [
              "year\n",
              "2017    4.686786e+09\n",
              "2016    6.416234e+09\n",
              "2015    2.302354e+11\n",
              "2011    2.343577e+11\n",
              "2014    2.367645e+11\n",
              "2013    2.370203e+11\n",
              "2010    2.397635e+11\n",
              "2009    2.408800e+11\n",
              "2012    2.444444e+11\n",
              "2008    2.535739e+11\n",
              "dtype: float64"
            ]
          },
          "metadata": {
            "tags": []
          },
          "execution_count": 74
        }
      ]
    },
    {
      "cell_type": "code",
      "metadata": {
        "id": "pMoGG3kxuJ49"
      },
      "source": [
        ""
      ],
      "execution_count": null,
      "outputs": []
    },
    {
      "cell_type": "markdown",
      "metadata": {
        "id": "Xf_2fvLPPbPV"
      },
      "source": [
        "## Análise (pergunta) 4.\n",
        "\n",
        "**Qual o percentual de cada ano em relação ao numero de barris total?**\n",
        "\n"
      ]
    },
    {
      "cell_type": "code",
      "metadata": {
        "cellView": "form",
        "id": "mkuapb7znH-H"
      },
      "source": [
        "#@markdown ---\n",
        "#@title Q4. Aponte os principais recursos empregados nesta pergunta aqui:\n",
        "\n",
        "Q4a = \"Combina dados (merge, join, concat)\" #@param [\"Entre com uma transformação de dados empregada\", \"Combina dados (merge, join, concat)\", \"Mudanças de Formato (encode, substrings)\", \"Exclusão de Nulos (dropna)\", \"Adiciona Atributo Derivado\"] {type:\"string\"}\n",
        "Q4b = \"Groupby\" #@param [\"Entre com uma seleção de dados empregada\", \"Groupby\", \"nlargest/nsmallest\", \"Select multicondicional\" ] {type:\"string\"}\n",
        "Q4c = \"Entre com uma visualiza\\xE7\\xE3o de dados empregada\" #@param [\"Entre com uma visualização de dados empregada\", \"Evolução dos dados (plot, lineplot)\", \"Distribuição (hist, density, boxplot)\", \"Quantidades e Proporções (bar, pizza)\", \"Relações (scatterplot, pairplot, lmplot, heatmap)\"] {type:\"string\"}\n",
        "Q4d = \"Altera\\xE7\\xE3o de Escalas\" #@param [\"Entre com um recurso de visualização empregado\", \"Subplots\", \"Múltiplas classes\", \"Ornamentos (cores, markers etc.)\", \"Inclusão de Texto no gráfico\", \"Alteração de Escalas\"] {type:\"string\"}\n"
      ],
      "execution_count": null,
      "outputs": []
    },
    {
      "cell_type": "code",
      "metadata": {
        "colab": {
          "base_uri": "https://localhost:8080/",
          "height": 452
        },
        "id": "u3mj5aiancwt",
        "outputId": "96cf679a-dc6b-41c9-9618-5aea44b5f194"
      },
      "source": [
        "df=d.groupby('year').sum()\n",
        "df"
      ],
      "execution_count": null,
      "outputs": [
        {
          "output_type": "execute_result",
          "data": {
            "text/html": [
              "<div>\n",
              "<style scoped>\n",
              "    .dataframe tbody tr th:only-of-type {\n",
              "        vertical-align: middle;\n",
              "    }\n",
              "\n",
              "    .dataframe tbody tr th {\n",
              "        vertical-align: top;\n",
              "    }\n",
              "\n",
              "    .dataframe thead th {\n",
              "        text-align: right;\n",
              "    }\n",
              "</style>\n",
              "<table border=\"1\" class=\"dataframe\">\n",
              "  <thead>\n",
              "    <tr style=\"text-align: right;\">\n",
              "      <th></th>\n",
              "      <th>barrels</th>\n",
              "    </tr>\n",
              "    <tr>\n",
              "      <th>year</th>\n",
              "      <th></th>\n",
              "    </tr>\n",
              "  </thead>\n",
              "  <tbody>\n",
              "    <tr>\n",
              "      <th>2008</th>\n",
              "      <td>3.693657e+08</td>\n",
              "    </tr>\n",
              "    <tr>\n",
              "      <th>2009</th>\n",
              "      <td>3.667230e+08</td>\n",
              "    </tr>\n",
              "    <tr>\n",
              "      <th>2010</th>\n",
              "      <td>3.624233e+08</td>\n",
              "    </tr>\n",
              "    <tr>\n",
              "      <th>2011</th>\n",
              "      <td>3.561490e+08</td>\n",
              "    </tr>\n",
              "    <tr>\n",
              "      <th>2012</th>\n",
              "      <td>3.608027e+08</td>\n",
              "    </tr>\n",
              "    <tr>\n",
              "      <th>2013</th>\n",
              "      <td>3.561728e+08</td>\n",
              "    </tr>\n",
              "    <tr>\n",
              "      <th>2014</th>\n",
              "      <td>3.547738e+08</td>\n",
              "    </tr>\n",
              "    <tr>\n",
              "      <th>2015</th>\n",
              "      <td>3.520821e+08</td>\n",
              "    </tr>\n",
              "    <tr>\n",
              "      <th>2016</th>\n",
              "      <td>3.488605e+08</td>\n",
              "    </tr>\n",
              "    <tr>\n",
              "      <th>2017</th>\n",
              "      <td>3.413586e+08</td>\n",
              "    </tr>\n",
              "    <tr>\n",
              "      <th>2018</th>\n",
              "      <td>3.337783e+08</td>\n",
              "    </tr>\n",
              "    <tr>\n",
              "      <th>2019</th>\n",
              "      <td>3.341545e+08</td>\n",
              "    </tr>\n",
              "  </tbody>\n",
              "</table>\n",
              "</div>"
            ],
            "text/plain": [
              "           barrels\n",
              "year              \n",
              "2008  3.693657e+08\n",
              "2009  3.667230e+08\n",
              "2010  3.624233e+08\n",
              "2011  3.561490e+08\n",
              "2012  3.608027e+08\n",
              "2013  3.561728e+08\n",
              "2014  3.547738e+08\n",
              "2015  3.520821e+08\n",
              "2016  3.488605e+08\n",
              "2017  3.413586e+08\n",
              "2018  3.337783e+08\n",
              "2019  3.341545e+08"
            ]
          },
          "metadata": {
            "tags": []
          },
          "execution_count": 76
        }
      ]
    },
    {
      "cell_type": "code",
      "metadata": {
        "id": "VRuH8yIhn3vD"
      },
      "source": [
        "ds=d.barrels.sum()"
      ],
      "execution_count": null,
      "outputs": []
    },
    {
      "cell_type": "code",
      "metadata": {
        "id": "JR36O2BpoEGM",
        "colab": {
          "base_uri": "https://localhost:8080/",
          "height": 452
        },
        "outputId": "8c9b3872-8680-4920-8966-2216d1a9c116"
      },
      "source": [
        "porcentagem=[(d[d.year==2008]['barrels'].sum()/ds)*100,(d[d.year==2009]['barrels'].sum()/ds)*100,(d[d.year==2010]['barrels'].sum()/ds)*100,(d[d.year==2011]['barrels'].sum()/ds)*100,(d[d.year==2012]['barrels'].sum()/ds)*100,(d[d.year==2013]['barrels'].sum()/ds)*100,(d[d.year==2014]['barrels'].sum()/ds)*100,(d[d.year==2015]['barrels'].sum()/ds)*100,(d[d.year==2016]['barrels'].sum()/ds)*100,(d[d.year==2017]['barrels'].sum()/ds)*100,(d[d.year==2018]['barrels'].sum()/ds)*100,(d[d.year==2019]['barrels'].sum()/ds)*100]\n",
        "df['porcentagem']=porcentagem\n",
        "df"
      ],
      "execution_count": null,
      "outputs": [
        {
          "output_type": "execute_result",
          "data": {
            "text/html": [
              "<div>\n",
              "<style scoped>\n",
              "    .dataframe tbody tr th:only-of-type {\n",
              "        vertical-align: middle;\n",
              "    }\n",
              "\n",
              "    .dataframe tbody tr th {\n",
              "        vertical-align: top;\n",
              "    }\n",
              "\n",
              "    .dataframe thead th {\n",
              "        text-align: right;\n",
              "    }\n",
              "</style>\n",
              "<table border=\"1\" class=\"dataframe\">\n",
              "  <thead>\n",
              "    <tr style=\"text-align: right;\">\n",
              "      <th></th>\n",
              "      <th>barrels</th>\n",
              "      <th>porcentagem</th>\n",
              "    </tr>\n",
              "    <tr>\n",
              "      <th>year</th>\n",
              "      <th></th>\n",
              "      <th></th>\n",
              "    </tr>\n",
              "  </thead>\n",
              "  <tbody>\n",
              "    <tr>\n",
              "      <th>2008</th>\n",
              "      <td>3.693657e+08</td>\n",
              "      <td>8.718354</td>\n",
              "    </tr>\n",
              "    <tr>\n",
              "      <th>2009</th>\n",
              "      <td>3.667230e+08</td>\n",
              "      <td>8.655978</td>\n",
              "    </tr>\n",
              "    <tr>\n",
              "      <th>2010</th>\n",
              "      <td>3.624233e+08</td>\n",
              "      <td>8.554489</td>\n",
              "    </tr>\n",
              "    <tr>\n",
              "      <th>2011</th>\n",
              "      <td>3.561490e+08</td>\n",
              "      <td>8.406394</td>\n",
              "    </tr>\n",
              "    <tr>\n",
              "      <th>2012</th>\n",
              "      <td>3.608027e+08</td>\n",
              "      <td>8.516237</td>\n",
              "    </tr>\n",
              "    <tr>\n",
              "      <th>2013</th>\n",
              "      <td>3.561728e+08</td>\n",
              "      <td>8.406956</td>\n",
              "    </tr>\n",
              "    <tr>\n",
              "      <th>2014</th>\n",
              "      <td>3.547738e+08</td>\n",
              "      <td>8.373935</td>\n",
              "    </tr>\n",
              "    <tr>\n",
              "      <th>2015</th>\n",
              "      <td>3.520821e+08</td>\n",
              "      <td>8.310400</td>\n",
              "    </tr>\n",
              "    <tr>\n",
              "      <th>2016</th>\n",
              "      <td>3.488605e+08</td>\n",
              "      <td>8.234359</td>\n",
              "    </tr>\n",
              "    <tr>\n",
              "      <th>2017</th>\n",
              "      <td>3.413586e+08</td>\n",
              "      <td>8.057287</td>\n",
              "    </tr>\n",
              "    <tr>\n",
              "      <th>2018</th>\n",
              "      <td>3.337783e+08</td>\n",
              "      <td>7.878366</td>\n",
              "    </tr>\n",
              "    <tr>\n",
              "      <th>2019</th>\n",
              "      <td>3.341545e+08</td>\n",
              "      <td>7.887244</td>\n",
              "    </tr>\n",
              "  </tbody>\n",
              "</table>\n",
              "</div>"
            ],
            "text/plain": [
              "           barrels  porcentagem\n",
              "year                           \n",
              "2008  3.693657e+08     8.718354\n",
              "2009  3.667230e+08     8.655978\n",
              "2010  3.624233e+08     8.554489\n",
              "2011  3.561490e+08     8.406394\n",
              "2012  3.608027e+08     8.516237\n",
              "2013  3.561728e+08     8.406956\n",
              "2014  3.547738e+08     8.373935\n",
              "2015  3.520821e+08     8.310400\n",
              "2016  3.488605e+08     8.234359\n",
              "2017  3.413586e+08     8.057287\n",
              "2018  3.337783e+08     7.878366\n",
              "2019  3.341545e+08     7.887244"
            ]
          },
          "metadata": {
            "tags": []
          },
          "execution_count": 93
        }
      ]
    },
    {
      "cell_type": "code",
      "metadata": {
        "id": "8mufxM2M5rCa"
      },
      "source": [
        "anos=list(range(2008,2020))"
      ],
      "execution_count": null,
      "outputs": []
    },
    {
      "cell_type": "code",
      "metadata": {
        "colab": {
          "base_uri": "https://localhost:8080/"
        },
        "id": "EWmNHoN94aOF",
        "outputId": "a82f03c1-9c88-4774-bdf5-6f1c9900d918"
      },
      "source": [
        "for i in anos:\n",
        "  \n",
        "  print(((d[d.year==i]['barrels'].sum())/ds)*100)  "
      ],
      "execution_count": null,
      "outputs": [
        {
          "output_type": "stream",
          "text": [
            "8.718354294518026\n",
            "8.655977935036644\n",
            "8.554488899537851\n",
            "8.406394305982397\n",
            "8.51623708738809\n",
            "8.406955798482171\n",
            "8.373935222286665\n",
            "8.310400262354156\n",
            "8.234359095098503\n",
            "8.0572874958664\n",
            "7.878365781439214\n",
            "7.887243822009878\n"
          ],
          "name": "stdout"
        }
      ]
    },
    {
      "cell_type": "code",
      "metadata": {
        "colab": {
          "base_uri": "https://localhost:8080/",
          "height": 452
        },
        "id": "T59TiqMWtYFH",
        "outputId": "ed91a3e8-b829-440d-8104-66fe7518297a"
      },
      "source": [
        "df=df.drop(columns=['porcentagem'])\n",
        "df"
      ],
      "execution_count": null,
      "outputs": [
        {
          "output_type": "execute_result",
          "data": {
            "text/html": [
              "<div>\n",
              "<style scoped>\n",
              "    .dataframe tbody tr th:only-of-type {\n",
              "        vertical-align: middle;\n",
              "    }\n",
              "\n",
              "    .dataframe tbody tr th {\n",
              "        vertical-align: top;\n",
              "    }\n",
              "\n",
              "    .dataframe thead th {\n",
              "        text-align: right;\n",
              "    }\n",
              "</style>\n",
              "<table border=\"1\" class=\"dataframe\">\n",
              "  <thead>\n",
              "    <tr style=\"text-align: right;\">\n",
              "      <th></th>\n",
              "      <th>barrels</th>\n",
              "    </tr>\n",
              "    <tr>\n",
              "      <th>year</th>\n",
              "      <th></th>\n",
              "    </tr>\n",
              "  </thead>\n",
              "  <tbody>\n",
              "    <tr>\n",
              "      <th>2008</th>\n",
              "      <td>3.693657e+08</td>\n",
              "    </tr>\n",
              "    <tr>\n",
              "      <th>2009</th>\n",
              "      <td>3.667230e+08</td>\n",
              "    </tr>\n",
              "    <tr>\n",
              "      <th>2010</th>\n",
              "      <td>3.624233e+08</td>\n",
              "    </tr>\n",
              "    <tr>\n",
              "      <th>2011</th>\n",
              "      <td>3.561490e+08</td>\n",
              "    </tr>\n",
              "    <tr>\n",
              "      <th>2012</th>\n",
              "      <td>3.608027e+08</td>\n",
              "    </tr>\n",
              "    <tr>\n",
              "      <th>2013</th>\n",
              "      <td>3.561728e+08</td>\n",
              "    </tr>\n",
              "    <tr>\n",
              "      <th>2014</th>\n",
              "      <td>3.547738e+08</td>\n",
              "    </tr>\n",
              "    <tr>\n",
              "      <th>2015</th>\n",
              "      <td>3.520821e+08</td>\n",
              "    </tr>\n",
              "    <tr>\n",
              "      <th>2016</th>\n",
              "      <td>3.488605e+08</td>\n",
              "    </tr>\n",
              "    <tr>\n",
              "      <th>2017</th>\n",
              "      <td>3.413586e+08</td>\n",
              "    </tr>\n",
              "    <tr>\n",
              "      <th>2018</th>\n",
              "      <td>3.337783e+08</td>\n",
              "    </tr>\n",
              "    <tr>\n",
              "      <th>2019</th>\n",
              "      <td>3.341545e+08</td>\n",
              "    </tr>\n",
              "  </tbody>\n",
              "</table>\n",
              "</div>"
            ],
            "text/plain": [
              "           barrels\n",
              "year              \n",
              "2008  3.693657e+08\n",
              "2009  3.667230e+08\n",
              "2010  3.624233e+08\n",
              "2011  3.561490e+08\n",
              "2012  3.608027e+08\n",
              "2013  3.561728e+08\n",
              "2014  3.547738e+08\n",
              "2015  3.520821e+08\n",
              "2016  3.488605e+08\n",
              "2017  3.413586e+08\n",
              "2018  3.337783e+08\n",
              "2019  3.341545e+08"
            ]
          },
          "metadata": {
            "tags": []
          },
          "execution_count": 96
        }
      ]
    },
    {
      "cell_type": "markdown",
      "metadata": {
        "id": "1Pr_xUW_PpVR"
      },
      "source": [
        "## Análise (pergunta) 5.\n",
        "\n",
        "**Qual o mes que mais vendeu?**\n",
        "\n",
        "**...**. ..."
      ]
    },
    {
      "cell_type": "code",
      "metadata": {
        "cellView": "form",
        "id": "3zr8PjZnnJHI"
      },
      "source": [
        "#@markdown ---\n",
        "#@title Q5. Aponte os principais recursos empregados nesta pergunta aqui:\n",
        "\n",
        "Q5a = \"Combina dados (merge, join, concat)\" #@param [\"Entre com uma transformação de dados empregada\", \"Combina dados (merge, join, concat)\", \"Mudanças de Formato (encode, substrings)\", \"Exclusão de Nulos (dropna)\", \"Adiciona Atributo Derivado\"] {type:\"string\"}\n",
        "Q5b = \"Groupby\" #@param [\"Entre com uma seleção de dados empregada\", \"Groupby\", \"nlargest/nsmallest\", \"Select multicondicional\" ] {type:\"string\"}\n",
        "Q5c = \"Entre com uma visualiza\\xE7\\xE3o de dados empregada\" #@param [\"Entre com uma visualização de dados empregada\", \"Evolução dos dados (plot, lineplot)\", \"Distribuição (hist, density, boxplot)\", \"Quantidades e Proporções (bar, pizza)\", \"Relações (scatterplot, pairplot, lmplot, heatmap)\"] {type:\"string\"}\n",
        "Q5d = \"Entre com um recurso de visualiza\\xE7\\xE3o empregado\" #@param [\"Entre com um recurso de visualização empregado\", \"Subplots\", \"Múltiplas classes\", \"Ornamentos (cores, markers etc.)\", \"Inclusão de Texto no gráfico\", \"Alteração de Escalas\"] {type:\"string\"}\n"
      ],
      "execution_count": null,
      "outputs": []
    },
    {
      "cell_type": "code",
      "metadata": {
        "id": "pL0x4e94PpVS",
        "colab": {
          "base_uri": "https://localhost:8080/",
          "height": 452
        },
        "outputId": "b3f94cb7-23bf-4a0b-d9bb-528ff25d480c"
      },
      "source": [
        "af=a.pivot_table(index=['month'],columns=['material_type'],values='month_current')\n",
        "af"
      ],
      "execution_count": null,
      "outputs": [
        {
          "output_type": "execute_result",
          "data": {
            "text/html": [
              "<div>\n",
              "<style scoped>\n",
              "    .dataframe tbody tr th:only-of-type {\n",
              "        vertical-align: middle;\n",
              "    }\n",
              "\n",
              "    .dataframe tbody tr th {\n",
              "        vertical-align: top;\n",
              "    }\n",
              "\n",
              "    .dataframe thead th {\n",
              "        text-align: right;\n",
              "    }\n",
              "</style>\n",
              "<table border=\"1\" class=\"dataframe\">\n",
              "  <thead>\n",
              "    <tr style=\"text-align: right;\">\n",
              "      <th>material_type</th>\n",
              "      <th>Grain Products</th>\n",
              "      <th>Non-Grain Products</th>\n",
              "      <th>Total Grain products</th>\n",
              "      <th>Total Non-Grain products</th>\n",
              "      <th>Total Used</th>\n",
              "    </tr>\n",
              "    <tr>\n",
              "      <th>month</th>\n",
              "      <th></th>\n",
              "      <th></th>\n",
              "      <th></th>\n",
              "      <th></th>\n",
              "      <th></th>\n",
              "    </tr>\n",
              "  </thead>\n",
              "  <tbody>\n",
              "    <tr>\n",
              "      <th>1</th>\n",
              "      <td>74740889.94</td>\n",
              "      <td>1.634347e+07</td>\n",
              "      <td>373704449.7</td>\n",
              "      <td>65373899.0</td>\n",
              "      <td>439078348.7</td>\n",
              "    </tr>\n",
              "    <tr>\n",
              "      <th>2</th>\n",
              "      <td>69748613.08</td>\n",
              "      <td>1.603619e+07</td>\n",
              "      <td>348743065.4</td>\n",
              "      <td>64144759.1</td>\n",
              "      <td>412887824.5</td>\n",
              "    </tr>\n",
              "    <tr>\n",
              "      <th>3</th>\n",
              "      <td>79704831.92</td>\n",
              "      <td>1.923509e+07</td>\n",
              "      <td>398524159.6</td>\n",
              "      <td>76940364.0</td>\n",
              "      <td>475464523.6</td>\n",
              "    </tr>\n",
              "    <tr>\n",
              "      <th>4</th>\n",
              "      <td>76879109.86</td>\n",
              "      <td>1.931572e+07</td>\n",
              "      <td>384395549.3</td>\n",
              "      <td>77262860.9</td>\n",
              "      <td>461658410.2</td>\n",
              "    </tr>\n",
              "    <tr>\n",
              "      <th>5</th>\n",
              "      <td>80887602.68</td>\n",
              "      <td>2.008631e+07</td>\n",
              "      <td>404438013.4</td>\n",
              "      <td>80345250.7</td>\n",
              "      <td>484783264.1</td>\n",
              "    </tr>\n",
              "    <tr>\n",
              "      <th>6</th>\n",
              "      <td>84337982.82</td>\n",
              "      <td>2.040348e+07</td>\n",
              "      <td>421689914.1</td>\n",
              "      <td>81613923.8</td>\n",
              "      <td>503303837.9</td>\n",
              "    </tr>\n",
              "    <tr>\n",
              "      <th>7</th>\n",
              "      <td>81351931.04</td>\n",
              "      <td>1.969207e+07</td>\n",
              "      <td>406759655.2</td>\n",
              "      <td>78768287.5</td>\n",
              "      <td>485527942.7</td>\n",
              "    </tr>\n",
              "    <tr>\n",
              "      <th>8</th>\n",
              "      <td>77852916.50</td>\n",
              "      <td>1.826914e+07</td>\n",
              "      <td>389264582.5</td>\n",
              "      <td>73076553.7</td>\n",
              "      <td>462341136.2</td>\n",
              "    </tr>\n",
              "    <tr>\n",
              "      <th>9</th>\n",
              "      <td>75493628.28</td>\n",
              "      <td>1.657838e+07</td>\n",
              "      <td>377468141.4</td>\n",
              "      <td>66313508.5</td>\n",
              "      <td>443781649.9</td>\n",
              "    </tr>\n",
              "    <tr>\n",
              "      <th>10</th>\n",
              "      <td>71103093.96</td>\n",
              "      <td>1.580724e+07</td>\n",
              "      <td>355515469.8</td>\n",
              "      <td>63228964.4</td>\n",
              "      <td>418744434.2</td>\n",
              "    </tr>\n",
              "    <tr>\n",
              "      <th>11</th>\n",
              "      <td>63185509.32</td>\n",
              "      <td>1.424339e+07</td>\n",
              "      <td>315927546.6</td>\n",
              "      <td>56973572.7</td>\n",
              "      <td>372901119.3</td>\n",
              "    </tr>\n",
              "    <tr>\n",
              "      <th>12</th>\n",
              "      <td>59411953.08</td>\n",
              "      <td>2.460485e+07</td>\n",
              "      <td>297059765.4</td>\n",
              "      <td>98419412.8</td>\n",
              "      <td>395479178.2</td>\n",
              "    </tr>\n",
              "  </tbody>\n",
              "</table>\n",
              "</div>"
            ],
            "text/plain": [
              "material_type  Grain Products  ...   Total Used\n",
              "month                          ...             \n",
              "1                 74740889.94  ...  439078348.7\n",
              "2                 69748613.08  ...  412887824.5\n",
              "3                 79704831.92  ...  475464523.6\n",
              "4                 76879109.86  ...  461658410.2\n",
              "5                 80887602.68  ...  484783264.1\n",
              "6                 84337982.82  ...  503303837.9\n",
              "7                 81351931.04  ...  485527942.7\n",
              "8                 77852916.50  ...  462341136.2\n",
              "9                 75493628.28  ...  443781649.9\n",
              "10                71103093.96  ...  418744434.2\n",
              "11                63185509.32  ...  372901119.3\n",
              "12                59411953.08  ...  395479178.2\n",
              "\n",
              "[12 rows x 5 columns]"
            ]
          },
          "metadata": {
            "tags": []
          },
          "execution_count": 98
        }
      ]
    },
    {
      "cell_type": "code",
      "metadata": {
        "colab": {
          "base_uri": "https://localhost:8080/",
          "height": 344
        },
        "id": "5UhIBwwzz0yg",
        "outputId": "2762f8a7-d28e-47a3-a11c-4690ec82a212"
      },
      "source": [
        "import seaborn as sns\n",
        "sns.lineplot(a.month,a.month_current);\n"
      ],
      "execution_count": null,
      "outputs": [
        {
          "output_type": "stream",
          "text": [
            "/usr/local/lib/python3.7/dist-packages/seaborn/_decorators.py:43: FutureWarning: Pass the following variables as keyword args: x, y. From version 0.12, the only valid positional argument will be `data`, and passing other arguments without an explicit keyword will result in an error or misinterpretation.\n",
            "  FutureWarning\n"
          ],
          "name": "stderr"
        },
        {
          "output_type": "display_data",
          "data": {
            "image/png": "[encoded data removed]",
            "text/plain": [
              "<Figure size 432x288 with 1 Axes>"
            ]
          },
          "metadata": {
            "tags": [],
            "needs_background": "light"
          }
        }
      ]
    },
    {
      "cell_type": "markdown",
      "metadata": {
        "id": "56Lu4QWzQGuM"
      },
      "source": [
        "## Análise (pergunta) 6.\n",
        "\n",
        "**Qual a correlação entre os meses do ano e a produção de cerveja(separada por cada tipo e o total)**\n",
        "\n",
        "**...**. ..."
      ]
    },
    {
      "cell_type": "code",
      "metadata": {
        "cellView": "form",
        "id": "EndZK57xnKGP"
      },
      "source": [
        "#@markdown ---\n",
        "#@title Q6. Aponte os principais recursos empregados nesta pergunta aqui:\n",
        "\n",
        "Q6a = \"Combina dados (merge, join, concat)\" #@param [\"Entre com uma transformação de dados empregada\", \"Combina dados (merge, join, concat)\", \"Mudanças de Formato (encode, substrings)\", \"Exclusão de Nulos (dropna)\", \"Adiciona Atributo Derivado\"] {type:\"string\"}\n",
        "Q6b = \"Groupby\" #@param [\"Entre com uma seleção de dados empregada\", \"Groupby\", \"nlargest/nsmallest\", \"Select multicondicional\" ] {type:\"string\"}\n",
        "Q6c = \"Rela\\xE7\\xF5es (scatterplot, pairplot, lmplot, heatmap)\" #@param [\"Entre com uma visualização de dados empregada\", \"Evolução dos dados (plot, lineplot)\", \"Distribuição (hist, density, boxplot)\", \"Quantidades e Proporções (bar, pizza)\", \"Relações (scatterplot, pairplot, lmplot, heatmap)\"] {type:\"string\"}\n",
        "Q6d = \"Inclus\\xE3o de Texto no gr\\xE1fico\" #@param [\"Entre com um recurso de visualização empregado\", \"Subplots\", \"Múltiplas classes\", \"Ornamentos (cores, markers etc.)\", \"Inclusão de Texto no gráfico\", \"Alteração de Escalas\"] {type:\"string\"}\n"
      ],
      "execution_count": null,
      "outputs": []
    },
    {
      "cell_type": "code",
      "metadata": {
        "id": "8_DuxVOJQGuN",
        "colab": {
          "base_uri": "https://localhost:8080/",
          "height": 351
        },
        "outputId": "e297f3a2-d04e-45e1-b164-b4f79e7d2dfc"
      },
      "source": [
        "sns.scatterplot(a.month_current,a['type'])"
      ],
      "execution_count": null,
      "outputs": [
        {
          "output_type": "stream",
          "text": [
            "/usr/local/lib/python3.7/dist-packages/seaborn/_decorators.py:43: FutureWarning: Pass the following variables as keyword args: x, y. From version 0.12, the only valid positional argument will be `data`, and passing other arguments without an explicit keyword will result in an error or misinterpretation.\n",
            "  FutureWarning\n"
          ],
          "name": "stderr"
        },
        {
          "output_type": "execute_result",
          "data": {
            "text/plain": [
              "<matplotlib.axes._subplots.AxesSubplot at 0x7fd8861db890>"
            ]
          },
          "metadata": {
            "tags": []
          },
          "execution_count": 103
        },
        {
          "output_type": "display_data",
          "data": {
            "image/png": "[encoded data removed]",
            "text/plain": [
              "<Figure size 432x288 with 1 Axes>"
            ]
          },
          "metadata": {
            "tags": [],
            "needs_background": "light"
          }
        }
      ]
    },
    {
      "cell_type": "markdown",
      "metadata": {
        "id": "844kaIoSQbHH"
      },
      "source": [
        "# Conclusão\n",
        "\n",
        "\n",
        "\n",
        "É possível analisar a partir dos dados que não existe uma diferença gritante entre os anos em relação a produção de cerveja,porém 2008 foi o ano com a maior produção. Dividimos a produção em meses e os meses com mais vendas foram Maio,Junho e Julho.Porém na hora de analisar o montante de dinheiro feito por ano(total de barris de cerveja x o quanto valia o barril), é possível ver que nem sempre os anos que venderam mais tiveram uma média de ganhos maior.\n",
        "\n",
        "É possível observar que as cervejas de:\n",
        "\n",
        " Malte e cerveja com varios grãos são feitas em lotes de 2-4 milhões de barris\n",
        "\n",
        " Milho,Arroz,Cevada,Trigo,Açucar e as que não contém grãos sao feitas em lotes menores(entre 500 mil a 1.5 milhões)\n",
        "\n",
        "Os Estados que mais produziram cerveja foram em ordem crescente:\n",
        "\n",
        "5º-GA\t8.771122e+07 \n",
        "\n",
        "4º-OH\t1.157716e+08 \n",
        "\n",
        "3º-TX\t1.175332e+08 \n",
        "\n",
        "2º-CA\t1.224324e+08 \n",
        "\n",
        "1º-CO\t1.239827e+08 \n",
        "\n",
        "A partir disso conseguimos ver que existe uma grande diferença entre o estado da Georgia(5°lugar) e de Ohio(4°lugar),com quase 30 milhões de barris de cerveja de diferença porém a partir de Ohio a diferença diminui consíderavelmente, a ponto de a diferença entre Georgia e Ohio ser maior do que Ohio e Colorado(1º lugar)\n",
        "\n"
      ]
    },
    {
      "cell_type": "markdown",
      "metadata": {
        "id": "8crUBC3IQ3U_"
      },
      "source": [
        "---"
      ]
    }
  ]
}